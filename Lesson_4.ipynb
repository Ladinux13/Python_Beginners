{
 "cells": [
  {
   "cell_type": "code",
   "execution_count": 1,
   "metadata": {
    "collapsed": true
   },
   "outputs": [],
   "source": [
    "# 2.4: Functions"
   ]
  },
  {
   "cell_type": "code",
   "execution_count": 2,
   "metadata": {
    "collapsed": true
   },
   "outputs": [],
   "source": [
    "# 2.4.1: Defining custom functions"
   ]
  },
  {
   "cell_type": "code",
   "execution_count": 3,
   "metadata": {
    "collapsed": true
   },
   "outputs": [],
   "source": [
    "# 2.4.1.1: Simple function\n",
    "def hello_world():\n",
    "    return 'hello world'"
   ]
  },
  {
   "cell_type": "code",
   "execution_count": 4,
   "metadata": {},
   "outputs": [
    {
     "data": {
      "text/plain": [
       "'hello world'"
      ]
     },
     "execution_count": 4,
     "metadata": {},
     "output_type": "execute_result"
    }
   ],
   "source": [
    "hello_world()"
   ]
  },
  {
   "cell_type": "code",
   "execution_count": 5,
   "metadata": {
    "collapsed": true
   },
   "outputs": [],
   "source": [
    "# 2.4.1.2: Empty function\n",
    "def nothing(x):\n",
    "    pass"
   ]
  },
  {
   "cell_type": "code",
   "execution_count": 6,
   "metadata": {
    "collapsed": true
   },
   "outputs": [],
   "source": [
    "# 2.4.1.3: Emulating the VLOOKUP function in Excel without loops\n",
    "def VLOOKUP(age, cutoffs, left):\n",
    "    if age <= min(cutoffs):\n",
    "        return min(cutoffs)\n",
    "    elif age >= max(cutoffs):\n",
    "        return max(cutoffs)\n",
    "    else:\n",
    "        greater_than_age = list(map(lambda x: age < x, cutoffs))\n",
    "        first_index = greater_than_age.index(True)\n",
    "        if left:\n",
    "            first_index = first_index - 1\n",
    "        return cutoffs[first_index]"
   ]
  },
  {
   "cell_type": "code",
   "execution_count": 7,
   "metadata": {},
   "outputs": [
    {
     "data": {
      "text/plain": [
       "[(-0.5, 1),\n",
       " (0.0, 1),\n",
       " (0.5, 1),\n",
       " (1.0, 1),\n",
       " (1.5, 1),\n",
       " (2.0, 1),\n",
       " (2.5, 1),\n",
       " (3.0, 3),\n",
       " (3.5, 3),\n",
       " (4.0, 3),\n",
       " (4.5, 3),\n",
       " (5.0, 3),\n",
       " (5.5, 3),\n",
       " (6.0, 3),\n",
       " (6.5, 3),\n",
       " (7.0, 7),\n",
       " (7.5, 7),\n",
       " (8.0, 7),\n",
       " (8.5, 7),\n",
       " (9.0, 7),\n",
       " (9.5, 7)]"
      ]
     },
     "execution_count": 7,
     "metadata": {},
     "output_type": "execute_result"
    }
   ],
   "source": [
    "cutoffs = [1, 3, 7]\n",
    "inputs = list(range(-1, 20))\n",
    "inputs = list(map(lambda x: x/2, inputs))\n",
    "results = list(map(lambda x: VLOOKUP(x, cutoffs, True), inputs))\n",
    "[(a, b) for a, b in zip(inputs, results)]"
   ]
  },
  {
   "cell_type": "code",
   "execution_count": 8,
   "metadata": {
    "collapsed": true
   },
   "outputs": [],
   "source": [
    "# 2.4.2: Function performance"
   ]
  },
  {
   "cell_type": "code",
   "execution_count": 9,
   "metadata": {
    "collapsed": true
   },
   "outputs": [],
   "source": [
    "# 2.4.2.1: Measuring execution time using the time module"
   ]
  },
  {
   "cell_type": "code",
   "execution_count": 10,
   "metadata": {
    "collapsed": true
   },
   "outputs": [],
   "source": [
    "import time"
   ]
  },
  {
   "cell_type": "code",
   "execution_count": 11,
   "metadata": {
    "collapsed": true
   },
   "outputs": [],
   "source": [
    "def sleep_for(x):\n",
    "    time.sleep(x)\n",
    "    return 'done'"
   ]
  },
  {
   "cell_type": "code",
   "execution_count": 12,
   "metadata": {},
   "outputs": [
    {
     "name": "stdout",
     "output_type": "stream",
     "text": [
      "5.005537033081055\n"
     ]
    }
   ],
   "source": [
    "start = time.time()\n",
    "sleep_for(5)\n",
    "end = time.time()\n",
    "elapsed = end - start\n",
    "print(elapsed)"
   ]
  }
 ],
 "metadata": {
  "kernelspec": {
   "display_name": "Python 3",
   "language": "python",
   "name": "python3"
  },
  "language_info": {
   "codemirror_mode": {
    "name": "ipython",
    "version": 3
   },
   "file_extension": ".py",
   "mimetype": "text/x-python",
   "name": "python",
   "nbconvert_exporter": "python",
   "pygments_lexer": "ipython3",
   "version": "3.6.2"
  }
 },
 "nbformat": 4,
 "nbformat_minor": 2
}

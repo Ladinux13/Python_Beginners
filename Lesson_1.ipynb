{
 "cells": [
  {
   "cell_type": "code",
   "execution_count": 1,
   "metadata": {
    "collapsed": true
   },
   "outputs": [],
   "source": [
    "# 2.1: Built-in atomic data types in Python"
   ]
  },
  {
   "cell_type": "code",
   "execution_count": 2,
   "metadata": {
    "collapsed": true
   },
   "outputs": [],
   "source": [
    "# 2.1.1: Numbers - floats and integers"
   ]
  },
  {
   "cell_type": "code",
   "execution_count": 3,
   "metadata": {},
   "outputs": [
    {
     "name": "stdout",
     "output_type": "stream",
     "text": [
      "55.5\n",
      "<class 'float'>\n"
     ]
    }
   ],
   "source": [
    "# 2.1.1.1: Declare a float\n",
    "x = 55.5\n",
    "print(x)\n",
    "print(type(x))"
   ]
  },
  {
   "cell_type": "code",
   "execution_count": 4,
   "metadata": {},
   "outputs": [
    {
     "name": "stdout",
     "output_type": "stream",
     "text": [
      "55\n",
      "<class 'int'>\n"
     ]
    }
   ],
   "source": [
    "# 2.1.1.2: Convert float to integer\n",
    "x_int = int(x)\n",
    "print(x_int)\n",
    "print(type(x_int))"
   ]
  },
  {
   "cell_type": "code",
   "execution_count": 5,
   "metadata": {},
   "outputs": [
    {
     "name": "stdout",
     "output_type": "stream",
     "text": [
      "55.0\n",
      "<class 'float'>\n"
     ]
    }
   ],
   "source": [
    "# 2.1.1.3: Convert integer to float\n",
    "x_float = float(x_int)\n",
    "print(x_float)\n",
    "print(type(x_float))"
   ]
  },
  {
   "cell_type": "code",
   "execution_count": 6,
   "metadata": {},
   "outputs": [
    {
     "name": "stdout",
     "output_type": "stream",
     "text": [
      "25\n",
      "25\n"
     ]
    }
   ],
   "source": [
    "# 2.1.1.4: Basic arithmetic for numbers\n",
    "x = 3\n",
    "y = 4\n",
    "z = 5\n",
    "result_lhs = x**2 + y**2 # power operator is not ^\n",
    "result_rhs = z**2\n",
    "print(result_lhs)\n",
    "print(result_rhs)"
   ]
  },
  {
   "cell_type": "code",
   "execution_count": 7,
   "metadata": {},
   "outputs": [
    {
     "name": "stdout",
     "output_type": "stream",
     "text": [
      "2.0\n"
     ]
    }
   ],
   "source": [
    "# 2.1.1.5: Use of the math module to calculate a square root\n",
    "from math import sqrt\n",
    "x = 4\n",
    "print(sqrt(x))"
   ]
  },
  {
   "cell_type": "code",
   "execution_count": 8,
   "metadata": {},
   "outputs": [
    {
     "name": "stdout",
     "output_type": "stream",
     "text": [
      "0.6826894921370861\n",
      "0.9544997361036414\n",
      "0.9973002039367398\n"
     ]
    }
   ],
   "source": [
    "# 2.1.1.6: Use of the math module to calculate distributions\n",
    "# Verify the 68/95/99.7 rule https://en.wikipedia.org/wiki/68%E2%80%9395%E2%80%9399.7_rule\n",
    "from math import erf\n",
    "cdf_0 = (1 + erf(0 / sqrt(2))) / 2\n",
    "cdf_1 = (1 + erf(1 / sqrt(2))) / 2\n",
    "cdf_2 = (1 + erf(2 / sqrt(2))) / 2\n",
    "cdf_3 = (1 + erf(3 / sqrt(2))) / 2\n",
    "one_std = 2 * (cdf_1 - cdf_0)\n",
    "two_std = 2 * (cdf_2 - cdf_0)\n",
    "three_std = 2 * (cdf_3 - cdf_0)\n",
    "print(one_std)\n",
    "print(two_std)\n",
    "print(three_std)"
   ]
  },
  {
   "cell_type": "code",
   "execution_count": 9,
   "metadata": {},
   "outputs": [
    {
     "name": "stdout",
     "output_type": "stream",
     "text": [
      "3.142\n",
      "$1,000,000.00\n"
     ]
    }
   ],
   "source": [
    "# 2.1.1.7: Number formatting\n",
    "x = 3.14159\n",
    "y = 1000000\n",
    "print('{:.3f}'.format(x)) # print to three decimal places.  Colon designates as format string\n",
    "print('${:,.2f}'.format(y)) # print as financial i.e. dollar sign, 2 decimals and comma thousands separator"
   ]
  },
  {
   "cell_type": "code",
   "execution_count": 10,
   "metadata": {
    "collapsed": true
   },
   "outputs": [],
   "source": [
    "# 2.1.2: Strings"
   ]
  },
  {
   "cell_type": "code",
   "execution_count": 11,
   "metadata": {},
   "outputs": [
    {
     "name": "stdout",
     "output_type": "stream",
     "text": [
      "hi\n",
      "<class 'str'>\n"
     ]
    }
   ],
   "source": [
    "# 2.1.2.1: Declare a string\n",
    "x = \"hi\"\n",
    "print(x)\n",
    "print(type(x))"
   ]
  },
  {
   "cell_type": "code",
   "execution_count": 12,
   "metadata": {},
   "outputs": [
    {
     "name": "stdout",
     "output_type": "stream",
     "text": [
      "1.9\n",
      "<class 'str'>\n",
      "4\n",
      "<class 'str'>\n"
     ]
    }
   ],
   "source": [
    "# 2.1.2.3: Convert to a string\n",
    "x = str(1.9)\n",
    "y = str(4)\n",
    "print(x)\n",
    "print(type(x))\n",
    "print(y)\n",
    "print(type(y))"
   ]
  },
  {
   "cell_type": "code",
   "execution_count": 13,
   "metadata": {},
   "outputs": [
    {
     "name": "stdout",
     "output_type": "stream",
     "text": [
      "A special right triangle has sides 3, 4 and 5\n",
      "A special right triangle has sides 3, 4 and 5\n"
     ]
    }
   ],
   "source": [
    "# 2.1.2.2: String formatting\n",
    "x = \"A special right triangle has sides {first_leg}, {second_leg} and {hypotenuse}\".format(\n",
    "    first_leg=3, second_leg=4, hypotenuse=5)\n",
    "y = \"A special right triangle has sides {}, {} and {}\".format(3, 4, 5) # abbreviated style\n",
    "print(x)\n",
    "print(y)"
   ]
  },
  {
   "cell_type": "code",
   "execution_count": 14,
   "metadata": {},
   "outputs": [
    {
     "name": "stdout",
     "output_type": "stream",
     "text": [
      "123\n",
      "6\n",
      "789\n",
      "12345\n"
     ]
    }
   ],
   "source": [
    "# 2.1.2.3: Using index notation to return substrings - similar to Excel's MID formula\n",
    "x = \"123456789\"\n",
    "print(x[0:3]) # Indexing starts at 0. Second index is one more than the last element of the substring. \n",
    "print(x[5:6]) # A substring can start in the middle of the string\n",
    "print(x[-3:]) # Use a negative in the first index to start from the right\n",
    "print(x[0:-4]) # Use a negative in the second index to eliminate the rightmost elements"
   ]
  },
  {
   "cell_type": "code",
   "execution_count": 15,
   "metadata": {
    "collapsed": true
   },
   "outputs": [],
   "source": [
    "# 2.1.2.4: String split"
   ]
  },
  {
   "cell_type": "code",
   "execution_count": 16,
   "metadata": {
    "collapsed": true
   },
   "outputs": [],
   "source": [
    "# 2.1.3: Dates"
   ]
  },
  {
   "cell_type": "code",
   "execution_count": 17,
   "metadata": {},
   "outputs": [
    {
     "name": "stdout",
     "output_type": "stream",
     "text": [
      "2017-11-02\n",
      "2040-01-01\n",
      "2017\n",
      "11\n",
      "2\n",
      "6\n"
     ]
    }
   ],
   "source": [
    "# 2.1.3.1: Declare a date\n",
    "from datetime import date\n",
    "todays_date = date.today()\n",
    "new_years_2040 = date(2040, 1, 1)\n",
    "print(todays_date)\n",
    "print(new_years_2040)\n",
    "print(todays_date.year)\n",
    "print(todays_date.month)\n",
    "print(todays_date.day)\n",
    "print(new_years_2040.weekday()) # Monday is 0 and Sunday is 6"
   ]
  },
  {
   "cell_type": "code",
   "execution_count": 18,
   "metadata": {},
   "outputs": [
    {
     "name": "stdout",
     "output_type": "stream",
     "text": [
      "<class 'datetime.timedelta'>\n",
      "8095\n",
      "286\n"
     ]
    }
   ],
   "source": [
    "# 2.1.3.2: Find the days between dates\n",
    "date_difference = new_years_2040 - todays_date\n",
    "print(type(date_difference))\n",
    "print(date_difference.days)\n",
    "month_difference = (new_years_2040.year - todays_date.year)*12 - (new_years_2040.month - todays_date.month)\n",
    "print(month_difference)"
   ]
  },
  {
   "cell_type": "code",
   "execution_count": 19,
   "metadata": {},
   "outputs": [
    {
     "name": "stdout",
     "output_type": "stream",
     "text": [
      "2018-02-10\n",
      "2017-11-02\n",
      "2019-11-02\n"
     ]
    }
   ],
   "source": [
    "# 2.1.3.3: Add/subtract days, weeks, years\n",
    "from datetime import timedelta\n",
    "today_plus_100_days = timedelta(days=100) + todays_date # Can also use weeks instead of days\n",
    "print(today_plus_100_days)\n",
    "print(todays_date)\n",
    "years_to_add = 2\n",
    "print(date(todays_date.year + years_to_add, todays_date.month, todays_date.day)) # Add two years"
   ]
  },
  {
   "cell_type": "code",
   "execution_count": 20,
   "metadata": {},
   "outputs": [
    {
     "name": "stdout",
     "output_type": "stream",
     "text": [
      "2017\n",
      "17\n",
      "Thursday\n",
      "November\n",
      "Thursday, November 02 2017\n"
     ]
    }
   ],
   "source": [
    "# 2.1.3.4: Format dates\n",
    "print(date.strftime(todays_date, '%Y')) # %Y is long year\n",
    "print(date.strftime(todays_date, '%y')) # %y is short year\n",
    "print(date.strftime(todays_date, '%A')) # %A is weekday\n",
    "print(date.strftime(todays_date, '%B')) # %B is month\n",
    "print(date.strftime(todays_date, '%A, %B %d %Y')) # Full description"
   ]
  },
  {
   "cell_type": "code",
   "execution_count": 21,
   "metadata": {
    "collapsed": true
   },
   "outputs": [],
   "source": [
    "# 2.1.4: Booleans"
   ]
  },
  {
   "cell_type": "code",
   "execution_count": 22,
   "metadata": {},
   "outputs": [
    {
     "name": "stdout",
     "output_type": "stream",
     "text": [
      "True\n",
      "False\n",
      "True\n",
      "False\n",
      "True\n",
      "<class 'bool'>\n"
     ]
    }
   ],
   "source": [
    "# 2.1.4.1: Test equality\n",
    "boolean_result = 2 == 2 # double equal sign is equality (same as in R)\n",
    "print(boolean_result)\n",
    "print(not boolean_result)\n",
    "print(boolean_result and True) # other logical statments are the same as english\n",
    "print(boolean_result and False)\n",
    "print(boolean_result or False)\n",
    "print(type(boolean_result))"
   ]
  },
  {
   "cell_type": "code",
   "execution_count": 23,
   "metadata": {},
   "outputs": [
    {
     "name": "stdout",
     "output_type": "stream",
     "text": [
      "None\n",
      "<class 'NoneType'>\n"
     ]
    }
   ],
   "source": [
    "# 2.1.4.2: None type\n",
    "x = None # Similar to NULL in R or SQL\n",
    "print(x)\n",
    "print(type(x))"
   ]
  },
  {
   "cell_type": "code",
   "execution_count": null,
   "metadata": {
    "collapsed": true
   },
   "outputs": [],
   "source": []
  }
 ],
 "metadata": {
  "kernelspec": {
   "display_name": "Python 3",
   "language": "python",
   "name": "python3"
  },
  "language_info": {
   "codemirror_mode": {
    "name": "ipython",
    "version": 3
   },
   "file_extension": ".py",
   "mimetype": "text/x-python",
   "name": "python",
   "nbconvert_exporter": "python",
   "pygments_lexer": "ipython3",
   "version": "3.6.2"
  }
 },
 "nbformat": 4,
 "nbformat_minor": 2
}

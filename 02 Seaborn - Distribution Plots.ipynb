{
 "cells": [
  {
   "cell_type": "markdown",
   "metadata": {},
   "source": [
    "# Seaborn - Distribution Plots\n",
    "\n",
    "Los objetivos de aprendizaje son:\n",
    "\n",
    "1. ¿Qué es Seaborn?\n",
    "2. Distribution Plots\n",
    "    - Datos\n",
    "    - `sns.histplot()`\n",
    "    - `sns.joinplot()`\n",
    "    - `sns.pairplot()`\n",
    "\n",
    "## ¿Qué es Seaborn?\n",
    "\n",
    "[Seaborn](https://seaborn.pydata.org/) es una librería de visualización de datos construida sobre `Matplotlib`. Seaborn nos brinda una interfaz de alto nivel (poco código) para realizar gráficos estadísticos. \n",
    "\n",
    "El código fuente se encuentra en [github](https://github.com/mwaskom/seaborn).\n",
    "\n"
   ]
  },
  {
   "cell_type": "code",
   "execution_count": null,
   "metadata": {},
   "outputs": [],
   "source": [
    "import matplotlib.pyplot as plt\n",
    "import seaborn as sns\n",
    "sns.set_theme()\n"
   ]
  },
  {
   "cell_type": "markdown",
   "metadata": {},
   "source": [
    "## Distribution Plots\n",
    "\n",
    "Esta clase de gráfico se utiliza sobre variables del tipo numérico, y son una buena alternativa para mostrar la [distribución](https://es.wikipedia.org/wiki/Distribuci%C3%B3n_de_probabilidad) de un conjunto de observaciones.\n",
    "\n",
    "\n",
    "### Datos\n",
    "\n",
    "Seaborn cuenta con datos precargados, en formato Pandas `DataFrame`.\n",
    "\n",
    "Para estos ejemplos usaremos el `DataFrame` `tips`, que contiene información de las propinas que han dejado comensales en un restaurante. Sus columnas son:\n",
    "\n",
    "* `total_bill`: monto total de la comida.\n",
    "* `tip`: monto de la propina.\n",
    "* `sex`: Género de la persona que ha realizado de reserva.\n",
    "* `smoker`: Indica si la reserva fue realizada en el área de fumadores.\n",
    "* `day`: Día de la semana.\n",
    "* `time`: Horario de la comida. \n",
    "* `size`: Número de comensales."
   ]
  },
  {
   "cell_type": "code",
   "execution_count": null,
   "metadata": {},
   "outputs": [],
   "source": [
    "tips = sns.load_dataset('tips')\n",
    "print(\"La Clase de tips es: {}\".format(type(tips)))\n",
    "tips.head()"
   ]
  },
  {
   "cell_type": "markdown",
   "metadata": {},
   "source": [
    "### `sns.histplot()`\n",
    "\n",
    "La función [`sns.histplot()`](https://seaborn.pydata.org/generated/seaborn.histplot.html) se usa para grafica el histograma y [*Kernel density estimation*](https://en.wikipedia.org/wiki/Kernel_density_estimation) de los datos que se pasan como inputs.\n",
    "\n",
    "Regresa una instancia de la clase [`matplotlib.Axes`](https://matplotlib.org/api/axes_api.html#matplotlib.axes.Axes).\n",
    "\n",
    "Los parámetros mínimos son:\n",
    "\n",
    "* `data`: DataFrame que contiene los datos a graficar.\n",
    "* `x`: Variable numérica dentro del DataFrame que graficaremos\n",
    "\n",
    "Algunos de los parámetro opcionales/con valores por defecto son:\n",
    "\n",
    "* `kde`: Mostrar o no el Kernel density estimation\n",
    "* `bins`: Número de barras del histográma."
   ]
  },
  {
   "cell_type": "code",
   "execution_count": null,
   "metadata": {
    "scrolled": false
   },
   "outputs": [],
   "source": [
    "plt.figure(figsize=(10, 6))\n",
    "plot = sns.histplot(data = tips, x = 'tip', kde = True, bins = 25)\n",
    "plot.set_title(\"Histograma & $KDE$ Propinas\")\n",
    "plt.show()"
   ]
  },
  {
   "cell_type": "markdown",
   "metadata": {},
   "source": [
    "###  `sns.joinplot()`\n",
    "\n",
    "La función [`sns.joinplot`](https://seaborn.pydata.org/generated/seaborn.jointplot.html) genera un gráfico que empareja dos variables numéricas.\n",
    "\n",
    "Los parámetros mínimos son:\n",
    "\n",
    "* `data`: Los datos que utilizaremos para generar el gráfico\n",
    "* `x`/`y`: la variable numérica que irá en el eje x/y\n",
    "\n",
    "Algunos de los parámetro opcionales/con valores por defecto son:\n",
    "\n",
    "* `kind`: { “scatter” | “kde” | “hist” | “hex” | “reg” | “resid” }, genera distintos tipos de visualizaciones  \n",
    "* `hue`: genera matices de colores mediante el uso de una variable categórica. \n",
    "\n",
    "Regresa un objeto de la clase [`seaborn.JointGrid`](http://seaborn.pydata.org/generated/seaborn.JointGrid.html#seaborn.JointGrid), lo importante para personalizar el gráfico, es que esta clase es que tiene los siguientes atributos:\n",
    "\n",
    "* `fig`: Una instancia de la clase `matplotlib.figure.Figure`\n",
    "* `ax_joint`: Gráfico del centro es una instancia de la clase [`matplotlib.AxesSubplot`](https://matplotlib.org/3.3.3/api/axes_api.html)\n",
    "* `ax_marg_x`: Gráfico del margen $x$, es una instancia de la clase [`matplotlib.AxesSubplot`](https://matplotlib.org/3.3.3/api/axes_api.html)\n",
    "* `ax_marg_y`: Gráfico del margen $y$, es una instancia de la clase [`matplotlib.AxesSubplot`](https://matplotlib.org/3.3.3/api/axes_api.html)\n"
   ]
  },
  {
   "cell_type": "code",
   "execution_count": null,
   "metadata": {
    "scrolled": false
   },
   "outputs": [],
   "source": [
    "plot = sns.jointplot(\n",
    "    data = tips,\n",
    "    x = 'tip',\n",
    "    y = \"total_bill\",\n",
    "    kind = \"scatter\",\n",
    "    height  = 6,\n",
    "    hue = \"sex\"\n",
    ")\n",
    "plot.fig.suptitle(t = \"Aquí va el título\", x = 0.5, y = 1.01)\n",
    "plot.ax_joint.legend(loc = (0.05,.85))\n",
    "plt.show()"
   ]
  },
  {
   "cell_type": "markdown",
   "metadata": {},
   "source": [
    "### `sns.pairplot()`\n",
    "\n",
    "La función [`sns.pairplot()`](https://seaborn.pydata.org/generated/seaborn.pairplot.html) genera un gráfico que muestra la relación de las variables numéricas por pares. \n",
    "\n",
    "Los parámetros mínimos son:\n",
    "\n",
    "* `data`: Los datos que utilizaremos para generar el gráfico\n",
    "\n",
    "Algunos de los parámetro opcionales/con valores por defecto son:\n",
    "\n",
    "* `hue`: genera matices de colores mediante el uso de una variable categórica.\n",
    "* `diag_kind`: Tipo de gráfico unitario \n",
    "* `corner`: Mostrar sólo la diagonal inferior "
   ]
  },
  {
   "cell_type": "code",
   "execution_count": null,
   "metadata": {
    "scrolled": false
   },
   "outputs": [],
   "source": [
    "plot = sns.pairplot(data = tips, hue = \"sex\", diag_kind = \"hist\", markers = [\"o\",\"D\"])\n",
    "plt.show()"
   ]
  },
  {
   "cell_type": "markdown",
   "metadata": {},
   "source": [
    "La función `sns.pairplot()` regresa un objeto de la clase [`seaborn.PairGrid`](https://seaborn.pydata.org/generated/seaborn.PairGrid.html#seaborn.PairGrid).\n",
    "\n",
    "Podemos personalizar los gráficos de la diagonal:\n",
    "\n",
    "1. llamar al método método [`PairGrid.map_lower()`](https://seaborn.pydata.org/generated/seaborn.PairGrid.map_lower.html) que nos ayuda a aplicar una función sobre la diagonal inferior del gráfico.\n",
    "\n",
    "2. usar la función [`seaborn.kdeplot`](https://seaborn.pydata.org/generated/seaborn.kdeplot.html) que estima la [Función de densidad de probabilidad](https://es.wikipedia.org/wiki/Funci%C3%B3n_de_densidad_de_probabilidad) de una forma no paramétrica."
   ]
  },
  {
   "cell_type": "code",
   "execution_count": null,
   "metadata": {},
   "outputs": [],
   "source": [
    "plot = sns.pairplot(data = tips, hue = \"sex\", diag_kind = \"kde\", markers = [\"o\",\"D\"], height = 6)\n",
    "plot.map_lower(sns.kdeplot, levels = 2)\n",
    "plt.show()"
   ]
  },
  {
   "cell_type": "markdown",
   "metadata": {},
   "source": [
    "## Visualización Teorema del Límite Central\n",
    "\n",
    "El [Teorema del Límite Central](https://es.wikipedia.org/wiki/Teorema_del_l%C3%ADmite_central) es la base de los supuestos de muchos algoritmos de *machine learning* (e.g. Regresión Lineal, GBs, DNN, etc.).\n",
    "\n",
    "si $S_n$ es la suma de $n$ variables aleatorias independientes, e identicamente distribuidas con media y varianza finitas, entonces la función de distribución de $S_n$ se aproxima a una distribución normal. \n",
    "\n",
    "Veamos si se cumple:"
   ]
  },
  {
   "cell_type": "code",
   "execution_count": null,
   "metadata": {},
   "outputs": [],
   "source": [
    "tips.head(3)"
   ]
  },
  {
   "cell_type": "code",
   "execution_count": null,
   "metadata": {},
   "outputs": [],
   "source": [
    "sns.histplot(data = tips, x = \"total_bill\")\n",
    "plt.show()"
   ]
  },
  {
   "cell_type": "markdown",
   "metadata": {},
   "source": [
    "La distribución no parece normal, se parece más a una distribución [Poisson](https://en.wikipedia.org/wiki/Poisson_distribution#:~:text=In%20probability%20theory%20and%20statistics,time%20since%20the%20last%20event.).\n",
    "\n",
    "Pero, si calculamos la media de la variable por el tamaño de la mesa y calculamos una media ponderada"
   ]
  },
  {
   "cell_type": "code",
   "execution_count": null,
   "metadata": {},
   "outputs": [],
   "source": [
    "tips_agg = tips.groupby(\n",
    "    by='size'\n",
    ").agg(\n",
    "    total_bill = (\"total_bill\",\"mean\"),\n",
    "    n = (\"total_bill\", \"count\")\n",
    ")\n",
    "display(tips_agg.head(3))"
   ]
  },
  {
   "cell_type": "code",
   "execution_count": null,
   "metadata": {},
   "outputs": [],
   "source": [
    "sns.kdeplot(data=tips_agg, x=\"total_bill\", weights=\"n\")\n",
    "plt.show()"
   ]
  }
 ],
 "metadata": {
  "kernelspec": {
   "display_name": "Python 3 (ipykernel)",
   "language": "python",
   "name": "python3"
  },
  "language_info": {
   "codemirror_mode": {
    "name": "ipython",
    "version": 3
   },
   "file_extension": ".py",
   "mimetype": "text/x-python",
   "name": "python",
   "nbconvert_exporter": "python",
   "pygments_lexer": "ipython3",
   "version": "3.8.6"
  }
 },
 "nbformat": 4,
 "nbformat_minor": 4
}

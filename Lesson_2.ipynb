{
 "cells": [
  {
   "cell_type": "code",
   "execution_count": 1,
   "metadata": {
    "collapsed": true
   },
   "outputs": [],
   "source": [
    "# 2.2: Built-in data structures"
   ]
  },
  {
   "cell_type": "code",
   "execution_count": 2,
   "metadata": {
    "collapsed": true
   },
   "outputs": [],
   "source": [
    "# 2.2.1: Lists"
   ]
  },
  {
   "cell_type": "code",
   "execution_count": 14,
   "metadata": {},
   "outputs": [
    {
     "name": "stdout",
     "output_type": "stream",
     "text": [
      "[1, 2, 3]\n",
      "<class 'list'>\n",
      "[]\n",
      "[1]\n"
     ]
    }
   ],
   "source": [
    "# 2.2.1.1: Creating lists\n",
    "x = [1, 2, 3] # equivalent to c(1, 2, 3) in R\n",
    "print(x)\n",
    "print(type(x))"
   ]
  },
  {
   "cell_type": "code",
   "execution_count": 4,
   "metadata": {},
   "outputs": [
    {
     "name": "stdout",
     "output_type": "stream",
     "text": [
      "[1, 3, 5, 7, 9, 11, 13, 15, 17, 19, 21, 23, 25, 27, 29]\n",
      "[1, 3, 5, 7, 9, 11, 13, 15, 17, 19, 21, 23, 25, 27, 29]\n"
     ]
    }
   ],
   "source": [
    "# 2.2.1.2: Generating sequence lists with range\n",
    "x = [i for i in range(1, 30, 2)] # range(start, stop, step).  Start is 0 indexed!\n",
    "print(x)\n",
    "y = list(range(1, 30, 2)) # equivalent to seq(start, end, step) in R\n",
    "print(y)"
   ]
  },
  {
   "cell_type": "code",
   "execution_count": null,
   "metadata": {
    "collapsed": true
   },
   "outputs": [],
   "source": [
    "# 2.2.1.2: Accessing elements"
   ]
  },
  {
   "cell_type": "code",
   "execution_count": 31,
   "metadata": {},
   "outputs": [
    {
     "name": "stdout",
     "output_type": "stream",
     "text": [
      "[]\n",
      "[1]\n",
      "[2]\n",
      "[2, 1, 2]\n"
     ]
    }
   ],
   "source": [
    "# 2.2.1.3: Appending, inserting and removing elements from lists\n",
    "y = [] # empty list\n",
    "print(y)\n",
    "y.append(1) # inserts to the end of the list.  occurs in place.  Slow operation.\n",
    "print(y)\n",
    "y.insert(0, 2) # inserts to the begining of the list.  insert(index, value).\n",
    "y.remove(1)\n",
    "print(y)\n",
    "z = [1, 2]\n",
    "y.extend(z) # combines two lists.  Equivalent to list1 + list2\n",
    "print(y)"
   ]
  },
  {
   "cell_type": "code",
   "execution_count": 5,
   "metadata": {},
   "outputs": [
    {
     "name": "stdout",
     "output_type": "stream",
     "text": [
      "15\n",
      "225\n",
      "1\n",
      "29\n"
     ]
    }
   ],
   "source": [
    "# 2.2.1.4: Applying functions to lists\n",
    "print(len(x)) # equivalent to length(c(1, 2, 3)) in R\n",
    "print(sum(x))\n",
    "print(min(x))\n",
    "print(max(x))"
   ]
  },
  {
   "cell_type": "code",
   "execution_count": 32,
   "metadata": {},
   "outputs": [
    {
     "name": "stdout",
     "output_type": "stream",
     "text": [
      "[1, 2, 3, 4, 5, 6, 7, 8, 9, 10]\n",
      "[10, 9, 8, 7, 6, 5, 4, 3, 2, 1]\n",
      "[1, 2, 3, 4, 5, 6, 7, 8, 9, 10]\n"
     ]
    }
   ],
   "source": [
    "# 2.2.1.5: \n",
    "x = list(range(1, 11))\n",
    "print(x)\n",
    "x.reverse() # acts in place\n",
    "print(x)\n",
    "x.sort() # acts in place\n",
    "print(x)"
   ]
  },
  {
   "cell_type": "code",
   "execution_count": null,
   "metadata": {
    "collapsed": true
   },
   "outputs": [],
   "source": [
    "# 2.2.1.6: Map, filter and reduce"
   ]
  },
  {
   "cell_type": "code",
   "execution_count": 6,
   "metadata": {
    "collapsed": true
   },
   "outputs": [],
   "source": [
    "# 2.2.2: Tuples"
   ]
  },
  {
   "cell_type": "code",
   "execution_count": 24,
   "metadata": {},
   "outputs": [
    {
     "name": "stdout",
     "output_type": "stream",
     "text": [
      "(1, 2, 3)\n",
      "<class 'tuple'>\n",
      "(1, 'a', 3)\n",
      "(1, 1, 'a', 3)\n"
     ]
    }
   ],
   "source": [
    "# 2.2.2.1: Creating tuples\n",
    "x = (1, 2, 3)\n",
    "print(x)\n",
    "print(type(x))\n",
    "y = (1, 'a', 3) # mixed types\n",
    "print(y)\n",
    "z = (1, 1, 'a', 3) # duplicates\n",
    "print(z)"
   ]
  },
  {
   "cell_type": "code",
   "execution_count": 33,
   "metadata": {},
   "outputs": [
    {
     "data": {
      "text/plain": [
       "[(0, 0), (2, 1), (4, 2), (6, 3), (8, 4)]"
      ]
     },
     "execution_count": 33,
     "metadata": {},
     "output_type": "execute_result"
    }
   ],
   "source": [
    "# 2.2.2.2: Creating tuples from lists\n",
    "x = list(range(0, 10, 2))\n",
    "y = list(range(0, 5))\n",
    "[(a, b) for a, b in zip(x, y)] # zip is a generator that combines lists"
   ]
  },
  {
   "cell_type": "code",
   "execution_count": 34,
   "metadata": {},
   "outputs": [
    {
     "name": "stdout",
     "output_type": "stream",
     "text": [
      "1\n",
      "2\n"
     ]
    }
   ],
   "source": [
    "# 2.2.2.3: Accessing elements from a tuple\n",
    "x = (1, 2)\n",
    "print(x[0])\n",
    "print(x[1])"
   ]
  },
  {
   "cell_type": "code",
   "execution_count": 8,
   "metadata": {
    "collapsed": true
   },
   "outputs": [],
   "source": [
    "# 2.2.3: Dictionaries"
   ]
  },
  {
   "cell_type": "code",
   "execution_count": 27,
   "metadata": {},
   "outputs": [
    {
     "name": "stdout",
     "output_type": "stream",
     "text": [
      "{'a': 1, 'b': 2, 'c': 3}\n",
      "<class 'dict'>\n",
      "{'a': 1, 'b': 2, 'c': 3}\n",
      "<class 'dict'>\n",
      "{'a': 1, 'b': 2, 'c': 3}\n"
     ]
    }
   ],
   "source": [
    "# 2.2.3.1: Creating dictionaries\n",
    "x = {'a': 1, 'b': 2, 'c': 3} # equivalent to x <- list(c(1, 2, 3)), names(x) <- c('a', 'b', 'c')\n",
    "print(x)\n",
    "print(type(x))\n",
    "y = dict(a=1, b=2, c=3)\n",
    "print(y)\n",
    "print(type(y))\n",
    "z = {'a': 1, 'b': 2, 'c': 3, 'c': 3}\n",
    "print(z)"
   ]
  },
  {
   "cell_type": "code",
   "execution_count": 42,
   "metadata": {
    "scrolled": true
   },
   "outputs": [
    {
     "name": "stdout",
     "output_type": "stream",
     "text": [
      "{'a': 1}\n",
      "{'a': None}\n"
     ]
    }
   ],
   "source": [
    "# 2.2.3.2: Adding and removing elements to a dictionary\n",
    "x = {} # Empty dictionary\n",
    "x['a'] = 1\n",
    "print(x)\n",
    "x.pop('a', None) # remove a key\n",
    "print(x)\n",
    "# access elements also with get"
   ]
  },
  {
   "cell_type": "code",
   "execution_count": null,
   "metadata": {
    "collapsed": true
   },
   "outputs": [],
   "source": [
    "# 2.2.3.3: Dictionary generators\n",
    "x = {'a': 1, 'b': 2}\n",
    "x.keys()\n",
    "x.values()\n",
    "x.items()\n",
    "[(key, value) for key, value in x.items()]"
   ]
  },
  {
   "cell_type": "code",
   "execution_count": 10,
   "metadata": {
    "collapsed": true
   },
   "outputs": [],
   "source": [
    "# 2.2.4: Sets"
   ]
  },
  {
   "cell_type": "code",
   "execution_count": 37,
   "metadata": {},
   "outputs": [
    {
     "name": "stdout",
     "output_type": "stream",
     "text": [
      "{1, 5, 6}\n",
      "<class 'set'>\n"
     ]
    }
   ],
   "source": [
    "# 2.2.4.1: Creating a set\n",
    "x = set([1, 1, 6, 5]) # equivalant to unique(c(1, 1, 6, 5)) in R\n",
    "print(x)\n",
    "print(type(x))"
   ]
  }
 ],
 "metadata": {
  "kernelspec": {
   "display_name": "Python 3",
   "language": "python",
   "name": "python3"
  },
  "language_info": {
   "codemirror_mode": {
    "name": "ipython",
    "version": 3
   },
   "file_extension": ".py",
   "mimetype": "text/x-python",
   "name": "python",
   "nbconvert_exporter": "python",
   "pygments_lexer": "ipython3",
   "version": "3.6.2"
  }
 },
 "nbformat": 4,
 "nbformat_minor": 2
}

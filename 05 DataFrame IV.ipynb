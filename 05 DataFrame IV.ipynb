{
 "cells": [
  {
   "cell_type": "markdown",
   "metadata": {},
   "source": [
    "# DataFrame IV\n",
    "\n",
    "Los objetivos de aprendizaje son:\n",
    "\n",
    "1. Joining DataFrames\n",
    "    + pd.concat()\n",
    "    + merge()\n",
    "2. Exportar Datos\n",
    "    + CSV\n",
    "    + Excel     \n",
    "\n",
    "\n",
    "## 1. Joining DataFrames\n",
    "\n",
    "En ocasiones nos interesa juntar los valores de dos `DataFrames`, Tenemos dos opciones.\n",
    "\n",
    "### pd.concat()\n",
    "\n",
    "Tal y como su nombre nos lo indica, la función [`pd.concat()`](https://pandas.pydata.org/pandas-docs/stable/reference/api/pandas.concat.html) sirve para concatenar dos objetos tales como `Series` o `DataFrame`. Sus parámetros más importantes son:\n",
    "\n",
    "* `objs`: son los `DataFrame`s o `Series` que concatenaremos, los deberemos pasar en formato de lista.\n",
    "* `axis`: Indicamos si la concatenación se hará mediante renglones o columnas.\n",
    "\n"
   ]
  },
  {
   "cell_type": "code",
   "execution_count": null,
   "metadata": {},
   "outputs": [],
   "source": [
    "import numpy as np\n",
    "import pandas as pd\n",
    "\n",
    "week1 = pd.read_csv(\"./Data/pandas/Restaurant - Week 1 Sales.csv\")\n",
    "week2 = pd.read_csv(\"./Data/pandas/Restaurant - Week 2 Sales.csv\")\n",
    "customers = pd.read_csv(\"./Data/pandas/Restaurant - Customers.csv\")\n",
    "foods = pd.read_csv(\"./Data/pandas/Restaurant - Foods.csv\")"
   ]
  },
  {
   "cell_type": "code",
   "execution_count": null,
   "metadata": {},
   "outputs": [],
   "source": [
    "display(week1.head())\n",
    "print(\"Ordenes de la primera semana: {}\".format(week1.shape[0]))\n",
    "display(week2.head())\n",
    "print(\"Ordenes de la segunda semana: {}\".format(week2.shape[0]))"
   ]
  },
  {
   "cell_type": "code",
   "execution_count": null,
   "metadata": {},
   "outputs": [],
   "source": [
    "weeks = pd.concat(\n",
    "    objs = [week1, week2],\n",
    "    axis = 0)"
   ]
  },
  {
   "cell_type": "code",
   "execution_count": null,
   "metadata": {},
   "outputs": [],
   "source": [
    "display(weeks.head())\n",
    "print(\"Las ordenes totales son: {}\".format(weeks.shape[0]))\n",
    "display(weeks.tail())"
   ]
  },
  {
   "cell_type": "markdown",
   "metadata": {},
   "source": [
    "¿Qué ha sucedido con los índices?"
   ]
  },
  {
   "cell_type": "code",
   "execution_count": null,
   "metadata": {},
   "outputs": [],
   "source": [
    "weeks.loc[1]"
   ]
  },
  {
   "cell_type": "markdown",
   "metadata": {},
   "source": [
    "Se han duplicado. Para resolverlo conservando los valores originales de los índices, podemos añadir un segundo índice:"
   ]
  },
  {
   "cell_type": "code",
   "execution_count": null,
   "metadata": {},
   "outputs": [],
   "source": [
    "weeks =pd.concat([week1, week2], keys = [\"w1\", \"w2\"])\n",
    "weeks"
   ]
  },
  {
   "cell_type": "markdown",
   "metadata": {},
   "source": [
    "O reiniciar los índices una vez concatenados los datos:"
   ]
  },
  {
   "cell_type": "code",
   "execution_count": null,
   "metadata": {},
   "outputs": [],
   "source": [
    "weeks = pd.concat([week1, week2], ignore_index = True)\n",
    "weeks"
   ]
  },
  {
   "cell_type": "markdown",
   "metadata": {},
   "source": [
    "## Merge\n",
    "\n",
    "El método [`.merge()`](https://pandas.pydata.org/pandas-docs/stable/reference/api/pandas.DataFrame.merge.html) nos da la oportunidad de unir dos objetos de las clases `DataFrame` o `Series` respetando alguna condición de igualdad entre sus columnas. Para aquellos que han programado previamente en SQL, `.merge()` es el equivalente al `Left, right, inner, outer - join`.\n",
    "\n",
    "Veamos un ejemplo:\n",
    "\n",
    "El `DataFrame` week1 contiene órdenes por cliente. Tanto los clientes `Customer ID` como las comidas `Food ID` están en formato numérico.\n"
   ]
  },
  {
   "cell_type": "code",
   "execution_count": null,
   "metadata": {},
   "outputs": [],
   "source": [
    "week1.head()"
   ]
  },
  {
   "cell_type": "code",
   "execution_count": null,
   "metadata": {},
   "outputs": [],
   "source": [
    "week1.merge( \n",
    "    customers,\n",
    "    how = \"left\",\n",
    "    left_on = [\"Customer ID\"],\n",
    "    right_on = ['ID']\n",
    ")"
   ]
  },
  {
   "cell_type": "markdown",
   "metadata": {},
   "source": [
    "## 2. Exportar Datos\n",
    "\n",
    "Supongamos que queremos guardar en disco el siguiente `DataFrame`:"
   ]
  },
  {
   "cell_type": "code",
   "execution_count": null,
   "metadata": {},
   "outputs": [],
   "source": [
    "week1_customer = week1.merge( \n",
    "    customers[[\"ID\", \"First Name\"]],\n",
    "    how = \"left\",\n",
    "    left_on = [\"Customer ID\"],\n",
    "    right_on = ['ID']).drop(['ID', 'Customer ID'], axis = 1)"
   ]
  },
  {
   "cell_type": "markdown",
   "metadata": {},
   "source": [
    "### csv \n",
    "\n",
    "Para guardarlo en formato csv se puede utilizar el método [`.to_csv()`](https://pandas.pydata.org/pandas-docs/stable/reference/api/pandas.DataFrame.to_csv.html)"
   ]
  },
  {
   "cell_type": "code",
   "execution_count": null,
   "metadata": {},
   "outputs": [],
   "source": [
    "week1_customer.to_csv(\n",
    "    path_or_buf = \"./Data/pandas/week1_customer.csv\")"
   ]
  },
  {
   "cell_type": "markdown",
   "metadata": {},
   "source": [
    "Veamos cómo ha quedado:"
   ]
  },
  {
   "cell_type": "code",
   "execution_count": null,
   "metadata": {
    "scrolled": true
   },
   "outputs": [],
   "source": [
    "pd.read_csv(\"./Data/pandas/week1_customer.csv\").head()"
   ]
  },
  {
   "cell_type": "code",
   "execution_count": null,
   "metadata": {},
   "outputs": [],
   "source": [
    "week1_customer.to_csv(\n",
    "    path_or_buf = \"./Data/pandas/week1_customer_v2.csv\", \n",
    "    index = False\n",
    ")"
   ]
  },
  {
   "cell_type": "code",
   "execution_count": null,
   "metadata": {
    "scrolled": true
   },
   "outputs": [],
   "source": [
    "pd.read_csv(\"./Data/pandas/week1_customer_v2.csv\").head()"
   ]
  },
  {
   "cell_type": "markdown",
   "metadata": {},
   "source": [
    "### excel\n",
    "\n",
    "Excel es un formato muy amigable para casi todos los usuarios. Veamos cómo exportar un DataFrame en formato excel con el método [`.to_excel()`](https://pandas.pydata.org/pandas-docs/stable/reference/api/pandas.DataFrame.to_excel.html) "
   ]
  },
  {
   "cell_type": "code",
   "execution_count": null,
   "metadata": {},
   "outputs": [],
   "source": [
    "week1_customer.to_excel(\"./Data/pandas/week1_customer.xlsx\", sheet_name = \"week1\", index = False)"
   ]
  },
  {
   "cell_type": "code",
   "execution_count": null,
   "metadata": {},
   "outputs": [],
   "source": [
    "pd.read_excel(\"./Data/pandas/week1_customer.xlsx\").head()"
   ]
  }
 ],
 "metadata": {
  "kernelspec": {
   "display_name": "Python 3 (ipykernel)",
   "language": "python",
   "name": "python3"
  },
  "language_info": {
   "codemirror_mode": {
    "name": "ipython",
    "version": 3
   },
   "file_extension": ".py",
   "mimetype": "text/x-python",
   "name": "python",
   "nbconvert_exporter": "python",
   "pygments_lexer": "ipython3",
   "version": "3.11.6"
  }
 },
 "nbformat": 4,
 "nbformat_minor": 4
}

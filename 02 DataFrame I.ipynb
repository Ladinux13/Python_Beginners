{
 "cells": [
  {
   "cell_type": "markdown",
   "metadata": {},
   "source": [
    "# DataFrame I\n",
    "\n",
    "Los objeticos de aprendizaje son:\n",
    "\n",
    "1. ¿Qué es un DataFrame? \n",
    "2. Importar un DataFrame\n",
    "    + CSV\n",
    "    + Excel\n",
    "3. Introducción a Atributos y Métodos\n",
    "    \n",
    "    \n",
    "## 1. ¿Qué es un DataFrame? \n",
    "\n",
    "Es el eje central de Pandas, es el equivalente a una hoja de cálculo en Excel o una tabla de SQL. \n",
    "\n",
    "Un DataFrame es una estructura de datos indexada y bidimensional, i.e. un conjunto de Series (columnas) de tipos potencialmente diferentes que comparten índice.\n",
    "\n",
    "\n",
    "## 2. Importar un DataFrame\n",
    "\n",
    "Al igual que con las series, el verdadero valor de un DataFrame proviene de:\n",
    "\n",
    "1. Su capacidad para almacenar datos de fuentes externas.\n",
    "2. La abstracción que crean para modelar las estructuras de datos tabulares.\n"
   ]
  },
  {
   "cell_type": "code",
   "execution_count": null,
   "metadata": {},
   "outputs": [],
   "source": [
    "import numpy as np\n",
    "import pandas as pd"
   ]
  },
  {
   "cell_type": "code",
   "execution_count": null,
   "metadata": {},
   "outputs": [],
   "source": [
    "df = pd.DataFrame(\n",
    "    data={\n",
    "        'col_1': [1, 2, 3],\n",
    "        'col_2': [4, 5, 6],\n",
    "    }\n",
    ")\n",
    "df"
   ]
  },
  {
   "cell_type": "markdown",
   "metadata": {},
   "source": [
    "### *.csv\n",
    "\n",
    "Un archivo del tipo *.csv (_Comma Separated Values_) es un archvio plano que separa las columnas mediante el uso de comas (en ocasiones otros símbolos, tales como: \";\", \"|\"). \n",
    "\n",
    "Pandas cuenta con la función [`read_csv()`](https://pandas.pydata.org/pandas-docs/stable/reference/api/pandas.read_csv.html). La forma más simple sería:\n",
    "\n",
    "```python\n",
    "\n",
    "pd.read_csv(filepath_or_buffer = \"./datos.csv\", sep = \",\")\n",
    "\n",
    "```\n",
    "\n",
    "Veamos un ejemplo:"
   ]
  },
  {
   "cell_type": "code",
   "execution_count": null,
   "metadata": {},
   "outputs": [],
   "source": [
    "nba_df = pd.read_csv(\"./Data/pandas/nba.csv\")\n",
    "nba_df"
   ]
  },
  {
   "cell_type": "markdown",
   "metadata": {},
   "source": [
    "### Excel\n",
    "\n",
    "Aunque no se trata del formato más eficiente para almacenar datos, sí que es uno de los más prácticos para compartir/recibir información con perfiles no técnicos. \n",
    "\n",
    "Pandas cuenta con la función [`read_excel()`](https://pandas.pydata.org/pandas-docs/stable/reference/api/pandas.read_excel.html).\n",
    "\n",
    "\n",
    "1. Libro Excel una hoja y datos datos en primera columna y primer renglón."
   ]
  },
  {
   "cell_type": "code",
   "execution_count": null,
   "metadata": {},
   "outputs": [],
   "source": [
    "excel_df = pd.read_excel(\"./Data/pandas/Data - Single Worksheet.xlsx\")\n",
    "excel_df"
   ]
  },
  {
   "cell_type": "markdown",
   "metadata": {},
   "source": [
    "2. Libro Excel múltiples hojas y datos no alineados.\n",
    "\n",
    "<img src = \"../files/Excel_dna.png\">"
   ]
  },
  {
   "cell_type": "code",
   "execution_count": null,
   "metadata": {},
   "outputs": [],
   "source": [
    "pd.read_excel(\"./data/pandas/Data - Multiple Worksheets.xlsx\", sheet_name = \"Data 2\")"
   ]
  },
  {
   "cell_type": "code",
   "execution_count": null,
   "metadata": {},
   "outputs": [],
   "source": [
    "pd.read_excel(\n",
    "    \"./data/pandas/Data - Multiple Worksheets.xlsx\",\n",
    "    sheet_name = \"Data 2\",\n",
    "    skiprows = 2,\n",
    "    usecols = lambda x: \"Unnamed\" not in x\n",
    ")"
   ]
  },
  {
   "cell_type": "markdown",
   "metadata": {},
   "source": [
    "## 3. Introducción a Atributos y Métodos\n",
    "\n",
    "Los DataFrame comparten algunos de los atrubutos y métodos con las Series. En esta sección exploraremos los más básicos.\n",
    "\n",
    "### head() & tail()\n",
    "\n"
   ]
  },
  {
   "cell_type": "code",
   "execution_count": null,
   "metadata": {},
   "outputs": [],
   "source": [
    "nba_df.head()"
   ]
  },
  {
   "cell_type": "code",
   "execution_count": null,
   "metadata": {},
   "outputs": [],
   "source": [
    "nba_df.tail()"
   ]
  },
  {
   "cell_type": "markdown",
   "metadata": {},
   "source": [
    "### index\n",
    "\n",
    "Regresa los índices del `DataFrame`."
   ]
  },
  {
   "cell_type": "code",
   "execution_count": null,
   "metadata": {
    "scrolled": true
   },
   "outputs": [],
   "source": [
    "nba_df.index"
   ]
  },
  {
   "cell_type": "code",
   "execution_count": null,
   "metadata": {},
   "outputs": [],
   "source": [
    "list(nba_df.index)[:10]"
   ]
  },
  {
   "cell_type": "markdown",
   "metadata": {},
   "source": [
    "### values\n",
    "\n",
    "Los valores de un DataFrame en formato matriz."
   ]
  },
  {
   "cell_type": "code",
   "execution_count": null,
   "metadata": {},
   "outputs": [],
   "source": [
    "nba_df.values"
   ]
  },
  {
   "cell_type": "markdown",
   "metadata": {},
   "source": [
    "### Shape\n",
    "\n",
    "Regresa las dimensiones del DataFrame:"
   ]
  },
  {
   "cell_type": "code",
   "execution_count": null,
   "metadata": {},
   "outputs": [],
   "source": [
    "nba_df.shape"
   ]
  },
  {
   "cell_type": "markdown",
   "metadata": {},
   "source": [
    "Podemos acceder a renglones enteros:"
   ]
  },
  {
   "cell_type": "code",
   "execution_count": null,
   "metadata": {},
   "outputs": [],
   "source": [
    "nba_df.values[0][:2]"
   ]
  },
  {
   "cell_type": "markdown",
   "metadata": {},
   "source": [
    "... A los primeros $n$ valores de una columna:"
   ]
  },
  {
   "cell_type": "code",
   "execution_count": null,
   "metadata": {},
   "outputs": [],
   "source": [
    "nba_df.values[:,0][:10]"
   ]
  },
  {
   "cell_type": "markdown",
   "metadata": {},
   "source": [
    "### Tipo de datos\n",
    "\n",
    "En oncasiones querremos saber qué tipo de dato ha sido asignado a cada columna, para ello usaremos el atributo `.dtypes`. "
   ]
  },
  {
   "cell_type": "code",
   "execution_count": null,
   "metadata": {},
   "outputs": [],
   "source": [
    "nba_df.dtypes"
   ]
  },
  {
   "cell_type": "markdown",
   "metadata": {},
   "source": [
    "### Nombres de las Columnas\n",
    "\n",
    "También es posible acceder al nombre de las columnas mediante el atributo `.columns`"
   ]
  },
  {
   "cell_type": "code",
   "execution_count": null,
   "metadata": {},
   "outputs": [],
   "source": [
    "nba_df.columns"
   ]
  },
  {
   "cell_type": "markdown",
   "metadata": {},
   "source": [
    "De este modo podemos:\n",
    "\n",
    "- Acceder a valores específicos mediante índices\n",
    "- Modificar el nombre de las columnas\n",
    "- Seleccionar un subconjunto \n",
    "- Aplicar funciones a los nombres"
   ]
  },
  {
   "cell_type": "code",
   "execution_count": null,
   "metadata": {},
   "outputs": [],
   "source": [
    "nba_df.columns[0]"
   ]
  },
  {
   "cell_type": "code",
   "execution_count": null,
   "metadata": {},
   "outputs": [],
   "source": [
    "nba_df.columns = [col.lower() for col in nba_df.columns]"
   ]
  },
  {
   "cell_type": "code",
   "execution_count": null,
   "metadata": {
    "scrolled": true
   },
   "outputs": [],
   "source": [
    "nba_df.head()"
   ]
  },
  {
   "cell_type": "markdown",
   "metadata": {},
   "source": [
    "Lamentablemente, los objetos de la clase `Index`, son inmutables (como los ``str`)"
   ]
  },
  {
   "cell_type": "code",
   "execution_count": null,
   "metadata": {},
   "outputs": [],
   "source": [
    "nba_df.columns[0] = \"Nombre\""
   ]
  },
  {
   "cell_type": "markdown",
   "metadata": {},
   "source": [
    "Entonces... ¿Cómo cambiamos valores individuales?\n",
    "\n",
    "### rename\n",
    "\n",
    "El método `.rename()` nos permite modificar, de muchas formas los nombres. Veamos algunos ejemplos:"
   ]
  },
  {
   "cell_type": "code",
   "execution_count": null,
   "metadata": {},
   "outputs": [],
   "source": [
    "nba_df.rename(\n",
    "    columns={\n",
    "        'name': 'Nombre'\n",
    "    }\n",
    ").head()"
   ]
  },
  {
   "cell_type": "code",
   "execution_count": null,
   "metadata": {},
   "outputs": [],
   "source": [
    "nba_df.head()"
   ]
  },
  {
   "cell_type": "markdown",
   "metadata": {},
   "source": [
    "Para que los cambios persistan después de la llamada de `.rename()`, tenemos que usar `inplace = True`."
   ]
  },
  {
   "cell_type": "code",
   "execution_count": null,
   "metadata": {},
   "outputs": [],
   "source": [
    "nba_df.rename(\n",
    "    columns={\"name\":\"Nombre\"},\n",
    "    inplace=True\n",
    ")"
   ]
  },
  {
   "cell_type": "code",
   "execution_count": null,
   "metadata": {},
   "outputs": [],
   "source": [
    "nba_df.head()"
   ]
  },
  {
   "cell_type": "markdown",
   "metadata": {},
   "source": [
    "También podemos modificar de manera sistemática los nombres de las columnas con el método `.rename()`, al igual que cuando usamos *list comprehension*."
   ]
  },
  {
   "cell_type": "code",
   "execution_count": null,
   "metadata": {},
   "outputs": [],
   "source": [
    "def cambiar_nombres(col: str)->str:\n",
    "    return ((col.lower() + \"_\")*2)[:-1]"
   ]
  },
  {
   "cell_type": "code",
   "execution_count": null,
   "metadata": {},
   "outputs": [],
   "source": [
    "[cambiar_nombres(col) for col in nba_df.columns]"
   ]
  },
  {
   "cell_type": "code",
   "execution_count": null,
   "metadata": {},
   "outputs": [],
   "source": [
    "nba_df.rename(\n",
    "    columns=lambda col: ((col.lower() + \"_\")*2)[:-1]\n",
    ")"
   ]
  }
 ],
 "metadata": {
  "kernelspec": {
   "display_name": "Python 3 (ipykernel)",
   "language": "python",
   "name": "python3"
  },
  "language_info": {
   "codemirror_mode": {
    "name": "ipython",
    "version": 3
   },
   "file_extension": ".py",
   "mimetype": "text/x-python",
   "name": "python",
   "nbconvert_exporter": "python",
   "pygments_lexer": "ipython3",
   "version": "3.11.6"
  }
 },
 "nbformat": 4,
 "nbformat_minor": 4
}

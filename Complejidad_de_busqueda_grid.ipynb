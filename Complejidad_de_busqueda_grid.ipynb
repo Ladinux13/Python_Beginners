{
 "cells": [
  {
   "cell_type": "code",
   "execution_count": 1,
   "metadata": {},
   "outputs": [],
   "source": [
    "%matplotlib inline\n",
    "import numpy as np\n",
    "import matplotlib.pyplot as plt"
   ]
  },
  {
   "cell_type": "markdown",
   "metadata": {},
   "source": [
    "# Selección de parámetros, validación y test"
   ]
  },
  {
   "cell_type": "markdown",
   "metadata": {},
   "source": [
    "Muchos algoritmos tienen asociados algunos parámetros que influyen en la complejidad del modelo que pueden aprender. Recuerda cuando usamos `KNeighborsRegressor`. Si cambiamos el número de vecinos a considerar, obtenemos progresivamente predicciones más y más *suavizadas*:"
   ]
  },
  {
   "cell_type": "markdown",
   "metadata": {},
   "source": [
    "## Hiperparámetros, sobre-ajuste e infra-ajuste\n",
    "\n",
    "Desafortunadamente, no hay un regla general para conseguir llegar a este punto óptimo y, por ello, el usuario debe encontrar el mejor equilibrio posible entre complejidad del modelo y generalización, probando distintas opciones para los hiper-parámetros. Los hiper-parámetros son aquellos parámetros que podemos ajustar sobre un algoritmos de aprendizaje automático (algoritmo que, a su vez, ajusta los parámetros del modelo en función de los datos de entrenamiento, de ahí el \"hiper\"). El número de vecinos $k$ del algoritmo kNN es un hiper-parámetro.\n",
    "\n",
    "A menudo este ajuste de hiper-parámetros se hace mediante una búsqueda por fuerza bruta, por ejemplo usando varios valores de ``n_neighbors``:"
   ]
  },
  {
   "cell_type": "code",
   "execution_count": 2,
   "metadata": {},
   "outputs": [
    {
     "name": "stderr",
     "output_type": "stream",
     "text": [
      "/Users/ladino/opt/anaconda3/envs/Dashboard/lib/python3.9/site-packages/scipy/__init__.py:146: UserWarning: A NumPy version >=1.16.5 and <1.23.0 is required for this version of SciPy (detected version 1.26.4\n",
      "  warnings.warn(f\"A NumPy version >={np_minversion} and <{np_maxversion}\"\n"
     ]
    },
    {
     "name": "stdout",
     "output_type": "stream",
     "text": [
      "n_neighbors: 1, rendimiento medio: 0.513859\n",
      "n_neighbors: 3, rendimiento medio: 0.722964\n",
      "n_neighbors: 5, rendimiento medio: 0.751328\n",
      "n_neighbors: 10, rendimiento medio: 0.725967\n",
      "n_neighbors: 20, rendimiento medio: 0.611242\n"
     ]
    }
   ],
   "source": [
    "from sklearn.model_selection import cross_val_score, KFold\n",
    "from sklearn.neighbors import KNeighborsRegressor\n",
    "# Generamos un dataset sintético:\n",
    "x = np.linspace(-3, 3, 100)\n",
    "rng = np.random.RandomState(42)\n",
    "y = np.sin(4 * x) + x + rng.normal(size=len(x))\n",
    "X = x[:, np.newaxis]\n",
    "\n",
    "cv = KFold(shuffle=True)\n",
    "\n",
    "# Para cada parámetro, repetimos una validación cruzada\n",
    "for n_neighbors in [1, 3, 5, 10, 20]:\n",
    "    scores = cross_val_score(KNeighborsRegressor(n_neighbors=n_neighbors), X, y, cv=cv)\n",
    "    print(\"n_neighbors: %d, rendimiento medio: %f\" % (n_neighbors, np.mean(scores)))"
   ]
  },
  {
   "cell_type": "markdown",
   "metadata": {},
   "source": [
    "Hay una función en scikit-learn, llamada ``validation_plot``, que produce una figura similar a la que vimos previamente. Representa un parámetro, como el número de vecinos, enfrentado a los errores de entrenamiento y validación (utilizando validación cruzada):"
   ]
  },
  {
   "cell_type": "code",
   "execution_count": 3,
   "metadata": {},
   "outputs": [
    {
     "name": "stderr",
     "output_type": "stream",
     "text": [
      "/Users/ladino/opt/anaconda3/envs/Dashboard/lib/python3.9/site-packages/sklearn/model_selection/_validation.py:776: UserWarning: Scoring failed. The score on this train-test partition for these parameters will be set to nan. Details: \n",
      "Traceback (most recent call last):\n",
      "  File \"/Users/ladino/opt/anaconda3/envs/Dashboard/lib/python3.9/site-packages/sklearn/model_selection/_validation.py\", line 767, in _score\n",
      "    scores = scorer(estimator, X_test, y_test)\n",
      "  File \"/Users/ladino/opt/anaconda3/envs/Dashboard/lib/python3.9/site-packages/sklearn/metrics/_scorer.py\", line 429, in _passthrough_scorer\n",
      "    return estimator.score(*args, **kwargs)\n",
      "  File \"/Users/ladino/opt/anaconda3/envs/Dashboard/lib/python3.9/site-packages/sklearn/base.py\", line 720, in score\n",
      "    y_pred = self.predict(X)\n",
      "  File \"/Users/ladino/opt/anaconda3/envs/Dashboard/lib/python3.9/site-packages/sklearn/neighbors/_regression.py\", line 229, in predict\n",
      "    neigh_ind = self.kneighbors(X, return_distance=False)\n",
      "  File \"/Users/ladino/opt/anaconda3/envs/Dashboard/lib/python3.9/site-packages/sklearn/neighbors/_base.py\", line 763, in kneighbors\n",
      "    results = PairwiseDistancesArgKmin.compute(\n",
      "  File \"sklearn/metrics/_pairwise_distances_reduction.pyx\", line 698, in sklearn.metrics._pairwise_distances_reduction.PairwiseDistancesArgKmin.compute\n",
      "  File \"/Users/ladino/opt/anaconda3/envs/Dashboard/lib/python3.9/site-packages/sklearn/utils/fixes.py\", line 151, in threadpool_limits\n",
      "    return threadpoolctl.threadpool_limits(limits=limits, user_api=user_api)\n",
      "  File \"/Users/ladino/opt/anaconda3/envs/Dashboard/lib/python3.9/site-packages/threadpoolctl.py\", line 171, in __init__\n",
      "    self._original_info = self._set_threadpool_limits()\n",
      "  File \"/Users/ladino/opt/anaconda3/envs/Dashboard/lib/python3.9/site-packages/threadpoolctl.py\", line 268, in _set_threadpool_limits\n",
      "    modules = _ThreadpoolInfo(prefixes=self._prefixes,\n",
      "  File \"/Users/ladino/opt/anaconda3/envs/Dashboard/lib/python3.9/site-packages/threadpoolctl.py\", line 340, in __init__\n",
      "    self._load_modules()\n",
      "  File \"/Users/ladino/opt/anaconda3/envs/Dashboard/lib/python3.9/site-packages/threadpoolctl.py\", line 371, in _load_modules\n",
      "    self._find_modules_with_dyld()\n",
      "  File \"/Users/ladino/opt/anaconda3/envs/Dashboard/lib/python3.9/site-packages/threadpoolctl.py\", line 428, in _find_modules_with_dyld\n",
      "    self._make_module_from_path(filepath)\n",
      "  File \"/Users/ladino/opt/anaconda3/envs/Dashboard/lib/python3.9/site-packages/threadpoolctl.py\", line 515, in _make_module_from_path\n",
      "    module = module_class(filepath, prefix, user_api, internal_api)\n",
      "  File \"/Users/ladino/opt/anaconda3/envs/Dashboard/lib/python3.9/site-packages/threadpoolctl.py\", line 606, in __init__\n",
      "    self.version = self.get_version()\n",
      "  File \"/Users/ladino/opt/anaconda3/envs/Dashboard/lib/python3.9/site-packages/threadpoolctl.py\", line 646, in get_version\n",
      "    config = get_config().split()\n",
      "AttributeError: 'NoneType' object has no attribute 'split'\n",
      "\n",
      "  warnings.warn(\n",
      "/Users/ladino/opt/anaconda3/envs/Dashboard/lib/python3.9/site-packages/sklearn/model_selection/_validation.py:776: UserWarning: Scoring failed. The score on this train-test partition for these parameters will be set to nan. Details: \n",
      "Traceback (most recent call last):\n",
      "  File \"/Users/ladino/opt/anaconda3/envs/Dashboard/lib/python3.9/site-packages/sklearn/model_selection/_validation.py\", line 767, in _score\n",
      "    scores = scorer(estimator, X_test, y_test)\n",
      "  File \"/Users/ladino/opt/anaconda3/envs/Dashboard/lib/python3.9/site-packages/sklearn/metrics/_scorer.py\", line 429, in _passthrough_scorer\n",
      "    return estimator.score(*args, **kwargs)\n",
      "  File \"/Users/ladino/opt/anaconda3/envs/Dashboard/lib/python3.9/site-packages/sklearn/base.py\", line 720, in score\n",
      "    y_pred = self.predict(X)\n",
      "  File \"/Users/ladino/opt/anaconda3/envs/Dashboard/lib/python3.9/site-packages/sklearn/neighbors/_regression.py\", line 229, in predict\n",
      "    neigh_ind = self.kneighbors(X, return_distance=False)\n",
      "  File \"/Users/ladino/opt/anaconda3/envs/Dashboard/lib/python3.9/site-packages/sklearn/neighbors/_base.py\", line 763, in kneighbors\n",
      "    results = PairwiseDistancesArgKmin.compute(\n",
      "  File \"sklearn/metrics/_pairwise_distances_reduction.pyx\", line 698, in sklearn.metrics._pairwise_distances_reduction.PairwiseDistancesArgKmin.compute\n",
      "  File \"/Users/ladino/opt/anaconda3/envs/Dashboard/lib/python3.9/site-packages/sklearn/utils/fixes.py\", line 151, in threadpool_limits\n",
      "    return threadpoolctl.threadpool_limits(limits=limits, user_api=user_api)\n",
      "  File \"/Users/ladino/opt/anaconda3/envs/Dashboard/lib/python3.9/site-packages/threadpoolctl.py\", line 171, in __init__\n",
      "    self._original_info = self._set_threadpool_limits()\n",
      "  File \"/Users/ladino/opt/anaconda3/envs/Dashboard/lib/python3.9/site-packages/threadpoolctl.py\", line 268, in _set_threadpool_limits\n",
      "    modules = _ThreadpoolInfo(prefixes=self._prefixes,\n",
      "  File \"/Users/ladino/opt/anaconda3/envs/Dashboard/lib/python3.9/site-packages/threadpoolctl.py\", line 340, in __init__\n",
      "    self._load_modules()\n",
      "  File \"/Users/ladino/opt/anaconda3/envs/Dashboard/lib/python3.9/site-packages/threadpoolctl.py\", line 371, in _load_modules\n",
      "    self._find_modules_with_dyld()\n",
      "  File \"/Users/ladino/opt/anaconda3/envs/Dashboard/lib/python3.9/site-packages/threadpoolctl.py\", line 428, in _find_modules_with_dyld\n",
      "    self._make_module_from_path(filepath)\n",
      "  File \"/Users/ladino/opt/anaconda3/envs/Dashboard/lib/python3.9/site-packages/threadpoolctl.py\", line 515, in _make_module_from_path\n",
      "    module = module_class(filepath, prefix, user_api, internal_api)\n",
      "  File \"/Users/ladino/opt/anaconda3/envs/Dashboard/lib/python3.9/site-packages/threadpoolctl.py\", line 606, in __init__\n",
      "    self.version = self.get_version()\n",
      "  File \"/Users/ladino/opt/anaconda3/envs/Dashboard/lib/python3.9/site-packages/threadpoolctl.py\", line 646, in get_version\n",
      "    config = get_config().split()\n",
      "AttributeError: 'NoneType' object has no attribute 'split'\n",
      "\n",
      "  warnings.warn(\n",
      "/Users/ladino/opt/anaconda3/envs/Dashboard/lib/python3.9/site-packages/sklearn/model_selection/_validation.py:776: UserWarning: Scoring failed. The score on this train-test partition for these parameters will be set to nan. Details: \n",
      "Traceback (most recent call last):\n",
      "  File \"/Users/ladino/opt/anaconda3/envs/Dashboard/lib/python3.9/site-packages/sklearn/model_selection/_validation.py\", line 767, in _score\n",
      "    scores = scorer(estimator, X_test, y_test)\n",
      "  File \"/Users/ladino/opt/anaconda3/envs/Dashboard/lib/python3.9/site-packages/sklearn/metrics/_scorer.py\", line 429, in _passthrough_scorer\n",
      "    return estimator.score(*args, **kwargs)\n",
      "  File \"/Users/ladino/opt/anaconda3/envs/Dashboard/lib/python3.9/site-packages/sklearn/base.py\", line 720, in score\n",
      "    y_pred = self.predict(X)\n",
      "  File \"/Users/ladino/opt/anaconda3/envs/Dashboard/lib/python3.9/site-packages/sklearn/neighbors/_regression.py\", line 229, in predict\n",
      "    neigh_ind = self.kneighbors(X, return_distance=False)\n",
      "  File \"/Users/ladino/opt/anaconda3/envs/Dashboard/lib/python3.9/site-packages/sklearn/neighbors/_base.py\", line 763, in kneighbors\n",
      "    results = PairwiseDistancesArgKmin.compute(\n",
      "  File \"sklearn/metrics/_pairwise_distances_reduction.pyx\", line 698, in sklearn.metrics._pairwise_distances_reduction.PairwiseDistancesArgKmin.compute\n",
      "  File \"/Users/ladino/opt/anaconda3/envs/Dashboard/lib/python3.9/site-packages/sklearn/utils/fixes.py\", line 151, in threadpool_limits\n",
      "    return threadpoolctl.threadpool_limits(limits=limits, user_api=user_api)\n",
      "  File \"/Users/ladino/opt/anaconda3/envs/Dashboard/lib/python3.9/site-packages/threadpoolctl.py\", line 171, in __init__\n",
      "    self._original_info = self._set_threadpool_limits()\n",
      "  File \"/Users/ladino/opt/anaconda3/envs/Dashboard/lib/python3.9/site-packages/threadpoolctl.py\", line 268, in _set_threadpool_limits\n",
      "    modules = _ThreadpoolInfo(prefixes=self._prefixes,\n",
      "  File \"/Users/ladino/opt/anaconda3/envs/Dashboard/lib/python3.9/site-packages/threadpoolctl.py\", line 340, in __init__\n",
      "    self._load_modules()\n",
      "  File \"/Users/ladino/opt/anaconda3/envs/Dashboard/lib/python3.9/site-packages/threadpoolctl.py\", line 371, in _load_modules\n",
      "    self._find_modules_with_dyld()\n",
      "  File \"/Users/ladino/opt/anaconda3/envs/Dashboard/lib/python3.9/site-packages/threadpoolctl.py\", line 428, in _find_modules_with_dyld\n",
      "    self._make_module_from_path(filepath)\n",
      "  File \"/Users/ladino/opt/anaconda3/envs/Dashboard/lib/python3.9/site-packages/threadpoolctl.py\", line 515, in _make_module_from_path\n",
      "    module = module_class(filepath, prefix, user_api, internal_api)\n",
      "  File \"/Users/ladino/opt/anaconda3/envs/Dashboard/lib/python3.9/site-packages/threadpoolctl.py\", line 606, in __init__\n",
      "    self.version = self.get_version()\n",
      "  File \"/Users/ladino/opt/anaconda3/envs/Dashboard/lib/python3.9/site-packages/threadpoolctl.py\", line 646, in get_version\n",
      "    config = get_config().split()\n",
      "AttributeError: 'NoneType' object has no attribute 'split'\n",
      "\n",
      "  warnings.warn(\n",
      "/Users/ladino/opt/anaconda3/envs/Dashboard/lib/python3.9/site-packages/sklearn/model_selection/_validation.py:776: UserWarning: Scoring failed. The score on this train-test partition for these parameters will be set to nan. Details: \n",
      "Traceback (most recent call last):\n",
      "  File \"/Users/ladino/opt/anaconda3/envs/Dashboard/lib/python3.9/site-packages/sklearn/model_selection/_validation.py\", line 767, in _score\n",
      "    scores = scorer(estimator, X_test, y_test)\n",
      "  File \"/Users/ladino/opt/anaconda3/envs/Dashboard/lib/python3.9/site-packages/sklearn/metrics/_scorer.py\", line 429, in _passthrough_scorer\n",
      "    return estimator.score(*args, **kwargs)\n",
      "  File \"/Users/ladino/opt/anaconda3/envs/Dashboard/lib/python3.9/site-packages/sklearn/base.py\", line 720, in score\n",
      "    y_pred = self.predict(X)\n",
      "  File \"/Users/ladino/opt/anaconda3/envs/Dashboard/lib/python3.9/site-packages/sklearn/neighbors/_regression.py\", line 229, in predict\n",
      "    neigh_ind = self.kneighbors(X, return_distance=False)\n",
      "  File \"/Users/ladino/opt/anaconda3/envs/Dashboard/lib/python3.9/site-packages/sklearn/neighbors/_base.py\", line 763, in kneighbors\n",
      "    results = PairwiseDistancesArgKmin.compute(\n",
      "  File \"sklearn/metrics/_pairwise_distances_reduction.pyx\", line 698, in sklearn.metrics._pairwise_distances_reduction.PairwiseDistancesArgKmin.compute\n",
      "  File \"/Users/ladino/opt/anaconda3/envs/Dashboard/lib/python3.9/site-packages/sklearn/utils/fixes.py\", line 151, in threadpool_limits\n",
      "    return threadpoolctl.threadpool_limits(limits=limits, user_api=user_api)\n",
      "  File \"/Users/ladino/opt/anaconda3/envs/Dashboard/lib/python3.9/site-packages/threadpoolctl.py\", line 171, in __init__\n",
      "    self._original_info = self._set_threadpool_limits()\n",
      "  File \"/Users/ladino/opt/anaconda3/envs/Dashboard/lib/python3.9/site-packages/threadpoolctl.py\", line 268, in _set_threadpool_limits\n",
      "    modules = _ThreadpoolInfo(prefixes=self._prefixes,\n",
      "  File \"/Users/ladino/opt/anaconda3/envs/Dashboard/lib/python3.9/site-packages/threadpoolctl.py\", line 340, in __init__\n",
      "    self._load_modules()\n",
      "  File \"/Users/ladino/opt/anaconda3/envs/Dashboard/lib/python3.9/site-packages/threadpoolctl.py\", line 371, in _load_modules\n",
      "    self._find_modules_with_dyld()\n",
      "  File \"/Users/ladino/opt/anaconda3/envs/Dashboard/lib/python3.9/site-packages/threadpoolctl.py\", line 428, in _find_modules_with_dyld\n",
      "    self._make_module_from_path(filepath)\n",
      "  File \"/Users/ladino/opt/anaconda3/envs/Dashboard/lib/python3.9/site-packages/threadpoolctl.py\", line 515, in _make_module_from_path\n",
      "    module = module_class(filepath, prefix, user_api, internal_api)\n",
      "  File \"/Users/ladino/opt/anaconda3/envs/Dashboard/lib/python3.9/site-packages/threadpoolctl.py\", line 606, in __init__\n",
      "    self.version = self.get_version()\n",
      "  File \"/Users/ladino/opt/anaconda3/envs/Dashboard/lib/python3.9/site-packages/threadpoolctl.py\", line 646, in get_version\n",
      "    config = get_config().split()\n",
      "AttributeError: 'NoneType' object has no attribute 'split'\n",
      "\n",
      "  warnings.warn(\n",
      "/Users/ladino/opt/anaconda3/envs/Dashboard/lib/python3.9/site-packages/sklearn/model_selection/_validation.py:776: UserWarning: Scoring failed. The score on this train-test partition for these parameters will be set to nan. Details: \n",
      "Traceback (most recent call last):\n",
      "  File \"/Users/ladino/opt/anaconda3/envs/Dashboard/lib/python3.9/site-packages/sklearn/model_selection/_validation.py\", line 767, in _score\n",
      "    scores = scorer(estimator, X_test, y_test)\n",
      "  File \"/Users/ladino/opt/anaconda3/envs/Dashboard/lib/python3.9/site-packages/sklearn/metrics/_scorer.py\", line 429, in _passthrough_scorer\n",
      "    return estimator.score(*args, **kwargs)\n",
      "  File \"/Users/ladino/opt/anaconda3/envs/Dashboard/lib/python3.9/site-packages/sklearn/base.py\", line 720, in score\n",
      "    y_pred = self.predict(X)\n",
      "  File \"/Users/ladino/opt/anaconda3/envs/Dashboard/lib/python3.9/site-packages/sklearn/neighbors/_regression.py\", line 229, in predict\n",
      "    neigh_ind = self.kneighbors(X, return_distance=False)\n",
      "  File \"/Users/ladino/opt/anaconda3/envs/Dashboard/lib/python3.9/site-packages/sklearn/neighbors/_base.py\", line 763, in kneighbors\n",
      "    results = PairwiseDistancesArgKmin.compute(\n",
      "  File \"sklearn/metrics/_pairwise_distances_reduction.pyx\", line 698, in sklearn.metrics._pairwise_distances_reduction.PairwiseDistancesArgKmin.compute\n",
      "  File \"/Users/ladino/opt/anaconda3/envs/Dashboard/lib/python3.9/site-packages/sklearn/utils/fixes.py\", line 151, in threadpool_limits\n",
      "    return threadpoolctl.threadpool_limits(limits=limits, user_api=user_api)\n",
      "  File \"/Users/ladino/opt/anaconda3/envs/Dashboard/lib/python3.9/site-packages/threadpoolctl.py\", line 171, in __init__\n",
      "    self._original_info = self._set_threadpool_limits()\n",
      "  File \"/Users/ladino/opt/anaconda3/envs/Dashboard/lib/python3.9/site-packages/threadpoolctl.py\", line 268, in _set_threadpool_limits\n",
      "    modules = _ThreadpoolInfo(prefixes=self._prefixes,\n",
      "  File \"/Users/ladino/opt/anaconda3/envs/Dashboard/lib/python3.9/site-packages/threadpoolctl.py\", line 340, in __init__\n",
      "    self._load_modules()\n",
      "  File \"/Users/ladino/opt/anaconda3/envs/Dashboard/lib/python3.9/site-packages/threadpoolctl.py\", line 371, in _load_modules\n",
      "    self._find_modules_with_dyld()\n",
      "  File \"/Users/ladino/opt/anaconda3/envs/Dashboard/lib/python3.9/site-packages/threadpoolctl.py\", line 428, in _find_modules_with_dyld\n",
      "    self._make_module_from_path(filepath)\n",
      "  File \"/Users/ladino/opt/anaconda3/envs/Dashboard/lib/python3.9/site-packages/threadpoolctl.py\", line 515, in _make_module_from_path\n",
      "    module = module_class(filepath, prefix, user_api, internal_api)\n",
      "  File \"/Users/ladino/opt/anaconda3/envs/Dashboard/lib/python3.9/site-packages/threadpoolctl.py\", line 606, in __init__\n",
      "    self.version = self.get_version()\n",
      "  File \"/Users/ladino/opt/anaconda3/envs/Dashboard/lib/python3.9/site-packages/threadpoolctl.py\", line 646, in get_version\n",
      "    config = get_config().split()\n",
      "AttributeError: 'NoneType' object has no attribute 'split'\n",
      "\n",
      "  warnings.warn(\n",
      "/Users/ladino/opt/anaconda3/envs/Dashboard/lib/python3.9/site-packages/sklearn/model_selection/_validation.py:776: UserWarning: Scoring failed. The score on this train-test partition for these parameters will be set to nan. Details: \n",
      "Traceback (most recent call last):\n",
      "  File \"/Users/ladino/opt/anaconda3/envs/Dashboard/lib/python3.9/site-packages/sklearn/model_selection/_validation.py\", line 767, in _score\n",
      "    scores = scorer(estimator, X_test, y_test)\n",
      "  File \"/Users/ladino/opt/anaconda3/envs/Dashboard/lib/python3.9/site-packages/sklearn/metrics/_scorer.py\", line 429, in _passthrough_scorer\n",
      "    return estimator.score(*args, **kwargs)\n",
      "  File \"/Users/ladino/opt/anaconda3/envs/Dashboard/lib/python3.9/site-packages/sklearn/base.py\", line 720, in score\n",
      "    y_pred = self.predict(X)\n",
      "  File \"/Users/ladino/opt/anaconda3/envs/Dashboard/lib/python3.9/site-packages/sklearn/neighbors/_regression.py\", line 229, in predict\n",
      "    neigh_ind = self.kneighbors(X, return_distance=False)\n",
      "  File \"/Users/ladino/opt/anaconda3/envs/Dashboard/lib/python3.9/site-packages/sklearn/neighbors/_base.py\", line 763, in kneighbors\n",
      "    results = PairwiseDistancesArgKmin.compute(\n",
      "  File \"sklearn/metrics/_pairwise_distances_reduction.pyx\", line 698, in sklearn.metrics._pairwise_distances_reduction.PairwiseDistancesArgKmin.compute\n",
      "  File \"/Users/ladino/opt/anaconda3/envs/Dashboard/lib/python3.9/site-packages/sklearn/utils/fixes.py\", line 151, in threadpool_limits\n",
      "    return threadpoolctl.threadpool_limits(limits=limits, user_api=user_api)\n",
      "  File \"/Users/ladino/opt/anaconda3/envs/Dashboard/lib/python3.9/site-packages/threadpoolctl.py\", line 171, in __init__\n",
      "    self._original_info = self._set_threadpool_limits()\n",
      "  File \"/Users/ladino/opt/anaconda3/envs/Dashboard/lib/python3.9/site-packages/threadpoolctl.py\", line 268, in _set_threadpool_limits\n",
      "    modules = _ThreadpoolInfo(prefixes=self._prefixes,\n",
      "  File \"/Users/ladino/opt/anaconda3/envs/Dashboard/lib/python3.9/site-packages/threadpoolctl.py\", line 340, in __init__\n",
      "    self._load_modules()\n",
      "  File \"/Users/ladino/opt/anaconda3/envs/Dashboard/lib/python3.9/site-packages/threadpoolctl.py\", line 371, in _load_modules\n",
      "    self._find_modules_with_dyld()\n",
      "  File \"/Users/ladino/opt/anaconda3/envs/Dashboard/lib/python3.9/site-packages/threadpoolctl.py\", line 428, in _find_modules_with_dyld\n",
      "    self._make_module_from_path(filepath)\n",
      "  File \"/Users/ladino/opt/anaconda3/envs/Dashboard/lib/python3.9/site-packages/threadpoolctl.py\", line 515, in _make_module_from_path\n",
      "    module = module_class(filepath, prefix, user_api, internal_api)\n",
      "  File \"/Users/ladino/opt/anaconda3/envs/Dashboard/lib/python3.9/site-packages/threadpoolctl.py\", line 606, in __init__\n",
      "    self.version = self.get_version()\n",
      "  File \"/Users/ladino/opt/anaconda3/envs/Dashboard/lib/python3.9/site-packages/threadpoolctl.py\", line 646, in get_version\n",
      "    config = get_config().split()\n",
      "AttributeError: 'NoneType' object has no attribute 'split'\n",
      "\n",
      "  warnings.warn(\n",
      "/Users/ladino/opt/anaconda3/envs/Dashboard/lib/python3.9/site-packages/sklearn/model_selection/_validation.py:776: UserWarning: Scoring failed. The score on this train-test partition for these parameters will be set to nan. Details: \n",
      "Traceback (most recent call last):\n",
      "  File \"/Users/ladino/opt/anaconda3/envs/Dashboard/lib/python3.9/site-packages/sklearn/model_selection/_validation.py\", line 767, in _score\n",
      "    scores = scorer(estimator, X_test, y_test)\n",
      "  File \"/Users/ladino/opt/anaconda3/envs/Dashboard/lib/python3.9/site-packages/sklearn/metrics/_scorer.py\", line 429, in _passthrough_scorer\n",
      "    return estimator.score(*args, **kwargs)\n",
      "  File \"/Users/ladino/opt/anaconda3/envs/Dashboard/lib/python3.9/site-packages/sklearn/base.py\", line 720, in score\n",
      "    y_pred = self.predict(X)\n",
      "  File \"/Users/ladino/opt/anaconda3/envs/Dashboard/lib/python3.9/site-packages/sklearn/neighbors/_regression.py\", line 229, in predict\n",
      "    neigh_ind = self.kneighbors(X, return_distance=False)\n",
      "  File \"/Users/ladino/opt/anaconda3/envs/Dashboard/lib/python3.9/site-packages/sklearn/neighbors/_base.py\", line 763, in kneighbors\n",
      "    results = PairwiseDistancesArgKmin.compute(\n",
      "  File \"sklearn/metrics/_pairwise_distances_reduction.pyx\", line 698, in sklearn.metrics._pairwise_distances_reduction.PairwiseDistancesArgKmin.compute\n",
      "  File \"/Users/ladino/opt/anaconda3/envs/Dashboard/lib/python3.9/site-packages/sklearn/utils/fixes.py\", line 151, in threadpool_limits\n",
      "    return threadpoolctl.threadpool_limits(limits=limits, user_api=user_api)\n",
      "  File \"/Users/ladino/opt/anaconda3/envs/Dashboard/lib/python3.9/site-packages/threadpoolctl.py\", line 171, in __init__\n",
      "    self._original_info = self._set_threadpool_limits()\n",
      "  File \"/Users/ladino/opt/anaconda3/envs/Dashboard/lib/python3.9/site-packages/threadpoolctl.py\", line 268, in _set_threadpool_limits\n",
      "    modules = _ThreadpoolInfo(prefixes=self._prefixes,\n",
      "  File \"/Users/ladino/opt/anaconda3/envs/Dashboard/lib/python3.9/site-packages/threadpoolctl.py\", line 340, in __init__\n",
      "    self._load_modules()\n",
      "  File \"/Users/ladino/opt/anaconda3/envs/Dashboard/lib/python3.9/site-packages/threadpoolctl.py\", line 371, in _load_modules\n",
      "    self._find_modules_with_dyld()\n",
      "  File \"/Users/ladino/opt/anaconda3/envs/Dashboard/lib/python3.9/site-packages/threadpoolctl.py\", line 428, in _find_modules_with_dyld\n",
      "    self._make_module_from_path(filepath)\n",
      "  File \"/Users/ladino/opt/anaconda3/envs/Dashboard/lib/python3.9/site-packages/threadpoolctl.py\", line 515, in _make_module_from_path\n",
      "    module = module_class(filepath, prefix, user_api, internal_api)\n",
      "  File \"/Users/ladino/opt/anaconda3/envs/Dashboard/lib/python3.9/site-packages/threadpoolctl.py\", line 606, in __init__\n",
      "    self.version = self.get_version()\n",
      "  File \"/Users/ladino/opt/anaconda3/envs/Dashboard/lib/python3.9/site-packages/threadpoolctl.py\", line 646, in get_version\n",
      "    config = get_config().split()\n",
      "AttributeError: 'NoneType' object has no attribute 'split'\n",
      "\n",
      "  warnings.warn(\n",
      "/Users/ladino/opt/anaconda3/envs/Dashboard/lib/python3.9/site-packages/sklearn/model_selection/_validation.py:776: UserWarning: Scoring failed. The score on this train-test partition for these parameters will be set to nan. Details: \n",
      "Traceback (most recent call last):\n",
      "  File \"/Users/ladino/opt/anaconda3/envs/Dashboard/lib/python3.9/site-packages/sklearn/model_selection/_validation.py\", line 767, in _score\n",
      "    scores = scorer(estimator, X_test, y_test)\n",
      "  File \"/Users/ladino/opt/anaconda3/envs/Dashboard/lib/python3.9/site-packages/sklearn/metrics/_scorer.py\", line 429, in _passthrough_scorer\n",
      "    return estimator.score(*args, **kwargs)\n",
      "  File \"/Users/ladino/opt/anaconda3/envs/Dashboard/lib/python3.9/site-packages/sklearn/base.py\", line 720, in score\n",
      "    y_pred = self.predict(X)\n",
      "  File \"/Users/ladino/opt/anaconda3/envs/Dashboard/lib/python3.9/site-packages/sklearn/neighbors/_regression.py\", line 229, in predict\n",
      "    neigh_ind = self.kneighbors(X, return_distance=False)\n",
      "  File \"/Users/ladino/opt/anaconda3/envs/Dashboard/lib/python3.9/site-packages/sklearn/neighbors/_base.py\", line 763, in kneighbors\n",
      "    results = PairwiseDistancesArgKmin.compute(\n",
      "  File \"sklearn/metrics/_pairwise_distances_reduction.pyx\", line 698, in sklearn.metrics._pairwise_distances_reduction.PairwiseDistancesArgKmin.compute\n",
      "  File \"/Users/ladino/opt/anaconda3/envs/Dashboard/lib/python3.9/site-packages/sklearn/utils/fixes.py\", line 151, in threadpool_limits\n",
      "    return threadpoolctl.threadpool_limits(limits=limits, user_api=user_api)\n",
      "  File \"/Users/ladino/opt/anaconda3/envs/Dashboard/lib/python3.9/site-packages/threadpoolctl.py\", line 171, in __init__\n",
      "    self._original_info = self._set_threadpool_limits()\n",
      "  File \"/Users/ladino/opt/anaconda3/envs/Dashboard/lib/python3.9/site-packages/threadpoolctl.py\", line 268, in _set_threadpool_limits\n",
      "    modules = _ThreadpoolInfo(prefixes=self._prefixes,\n",
      "  File \"/Users/ladino/opt/anaconda3/envs/Dashboard/lib/python3.9/site-packages/threadpoolctl.py\", line 340, in __init__\n",
      "    self._load_modules()\n",
      "  File \"/Users/ladino/opt/anaconda3/envs/Dashboard/lib/python3.9/site-packages/threadpoolctl.py\", line 371, in _load_modules\n",
      "    self._find_modules_with_dyld()\n",
      "  File \"/Users/ladino/opt/anaconda3/envs/Dashboard/lib/python3.9/site-packages/threadpoolctl.py\", line 428, in _find_modules_with_dyld\n",
      "    self._make_module_from_path(filepath)\n",
      "  File \"/Users/ladino/opt/anaconda3/envs/Dashboard/lib/python3.9/site-packages/threadpoolctl.py\", line 515, in _make_module_from_path\n",
      "    module = module_class(filepath, prefix, user_api, internal_api)\n",
      "  File \"/Users/ladino/opt/anaconda3/envs/Dashboard/lib/python3.9/site-packages/threadpoolctl.py\", line 606, in __init__\n",
      "    self.version = self.get_version()\n",
      "  File \"/Users/ladino/opt/anaconda3/envs/Dashboard/lib/python3.9/site-packages/threadpoolctl.py\", line 646, in get_version\n",
      "    config = get_config().split()\n",
      "AttributeError: 'NoneType' object has no attribute 'split'\n",
      "\n",
      "  warnings.warn(\n",
      "/Users/ladino/opt/anaconda3/envs/Dashboard/lib/python3.9/site-packages/sklearn/model_selection/_validation.py:776: UserWarning: Scoring failed. The score on this train-test partition for these parameters will be set to nan. Details: \n",
      "Traceback (most recent call last):\n",
      "  File \"/Users/ladino/opt/anaconda3/envs/Dashboard/lib/python3.9/site-packages/sklearn/model_selection/_validation.py\", line 767, in _score\n",
      "    scores = scorer(estimator, X_test, y_test)\n",
      "  File \"/Users/ladino/opt/anaconda3/envs/Dashboard/lib/python3.9/site-packages/sklearn/metrics/_scorer.py\", line 429, in _passthrough_scorer\n",
      "    return estimator.score(*args, **kwargs)\n",
      "  File \"/Users/ladino/opt/anaconda3/envs/Dashboard/lib/python3.9/site-packages/sklearn/base.py\", line 720, in score\n",
      "    y_pred = self.predict(X)\n",
      "  File \"/Users/ladino/opt/anaconda3/envs/Dashboard/lib/python3.9/site-packages/sklearn/neighbors/_regression.py\", line 229, in predict\n",
      "    neigh_ind = self.kneighbors(X, return_distance=False)\n",
      "  File \"/Users/ladino/opt/anaconda3/envs/Dashboard/lib/python3.9/site-packages/sklearn/neighbors/_base.py\", line 763, in kneighbors\n",
      "    results = PairwiseDistancesArgKmin.compute(\n",
      "  File \"sklearn/metrics/_pairwise_distances_reduction.pyx\", line 698, in sklearn.metrics._pairwise_distances_reduction.PairwiseDistancesArgKmin.compute\n",
      "  File \"/Users/ladino/opt/anaconda3/envs/Dashboard/lib/python3.9/site-packages/sklearn/utils/fixes.py\", line 151, in threadpool_limits\n",
      "    return threadpoolctl.threadpool_limits(limits=limits, user_api=user_api)\n",
      "  File \"/Users/ladino/opt/anaconda3/envs/Dashboard/lib/python3.9/site-packages/threadpoolctl.py\", line 171, in __init__\n",
      "    self._original_info = self._set_threadpool_limits()\n",
      "  File \"/Users/ladino/opt/anaconda3/envs/Dashboard/lib/python3.9/site-packages/threadpoolctl.py\", line 268, in _set_threadpool_limits\n",
      "    modules = _ThreadpoolInfo(prefixes=self._prefixes,\n",
      "  File \"/Users/ladino/opt/anaconda3/envs/Dashboard/lib/python3.9/site-packages/threadpoolctl.py\", line 340, in __init__\n",
      "    self._load_modules()\n",
      "  File \"/Users/ladino/opt/anaconda3/envs/Dashboard/lib/python3.9/site-packages/threadpoolctl.py\", line 371, in _load_modules\n",
      "    self._find_modules_with_dyld()\n",
      "  File \"/Users/ladino/opt/anaconda3/envs/Dashboard/lib/python3.9/site-packages/threadpoolctl.py\", line 428, in _find_modules_with_dyld\n",
      "    self._make_module_from_path(filepath)\n",
      "  File \"/Users/ladino/opt/anaconda3/envs/Dashboard/lib/python3.9/site-packages/threadpoolctl.py\", line 515, in _make_module_from_path\n",
      "    module = module_class(filepath, prefix, user_api, internal_api)\n",
      "  File \"/Users/ladino/opt/anaconda3/envs/Dashboard/lib/python3.9/site-packages/threadpoolctl.py\", line 606, in __init__\n",
      "    self.version = self.get_version()\n",
      "  File \"/Users/ladino/opt/anaconda3/envs/Dashboard/lib/python3.9/site-packages/threadpoolctl.py\", line 646, in get_version\n",
      "    config = get_config().split()\n",
      "AttributeError: 'NoneType' object has no attribute 'split'\n",
      "\n",
      "  warnings.warn(\n",
      "/Users/ladino/opt/anaconda3/envs/Dashboard/lib/python3.9/site-packages/sklearn/model_selection/_validation.py:776: UserWarning: Scoring failed. The score on this train-test partition for these parameters will be set to nan. Details: \n",
      "Traceback (most recent call last):\n",
      "  File \"/Users/ladino/opt/anaconda3/envs/Dashboard/lib/python3.9/site-packages/sklearn/model_selection/_validation.py\", line 767, in _score\n",
      "    scores = scorer(estimator, X_test, y_test)\n",
      "  File \"/Users/ladino/opt/anaconda3/envs/Dashboard/lib/python3.9/site-packages/sklearn/metrics/_scorer.py\", line 429, in _passthrough_scorer\n",
      "    return estimator.score(*args, **kwargs)\n",
      "  File \"/Users/ladino/opt/anaconda3/envs/Dashboard/lib/python3.9/site-packages/sklearn/base.py\", line 720, in score\n",
      "    y_pred = self.predict(X)\n",
      "  File \"/Users/ladino/opt/anaconda3/envs/Dashboard/lib/python3.9/site-packages/sklearn/neighbors/_regression.py\", line 229, in predict\n",
      "    neigh_ind = self.kneighbors(X, return_distance=False)\n",
      "  File \"/Users/ladino/opt/anaconda3/envs/Dashboard/lib/python3.9/site-packages/sklearn/neighbors/_base.py\", line 763, in kneighbors\n",
      "    results = PairwiseDistancesArgKmin.compute(\n",
      "  File \"sklearn/metrics/_pairwise_distances_reduction.pyx\", line 698, in sklearn.metrics._pairwise_distances_reduction.PairwiseDistancesArgKmin.compute\n",
      "  File \"/Users/ladino/opt/anaconda3/envs/Dashboard/lib/python3.9/site-packages/sklearn/utils/fixes.py\", line 151, in threadpool_limits\n",
      "    return threadpoolctl.threadpool_limits(limits=limits, user_api=user_api)\n",
      "  File \"/Users/ladino/opt/anaconda3/envs/Dashboard/lib/python3.9/site-packages/threadpoolctl.py\", line 171, in __init__\n",
      "    self._original_info = self._set_threadpool_limits()\n",
      "  File \"/Users/ladino/opt/anaconda3/envs/Dashboard/lib/python3.9/site-packages/threadpoolctl.py\", line 268, in _set_threadpool_limits\n",
      "    modules = _ThreadpoolInfo(prefixes=self._prefixes,\n",
      "  File \"/Users/ladino/opt/anaconda3/envs/Dashboard/lib/python3.9/site-packages/threadpoolctl.py\", line 340, in __init__\n",
      "    self._load_modules()\n",
      "  File \"/Users/ladino/opt/anaconda3/envs/Dashboard/lib/python3.9/site-packages/threadpoolctl.py\", line 371, in _load_modules\n",
      "    self._find_modules_with_dyld()\n",
      "  File \"/Users/ladino/opt/anaconda3/envs/Dashboard/lib/python3.9/site-packages/threadpoolctl.py\", line 428, in _find_modules_with_dyld\n",
      "    self._make_module_from_path(filepath)\n",
      "  File \"/Users/ladino/opt/anaconda3/envs/Dashboard/lib/python3.9/site-packages/threadpoolctl.py\", line 515, in _make_module_from_path\n",
      "    module = module_class(filepath, prefix, user_api, internal_api)\n",
      "  File \"/Users/ladino/opt/anaconda3/envs/Dashboard/lib/python3.9/site-packages/threadpoolctl.py\", line 606, in __init__\n",
      "    self.version = self.get_version()\n",
      "  File \"/Users/ladino/opt/anaconda3/envs/Dashboard/lib/python3.9/site-packages/threadpoolctl.py\", line 646, in get_version\n",
      "    config = get_config().split()\n",
      "AttributeError: 'NoneType' object has no attribute 'split'\n",
      "\n",
      "  warnings.warn(\n"
     ]
    },
    {
     "data": {
      "image/png": "[encoded data removed]",
      "text/plain": [
       "<Figure size 640x480 with 1 Axes>"
      ]
     },
     "metadata": {},
     "output_type": "display_data"
    }
   ],
   "source": [
    "from sklearn.model_selection import validation_curve\n",
    "n_neighbors = [1, 3, 5, 10, 20, 50]\n",
    "train_scores, test_scores = validation_curve(KNeighborsRegressor(), X, y, param_name=\"n_neighbors\",\n",
    "                                             param_range=n_neighbors, cv=cv)\n",
    "plt.plot(n_neighbors, train_scores.mean(axis=1), 'b', label=\"precisión de entrenamiento\")\n",
    "plt.plot(n_neighbors, test_scores.mean(axis=1), 'g', label=\"precisión de test\")\n",
    "plt.ylabel('Precisión')\n",
    "plt.xlabel('Número de vecinos')\n",
    "plt.xlim([50, 0])\n",
    "plt.legend(loc=\"best\");"
   ]
  },
  {
   "cell_type": "markdown",
   "metadata": {},
   "source": [
    "<div class=\"alert alert-warning\">\n",
    "    Observa que muchos vecinos resultan en un modelo suavizado o más simple, por lo que el eje X se ha dibujado invertido.\n",
    "</div>"
   ]
  },
  {
   "cell_type": "markdown",
   "metadata": {},
   "source": [
    "Si más de un parámetro es importante, como los parámetros ``C`` y ``gamma`` de una máquina de vectores soporte (SVM) (de las cuales hablaremos después), se intentan todas las posibles combinaciones de parámetros:"
   ]
  },
  {
   "cell_type": "code",
   "execution_count": 4,
   "metadata": {},
   "outputs": [
    {
     "name": "stdout",
     "output_type": "stream",
     "text": [
      "C: 0.001000, gamma: 0.001000, valor medio de R^2: -0.113910\n",
      "C: 0.001000, gamma: 0.010000, valor medio de R^2: -0.061468\n",
      "C: 0.001000, gamma: 0.100000, valor medio de R^2: -0.114009\n",
      "C: 0.001000, gamma: 1.000000, valor medio de R^2: -0.062084\n",
      "C: 0.010000, gamma: 0.001000, valor medio de R^2: -0.043720\n",
      "C: 0.010000, gamma: 0.010000, valor medio de R^2: -0.049624\n",
      "C: 0.010000, gamma: 0.100000, valor medio de R^2: -0.011274\n",
      "C: 0.010000, gamma: 1.000000, valor medio de R^2: 0.031635\n",
      "C: 0.100000, gamma: 0.001000, valor medio de R^2: -0.037147\n",
      "C: 0.100000, gamma: 0.010000, valor medio de R^2: 0.111365\n",
      "C: 0.100000, gamma: 0.100000, valor medio de R^2: 0.517222\n",
      "C: 0.100000, gamma: 1.000000, valor medio de R^2: 0.494376\n",
      "C: 1.000000, gamma: 0.001000, valor medio de R^2: 0.154187\n",
      "C: 1.000000, gamma: 0.010000, valor medio de R^2: 0.595469\n",
      "C: 1.000000, gamma: 0.100000, valor medio de R^2: 0.648914\n",
      "C: 1.000000, gamma: 1.000000, valor medio de R^2: 0.690131\n",
      "C: 10.000000, gamma: 0.001000, valor medio de R^2: 0.595331\n",
      "C: 10.000000, gamma: 0.010000, valor medio de R^2: 0.609699\n",
      "C: 10.000000, gamma: 0.100000, valor medio de R^2: 0.657393\n",
      "C: 10.000000, gamma: 1.000000, valor medio de R^2: 0.772437\n"
     ]
    }
   ],
   "source": [
    "from sklearn.model_selection import cross_val_score, KFold\n",
    "from sklearn.svm import SVR\n",
    "\n",
    "# Hacer validación cruzada para cada combinación de parámetros:\n",
    "for C in [0.001, 0.01, 0.1, 1, 10]:\n",
    "    for gamma in [0.001, 0.01, 0.1, 1]:\n",
    "        scores = cross_val_score(SVR(C=C, gamma=gamma), X, y, cv=cv)\n",
    "        print(\"C: %f, gamma: %f, valor medio de R^2: %f\" % (C, gamma, np.mean(scores)))"
   ]
  },
  {
   "cell_type": "markdown",
   "metadata": {},
   "source": [
    "Como esto es algo que se hace frecuentemente en aprendizaje automático, hay una clase ya implementada en scikit-learn, ``GridSearchCV``. ``GridSearchCV`` utiliza un diccionario que describe los parámetros que deberían probarse y un modelo que entrenar.\n",
    "\n",
    "La rejilla de parámetros se define como un diccionario, donde las claves son los parámetros y los valores son las cantidades a probar."
   ]
  },
  {
   "cell_type": "code",
   "execution_count": 5,
   "metadata": {},
   "outputs": [],
   "source": [
    "from sklearn.model_selection import GridSearchCV\n",
    "param_grid = {'C': [0.001, 0.01, 0.1, 1, 10], 'gamma': [0.001, 0.01, 0.1, 1]}\n",
    "\n",
    "grid = GridSearchCV(SVR(), param_grid=param_grid, cv=cv, verbose=3)"
   ]
  },
  {
   "cell_type": "markdown",
   "metadata": {},
   "source": [
    "Una de las cosas interesantes de GridSearchCV es que es un *meta-estimador*. Utiliza un estimador como SVR y crea un nuevo estimador que se comporta exactamente igual que SVR, por lo que podemos llamar a ``fit`` para entrenarlo:"
   ]
  },
  {
   "cell_type": "code",
   "execution_count": 6,
   "metadata": {},
   "outputs": [
    {
     "name": "stdout",
     "output_type": "stream",
     "text": [
      "Fitting 5 folds for each of 20 candidates, totalling 100 fits\n",
      "[CV 1/5] END .............C=0.001, gamma=0.001;, score=-0.006 total time=   0.0s\n",
      "[CV 2/5] END .............C=0.001, gamma=0.001;, score=-0.055 total time=   0.0s\n",
      "[CV 3/5] END .............C=0.001, gamma=0.001;, score=-0.061 total time=   0.0s\n",
      "[CV 4/5] END .............C=0.001, gamma=0.001;, score=-0.143 total time=   0.0s\n",
      "[CV 5/5] END .............C=0.001, gamma=0.001;, score=-0.138 total time=   0.0s\n",
      "[CV 1/5] END ..............C=0.001, gamma=0.01;, score=-0.003 total time=   0.0s\n",
      "[CV 2/5] END ..............C=0.001, gamma=0.01;, score=-0.052 total time=   0.0s\n",
      "[CV 3/5] END ..............C=0.001, gamma=0.01;, score=-0.058 total time=   0.0s\n",
      "[CV 4/5] END ..............C=0.001, gamma=0.01;, score=-0.140 total time=   0.0s\n",
      "[CV 5/5] END ..............C=0.001, gamma=0.01;, score=-0.135 total time=   0.0s\n",
      "[CV 1/5] END ................C=0.001, gamma=0.1;, score=0.007 total time=   0.0s\n",
      "[CV 2/5] END ...............C=0.001, gamma=0.1;, score=-0.040 total time=   0.0s\n",
      "[CV 3/5] END ...............C=0.001, gamma=0.1;, score=-0.046 total time=   0.0s\n",
      "[CV 4/5] END ...............C=0.001, gamma=0.1;, score=-0.126 total time=   0.0s\n",
      "[CV 5/5] END ...............C=0.001, gamma=0.1;, score=-0.122 total time=   0.0s\n",
      "[CV 1/5] END ..................C=0.001, gamma=1;, score=0.006 total time=   0.0s\n",
      "[CV 2/5] END .................C=0.001, gamma=1;, score=-0.042 total time=   0.0s\n",
      "[CV 3/5] END .................C=0.001, gamma=1;, score=-0.048 total time=   0.0s\n",
      "[CV 4/5] END .................C=0.001, gamma=1;, score=-0.129 total time=   0.0s\n",
      "[CV 5/5] END .................C=0.001, gamma=1;, score=-0.123 total time=   0.0s\n",
      "[CV 1/5] END ..............C=0.01, gamma=0.001;, score=-0.003 total time=   0.0s\n",
      "[CV 2/5] END ..............C=0.01, gamma=0.001;, score=-0.052 total time=   0.0s\n",
      "[CV 3/5] END ..............C=0.01, gamma=0.001;, score=-0.058 total time=   0.0s\n",
      "[CV 4/5] END ..............C=0.01, gamma=0.001;, score=-0.140 total time=   0.0s\n",
      "[CV 5/5] END ..............C=0.01, gamma=0.001;, score=-0.135 total time=   0.0s\n",
      "[CV 1/5] END ................C=0.01, gamma=0.01;, score=0.021 total time=   0.0s\n",
      "[CV 2/5] END ...............C=0.01, gamma=0.01;, score=-0.025 total time=   0.0s\n",
      "[CV 3/5] END ...............C=0.01, gamma=0.01;, score=-0.030 total time=   0.0s\n",
      "[CV 4/5] END ...............C=0.01, gamma=0.01;, score=-0.108 total time=   0.0s\n",
      "[CV 5/5] END ...............C=0.01, gamma=0.01;, score=-0.103 total time=   0.0s\n",
      "[CV 1/5] END .................C=0.01, gamma=0.1;, score=0.112 total time=   0.0s\n",
      "[CV 2/5] END .................C=0.01, gamma=0.1;, score=0.081 total time=   0.0s\n",
      "[CV 3/5] END .................C=0.01, gamma=0.1;, score=0.074 total time=   0.0s\n",
      "[CV 4/5] END .................C=0.01, gamma=0.1;, score=0.013 total time=   0.0s\n",
      "[CV 5/5] END ................C=0.01, gamma=0.1;, score=-0.001 total time=   0.0s\n",
      "[CV 1/5] END ...................C=0.01, gamma=1;, score=0.101 total time=   0.0s\n",
      "[CV 2/5] END ...................C=0.01, gamma=1;, score=0.070 total time=   0.0s\n",
      "[CV 3/5] END ...................C=0.01, gamma=1;, score=0.052 total time=   0.0s\n",
      "[CV 4/5] END ..................C=0.01, gamma=1;, score=-0.001 total time=   0.0s\n",
      "[CV 5/5] END ..................C=0.01, gamma=1;, score=-0.006 total time=   0.0s\n",
      "[CV 1/5] END ................C=0.1, gamma=0.001;, score=0.023 total time=   0.0s\n",
      "[CV 2/5] END ...............C=0.1, gamma=0.001;, score=-0.022 total time=   0.0s\n",
      "[CV 3/5] END ...............C=0.1, gamma=0.001;, score=-0.027 total time=   0.0s\n",
      "[CV 4/5] END ...............C=0.1, gamma=0.001;, score=-0.105 total time=   0.0s\n",
      "[CV 5/5] END ...............C=0.1, gamma=0.001;, score=-0.100 total time=   0.0s\n",
      "[CV 1/5] END .................C=0.1, gamma=0.01;, score=0.199 total time=   0.0s\n",
      "[CV 2/5] END .................C=0.1, gamma=0.01;, score=0.171 total time=   0.0s\n",
      "[CV 3/5] END .................C=0.1, gamma=0.01;, score=0.182 total time=   0.0s\n",
      "[CV 4/5] END .................C=0.1, gamma=0.01;, score=0.135 total time=   0.0s\n",
      "[CV 5/5] END .................C=0.1, gamma=0.01;, score=0.084 total time=   0.0s\n",
      "[CV 1/5] END ..................C=0.1, gamma=0.1;, score=0.522 total time=   0.0s\n",
      "[CV 2/5] END ..................C=0.1, gamma=0.1;, score=0.541 total time=   0.0s\n",
      "[CV 3/5] END ..................C=0.1, gamma=0.1;, score=0.489 total time=   0.0s\n",
      "[CV 4/5] END ..................C=0.1, gamma=0.1;, score=0.550 total time=   0.0s\n",
      "[CV 5/5] END ..................C=0.1, gamma=0.1;, score=0.474 total time=   0.0s\n",
      "[CV 1/5] END ....................C=0.1, gamma=1;, score=0.502 total time=   0.0s\n",
      "[CV 2/5] END ....................C=0.1, gamma=1;, score=0.530 total time=   0.0s\n",
      "[CV 3/5] END ....................C=0.1, gamma=1;, score=0.473 total time=   0.0s\n",
      "[CV 4/5] END ....................C=0.1, gamma=1;, score=0.524 total time=   0.0s\n",
      "[CV 5/5] END ....................C=0.1, gamma=1;, score=0.458 total time=   0.0s\n",
      "[CV 1/5] END ..................C=1, gamma=0.001;, score=0.216 total time=   0.0s\n",
      "[CV 2/5] END ..................C=1, gamma=0.001;, score=0.183 total time=   0.0s\n",
      "[CV 3/5] END ..................C=1, gamma=0.001;, score=0.203 total time=   0.0s\n",
      "[CV 4/5] END ..................C=1, gamma=0.001;, score=0.140 total time=   0.0s\n",
      "[CV 5/5] END ..................C=1, gamma=0.001;, score=0.103 total time=   0.0s\n",
      "[CV 1/5] END ...................C=1, gamma=0.01;, score=0.608 total time=   0.0s\n",
      "[CV 2/5] END ...................C=1, gamma=0.01;, score=0.609 total time=   0.0s\n",
      "[CV 3/5] END ...................C=1, gamma=0.01;, score=0.506 total time=   0.0s\n",
      "[CV 4/5] END ...................C=1, gamma=0.01;, score=0.615 total time=   0.0s\n",
      "[CV 5/5] END ...................C=1, gamma=0.01;, score=0.531 total time=   0.0s\n",
      "[CV 1/5] END ....................C=1, gamma=0.1;, score=0.694 total time=   0.0s\n",
      "[CV 2/5] END ....................C=1, gamma=0.1;, score=0.730 total time=   0.0s\n",
      "[CV 3/5] END ....................C=1, gamma=0.1;, score=0.483 total time=   0.0s\n",
      "[CV 4/5] END ....................C=1, gamma=0.1;, score=0.551 total time=   0.0s\n",
      "[CV 5/5] END ....................C=1, gamma=0.1;, score=0.683 total time=   0.0s\n",
      "[CV 1/5] END ......................C=1, gamma=1;, score=0.752 total time=   0.0s\n",
      "[CV 2/5] END ......................C=1, gamma=1;, score=0.760 total time=   0.0s\n",
      "[CV 3/5] END ......................C=1, gamma=1;, score=0.576 total time=   0.0s\n",
      "[CV 4/5] END ......................C=1, gamma=1;, score=0.588 total time=   0.0s\n",
      "[CV 5/5] END ......................C=1, gamma=1;, score=0.740 total time=   0.0s\n",
      "[CV 1/5] END .................C=10, gamma=0.001;, score=0.613 total time=   0.0s\n",
      "[CV 2/5] END .................C=10, gamma=0.001;, score=0.606 total time=   0.0s\n",
      "[CV 3/5] END .................C=10, gamma=0.001;, score=0.500 total time=   0.0s\n",
      "[CV 4/5] END .................C=10, gamma=0.001;, score=0.606 total time=   0.0s\n",
      "[CV 5/5] END .................C=10, gamma=0.001;, score=0.527 total time=   0.0s\n",
      "[CV 1/5] END ..................C=10, gamma=0.01;, score=0.680 total time=   0.0s\n",
      "[CV 2/5] END ..................C=10, gamma=0.01;, score=0.668 total time=   0.0s\n",
      "[CV 3/5] END ..................C=10, gamma=0.01;, score=0.361 total time=   0.0s\n",
      "[CV 4/5] END ..................C=10, gamma=0.01;, score=0.596 total time=   0.0s\n",
      "[CV 5/5] END ..................C=10, gamma=0.01;, score=0.573 total time=   0.0s\n",
      "[CV 1/5] END ...................C=10, gamma=0.1;, score=0.701 total time=   0.0s\n",
      "[CV 2/5] END ...................C=10, gamma=0.1;, score=0.751 total time=   0.0s\n",
      "[CV 3/5] END ...................C=10, gamma=0.1;, score=0.464 total time=   0.0s\n",
      "[CV 4/5] END ...................C=10, gamma=0.1;, score=0.468 total time=   0.0s\n",
      "[CV 5/5] END ...................C=10, gamma=0.1;, score=0.717 total time=   0.0s\n",
      "[CV 1/5] END .....................C=10, gamma=1;, score=0.801 total time=   0.0s\n",
      "[CV 2/5] END .....................C=10, gamma=1;, score=0.815 total time=   0.0s\n",
      "[CV 3/5] END .....................C=10, gamma=1;, score=0.606 total time=   0.0s\n",
      "[CV 4/5] END .....................C=10, gamma=1;, score=0.590 total time=   0.0s\n",
      "[CV 5/5] END .....................C=10, gamma=1;, score=0.835 total time=   0.0s\n"
     ]
    },
    {
     "data": {
      "text/html": [
       "<style>#sk-container-id-1 {color: black;background-color: white;}#sk-container-id-1 pre{padding: 0;}#sk-container-id-1 div.sk-toggleable {background-color: white;}#sk-container-id-1 label.sk-toggleable__label {cursor: pointer;display: block;width: 100%;margin-bottom: 0;padding: 0.3em;box-sizing: border-box;text-align: center;}#sk-container-id-1 label.sk-toggleable__label-arrow:before {content: \"▸\";float: left;margin-right: 0.25em;color: #696969;}#sk-container-id-1 label.sk-toggleable__label-arrow:hover:before {color: black;}#sk-container-id-1 div.sk-estimator:hover label.sk-toggleable__label-arrow:before {color: black;}#sk-container-id-1 div.sk-toggleable__content {max-height: 0;max-width: 0;overflow: hidden;text-align: left;background-color: #f0f8ff;}#sk-container-id-1 div.sk-toggleable__content pre {margin: 0.2em;color: black;border-radius: 0.25em;background-color: #f0f8ff;}#sk-container-id-1 input.sk-toggleable__control:checked~div.sk-toggleable__content {max-height: 200px;max-width: 100%;overflow: auto;}#sk-container-id-1 input.sk-toggleable__control:checked~label.sk-toggleable__label-arrow:before {content: \"▾\";}#sk-container-id-1 div.sk-estimator input.sk-toggleable__control:checked~label.sk-toggleable__label {background-color: #d4ebff;}#sk-container-id-1 div.sk-label input.sk-toggleable__control:checked~label.sk-toggleable__label {background-color: #d4ebff;}#sk-container-id-1 input.sk-hidden--visually {border: 0;clip: rect(1px 1px 1px 1px);clip: rect(1px, 1px, 1px, 1px);height: 1px;margin: -1px;overflow: hidden;padding: 0;position: absolute;width: 1px;}#sk-container-id-1 div.sk-estimator {font-family: monospace;background-color: #f0f8ff;border: 1px dotted black;border-radius: 0.25em;box-sizing: border-box;margin-bottom: 0.5em;}#sk-container-id-1 div.sk-estimator:hover {background-color: #d4ebff;}#sk-container-id-1 div.sk-parallel-item::after {content: \"\";width: 100%;border-bottom: 1px solid gray;flex-grow: 1;}#sk-container-id-1 div.sk-label:hover label.sk-toggleable__label {background-color: #d4ebff;}#sk-container-id-1 div.sk-serial::before {content: \"\";position: absolute;border-left: 1px solid gray;box-sizing: border-box;top: 0;bottom: 0;left: 50%;z-index: 0;}#sk-container-id-1 div.sk-serial {display: flex;flex-direction: column;align-items: center;background-color: white;padding-right: 0.2em;padding-left: 0.2em;position: relative;}#sk-container-id-1 div.sk-item {position: relative;z-index: 1;}#sk-container-id-1 div.sk-parallel {display: flex;align-items: stretch;justify-content: center;background-color: white;position: relative;}#sk-container-id-1 div.sk-item::before, #sk-container-id-1 div.sk-parallel-item::before {content: \"\";position: absolute;border-left: 1px solid gray;box-sizing: border-box;top: 0;bottom: 0;left: 50%;z-index: -1;}#sk-container-id-1 div.sk-parallel-item {display: flex;flex-direction: column;z-index: 1;position: relative;background-color: white;}#sk-container-id-1 div.sk-parallel-item:first-child::after {align-self: flex-end;width: 50%;}#sk-container-id-1 div.sk-parallel-item:last-child::after {align-self: flex-start;width: 50%;}#sk-container-id-1 div.sk-parallel-item:only-child::after {width: 0;}#sk-container-id-1 div.sk-dashed-wrapped {border: 1px dashed gray;margin: 0 0.4em 0.5em 0.4em;box-sizing: border-box;padding-bottom: 0.4em;background-color: white;}#sk-container-id-1 div.sk-label label {font-family: monospace;font-weight: bold;display: inline-block;line-height: 1.2em;}#sk-container-id-1 div.sk-label-container {text-align: center;}#sk-container-id-1 div.sk-container {/* jupyter's `normalize.less` sets `[hidden] { display: none; }` but bootstrap.min.css set `[hidden] { display: none !important; }` so we also need the `!important` here to be able to override the default hidden behavior on the sphinx rendered scikit-learn.org. See: https://github.com/scikit-learn/scikit-learn/issues/21755 */display: inline-block !important;position: relative;}#sk-container-id-1 div.sk-text-repr-fallback {display: none;}</style><div id=\"sk-container-id-1\" class=\"sk-top-container\"><div class=\"sk-text-repr-fallback\"><pre>GridSearchCV(cv=KFold(n_splits=5, random_state=None, shuffle=True),\n",
       "             estimator=SVR(),\n",
       "             param_grid={&#x27;C&#x27;: [0.001, 0.01, 0.1, 1, 10],\n",
       "                         &#x27;gamma&#x27;: [0.001, 0.01, 0.1, 1]},\n",
       "             verbose=3)</pre><b>In a Jupyter environment, please rerun this cell to show the HTML representation or trust the notebook. <br />On GitHub, the HTML representation is unable to render, please try loading this page with nbviewer.org.</b></div><div class=\"sk-container\" hidden><div class=\"sk-item sk-dashed-wrapped\"><div class=\"sk-label-container\"><div class=\"sk-label sk-toggleable\"><input class=\"sk-toggleable__control sk-hidden--visually\" id=\"sk-estimator-id-1\" type=\"checkbox\" ><label for=\"sk-estimator-id-1\" class=\"sk-toggleable__label sk-toggleable__label-arrow\">GridSearchCV</label><div class=\"sk-toggleable__content\"><pre>GridSearchCV(cv=KFold(n_splits=5, random_state=None, shuffle=True),\n",
       "             estimator=SVR(),\n",
       "             param_grid={&#x27;C&#x27;: [0.001, 0.01, 0.1, 1, 10],\n",
       "                         &#x27;gamma&#x27;: [0.001, 0.01, 0.1, 1]},\n",
       "             verbose=3)</pre></div></div></div><div class=\"sk-parallel\"><div class=\"sk-parallel-item\"><div class=\"sk-item\"><div class=\"sk-label-container\"><div class=\"sk-label sk-toggleable\"><input class=\"sk-toggleable__control sk-hidden--visually\" id=\"sk-estimator-id-2\" type=\"checkbox\" ><label for=\"sk-estimator-id-2\" class=\"sk-toggleable__label sk-toggleable__label-arrow\">estimator: SVR</label><div class=\"sk-toggleable__content\"><pre>SVR()</pre></div></div></div><div class=\"sk-serial\"><div class=\"sk-item\"><div class=\"sk-estimator sk-toggleable\"><input class=\"sk-toggleable__control sk-hidden--visually\" id=\"sk-estimator-id-3\" type=\"checkbox\" ><label for=\"sk-estimator-id-3\" class=\"sk-toggleable__label sk-toggleable__label-arrow\">SVR</label><div class=\"sk-toggleable__content\"><pre>SVR()</pre></div></div></div></div></div></div></div></div></div></div>"
      ],
      "text/plain": [
       "GridSearchCV(cv=KFold(n_splits=5, random_state=None, shuffle=True),\n",
       "             estimator=SVR(),\n",
       "             param_grid={'C': [0.001, 0.01, 0.1, 1, 10],\n",
       "                         'gamma': [0.001, 0.01, 0.1, 1]},\n",
       "             verbose=3)"
      ]
     },
     "execution_count": 6,
     "metadata": {},
     "output_type": "execute_result"
    }
   ],
   "source": [
    "grid.fit(X, y)"
   ]
  },
  {
   "cell_type": "markdown",
   "metadata": {},
   "source": [
    "``GridSearchCV`` aplica un proceso algo más complejo que el visto anteriormente. Primero, ejecuta el mismo bucle de validación cruzada para encontrar la mejor combinación de parámetros. Una vez tiene la mejor combinación, ejecuta el método ``fit`` de nuevo sobre todos los datos que se le pasan (sin validación cruzada), para construir un nuevo modelo con los parámetros óptimos obtenidos anteriormente."
   ]
  },
  {
   "cell_type": "markdown",
   "metadata": {},
   "source": [
    "Después, utilizando los métodos ``predict`` o ``score`` podemos realizar una nueva predicción:\n"
   ]
  },
  {
   "cell_type": "code",
   "execution_count": 7,
   "metadata": {},
   "outputs": [
    {
     "data": {
      "text/plain": [
       "array([-1.79762875, -1.74054091, -1.71412904, -1.72272347, -1.76880247,\n",
       "       -1.8527208 , -1.97255382, -2.12407501, -2.30087676, -2.49463429,\n",
       "       -2.695503  , -2.89262935, -3.07474705, -3.23082299, -3.35071314,\n",
       "       -3.42578612, -3.44947391, -3.41771237, -3.32924127, -3.18574205,\n",
       "       -2.9918017 , -2.75470244, -2.48404785, -2.19124658, -1.88888388,\n",
       "       -1.59001819, -1.30744475, -1.05297034, -0.8367425 , -0.66667333,\n",
       "       -0.54799235, -0.4829551 , -0.4707249 , -0.50743515, -0.58642852,\n",
       "       -0.69865919, -0.83323456, -0.97806438, -1.12057877, -1.24847261,\n",
       "       -1.35043139, -1.41679516, -1.44012026, -1.41560488, -1.3413525 ,\n",
       "       -1.21845724, -1.05090633, -0.84530623, -0.61045003, -0.35675398,\n",
       "       -0.09559933,  0.16137852,  0.40300817,  0.61926205,  0.80185531,\n",
       "        0.94472644,  1.04437082,  1.10000798,  1.11357463,  1.08954695,\n",
       "        1.03460678,  0.95717608,  0.86685224,  0.7737823 ,  0.68801751,\n",
       "        0.61888941,  0.57444669,  0.56098656,  0.58270777,  0.64150352,\n",
       "        0.73690334,  0.86616306,  1.02449275,  1.20540425,  1.40115266,\n",
       "        1.60324152,  1.80295801,  1.99190412,  2.16249073,  2.3083654 ,\n",
       "        2.42474939,  2.50866621,  2.55905134,  2.57674055,  2.56434191,\n",
       "        2.52600389,  2.46709789,  2.39383845,  2.31286721,  2.23082834,\n",
       "        2.15396216,  2.0877418 ,  2.03657355,  2.00357681,  1.99045342,\n",
       "        1.99745004,  2.02341108,  2.06591373,  2.12147209,  2.18579347])"
      ]
     },
     "execution_count": 7,
     "metadata": {},
     "output_type": "execute_result"
    }
   ],
   "source": [
    "grid.predict(X)"
   ]
  },
  {
   "cell_type": "markdown",
   "metadata": {
    "collapsed": true
   },
   "source": [
    "Puedes observar los mejores parámetros obtenidos por ``GridSearchCV`` en su atributo ``best_params_`` y la puntuación correspondiente en su atributo ``best_score_``:"
   ]
  },
  {
   "cell_type": "code",
   "execution_count": 8,
   "metadata": {},
   "outputs": [
    {
     "name": "stdout",
     "output_type": "stream",
     "text": [
      "0.7294653250083266\n"
     ]
    }
   ],
   "source": [
    "print(grid.best_score_)"
   ]
  },
  {
   "cell_type": "code",
   "execution_count": 9,
   "metadata": {},
   "outputs": [
    {
     "name": "stdout",
     "output_type": "stream",
     "text": [
      "{'C': 10, 'gamma': 1}\n"
     ]
    }
   ],
   "source": [
    "print(grid.best_params_)"
   ]
  },
  {
   "cell_type": "markdown",
   "metadata": {},
   "source": [
    "Pero puedes investigar más a fondo el rendimiento y algunas cosas más sobre cada una de las combinaciones de parámetros accediendo al atributo `cv_results_`. `cv_results_` es un diccionario donde cada clave es una cadena y cada valor un array. Se puede por tanto usar para crear un ``DataFrame`` de pandas."
   ]
  },
  {
   "cell_type": "code",
   "execution_count": 10,
   "metadata": {},
   "outputs": [
    {
     "data": {
      "text/plain": [
       "dict"
      ]
     },
     "execution_count": 10,
     "metadata": {},
     "output_type": "execute_result"
    }
   ],
   "source": [
    "type(grid.cv_results_)"
   ]
  },
  {
   "cell_type": "code",
   "execution_count": 11,
   "metadata": {},
   "outputs": [
    {
     "name": "stdout",
     "output_type": "stream",
     "text": [
      "dict_keys(['mean_fit_time', 'std_fit_time', 'mean_score_time', 'std_score_time', 'param_C', 'param_gamma', 'params', 'split0_test_score', 'split1_test_score', 'split2_test_score', 'split3_test_score', 'split4_test_score', 'mean_test_score', 'std_test_score', 'rank_test_score'])\n"
     ]
    }
   ],
   "source": [
    "print(grid.cv_results_.keys())"
   ]
  },
  {
   "cell_type": "code",
   "execution_count": 12,
   "metadata": {},
   "outputs": [
    {
     "name": "stderr",
     "output_type": "stream",
     "text": [
      "/Users/ladino/opt/anaconda3/envs/Dashboard/lib/python3.9/site-packages/pandas/core/computation/expressions.py:21: UserWarning: Pandas requires version '2.8.4' or newer of 'numexpr' (version '2.8.3' currently installed).\n",
      "  from pandas.core.computation.check import NUMEXPR_INSTALLED\n",
      "/Users/ladino/opt/anaconda3/envs/Dashboard/lib/python3.9/site-packages/pandas/core/arrays/masked.py:60: UserWarning: Pandas requires version '1.3.6' or newer of 'bottleneck' (version '1.3.5' currently installed).\n",
      "  from pandas.core import (\n"
     ]
    },
    {
     "data": {
      "text/html": [
       "<div>\n",
       "<style scoped>\n",
       "    .dataframe tbody tr th:only-of-type {\n",
       "        vertical-align: middle;\n",
       "    }\n",
       "\n",
       "    .dataframe tbody tr th {\n",
       "        vertical-align: top;\n",
       "    }\n",
       "\n",
       "    .dataframe thead th {\n",
       "        text-align: right;\n",
       "    }\n",
       "</style>\n",
       "<table border=\"1\" class=\"dataframe\">\n",
       "  <thead>\n",
       "    <tr style=\"text-align: right;\">\n",
       "      <th></th>\n",
       "      <th>mean_fit_time</th>\n",
       "      <th>std_fit_time</th>\n",
       "      <th>mean_score_time</th>\n",
       "      <th>std_score_time</th>\n",
       "      <th>param_C</th>\n",
       "      <th>param_gamma</th>\n",
       "      <th>params</th>\n",
       "      <th>split0_test_score</th>\n",
       "      <th>split1_test_score</th>\n",
       "      <th>split2_test_score</th>\n",
       "      <th>split3_test_score</th>\n",
       "      <th>split4_test_score</th>\n",
       "      <th>mean_test_score</th>\n",
       "      <th>std_test_score</th>\n",
       "      <th>rank_test_score</th>\n",
       "    </tr>\n",
       "  </thead>\n",
       "  <tbody>\n",
       "    <tr>\n",
       "      <th>0</th>\n",
       "      <td>0.000922</td>\n",
       "      <td>0.000080</td>\n",
       "      <td>0.000686</td>\n",
       "      <td>0.000130</td>\n",
       "      <td>0.001</td>\n",
       "      <td>0.001</td>\n",
       "      <td>{'C': 0.001, 'gamma': 0.001}</td>\n",
       "      <td>-0.005584</td>\n",
       "      <td>-0.054675</td>\n",
       "      <td>-0.061235</td>\n",
       "      <td>-0.143196</td>\n",
       "      <td>-0.138317</td>\n",
       "      <td>-0.080602</td>\n",
       "      <td>0.052771</td>\n",
       "      <td>20</td>\n",
       "    </tr>\n",
       "    <tr>\n",
       "      <th>1</th>\n",
       "      <td>0.000848</td>\n",
       "      <td>0.000053</td>\n",
       "      <td>0.000642</td>\n",
       "      <td>0.000089</td>\n",
       "      <td>0.001</td>\n",
       "      <td>0.01</td>\n",
       "      <td>{'C': 0.001, 'gamma': 0.01}</td>\n",
       "      <td>-0.003294</td>\n",
       "      <td>-0.051892</td>\n",
       "      <td>-0.058382</td>\n",
       "      <td>-0.140002</td>\n",
       "      <td>-0.135424</td>\n",
       "      <td>-0.077799</td>\n",
       "      <td>0.052515</td>\n",
       "      <td>19</td>\n",
       "    </tr>\n",
       "    <tr>\n",
       "      <th>2</th>\n",
       "      <td>0.000927</td>\n",
       "      <td>0.000077</td>\n",
       "      <td>0.000634</td>\n",
       "      <td>0.000038</td>\n",
       "      <td>0.001</td>\n",
       "      <td>0.1</td>\n",
       "      <td>{'C': 0.001, 'gamma': 0.1}</td>\n",
       "      <td>0.007277</td>\n",
       "      <td>-0.039835</td>\n",
       "      <td>-0.045796</td>\n",
       "      <td>-0.126078</td>\n",
       "      <td>-0.121974</td>\n",
       "      <td>-0.065281</td>\n",
       "      <td>0.051385</td>\n",
       "      <td>16</td>\n",
       "    </tr>\n",
       "    <tr>\n",
       "      <th>3</th>\n",
       "      <td>0.000829</td>\n",
       "      <td>0.000045</td>\n",
       "      <td>0.000585</td>\n",
       "      <td>0.000038</td>\n",
       "      <td>0.001</td>\n",
       "      <td>1</td>\n",
       "      <td>{'C': 0.001, 'gamma': 1}</td>\n",
       "      <td>0.005950</td>\n",
       "      <td>-0.042155</td>\n",
       "      <td>-0.047682</td>\n",
       "      <td>-0.129305</td>\n",
       "      <td>-0.123049</td>\n",
       "      <td>-0.067248</td>\n",
       "      <td>0.051644</td>\n",
       "      <td>17</td>\n",
       "    </tr>\n",
       "    <tr>\n",
       "      <th>4</th>\n",
       "      <td>0.000884</td>\n",
       "      <td>0.000148</td>\n",
       "      <td>0.000631</td>\n",
       "      <td>0.000082</td>\n",
       "      <td>0.01</td>\n",
       "      <td>0.001</td>\n",
       "      <td>{'C': 0.01, 'gamma': 0.001}</td>\n",
       "      <td>-0.003062</td>\n",
       "      <td>-0.051605</td>\n",
       "      <td>-0.058093</td>\n",
       "      <td>-0.139678</td>\n",
       "      <td>-0.135151</td>\n",
       "      <td>-0.077518</td>\n",
       "      <td>0.052494</td>\n",
       "      <td>18</td>\n",
       "    </tr>\n",
       "  </tbody>\n",
       "</table>\n",
       "</div>"
      ],
      "text/plain": [
       "   mean_fit_time  std_fit_time  mean_score_time  std_score_time param_C  \\\n",
       "0       0.000922      0.000080         0.000686        0.000130   0.001   \n",
       "1       0.000848      0.000053         0.000642        0.000089   0.001   \n",
       "2       0.000927      0.000077         0.000634        0.000038   0.001   \n",
       "3       0.000829      0.000045         0.000585        0.000038   0.001   \n",
       "4       0.000884      0.000148         0.000631        0.000082    0.01   \n",
       "\n",
       "  param_gamma                        params  split0_test_score  \\\n",
       "0       0.001  {'C': 0.001, 'gamma': 0.001}          -0.005584   \n",
       "1        0.01   {'C': 0.001, 'gamma': 0.01}          -0.003294   \n",
       "2         0.1    {'C': 0.001, 'gamma': 0.1}           0.007277   \n",
       "3           1      {'C': 0.001, 'gamma': 1}           0.005950   \n",
       "4       0.001   {'C': 0.01, 'gamma': 0.001}          -0.003062   \n",
       "\n",
       "   split1_test_score  split2_test_score  split3_test_score  split4_test_score  \\\n",
       "0          -0.054675          -0.061235          -0.143196          -0.138317   \n",
       "1          -0.051892          -0.058382          -0.140002          -0.135424   \n",
       "2          -0.039835          -0.045796          -0.126078          -0.121974   \n",
       "3          -0.042155          -0.047682          -0.129305          -0.123049   \n",
       "4          -0.051605          -0.058093          -0.139678          -0.135151   \n",
       "\n",
       "   mean_test_score  std_test_score  rank_test_score  \n",
       "0        -0.080602        0.052771               20  \n",
       "1        -0.077799        0.052515               19  \n",
       "2        -0.065281        0.051385               16  \n",
       "3        -0.067248        0.051644               17  \n",
       "4        -0.077518        0.052494               18  "
      ]
     },
     "execution_count": 12,
     "metadata": {},
     "output_type": "execute_result"
    }
   ],
   "source": [
    "import pandas as pd\n",
    "\n",
    "cv_results = pd.DataFrame(grid.cv_results_)\n",
    "cv_results.head()"
   ]
  },
  {
   "cell_type": "code",
   "execution_count": 13,
   "metadata": {},
   "outputs": [
    {
     "data": {
      "text/html": [
       "<div>\n",
       "<style scoped>\n",
       "    .dataframe tbody tr th:only-of-type {\n",
       "        vertical-align: middle;\n",
       "    }\n",
       "\n",
       "    .dataframe tbody tr th {\n",
       "        vertical-align: top;\n",
       "    }\n",
       "\n",
       "    .dataframe thead th {\n",
       "        text-align: right;\n",
       "    }\n",
       "</style>\n",
       "<table border=\"1\" class=\"dataframe\">\n",
       "  <thead>\n",
       "    <tr style=\"text-align: right;\">\n",
       "      <th></th>\n",
       "      <th>param_C</th>\n",
       "      <th>param_gamma</th>\n",
       "      <th>mean_test_score</th>\n",
       "    </tr>\n",
       "  </thead>\n",
       "  <tbody>\n",
       "    <tr>\n",
       "      <th>19</th>\n",
       "      <td>10</td>\n",
       "      <td>1</td>\n",
       "      <td>0.729465</td>\n",
       "    </tr>\n",
       "    <tr>\n",
       "      <th>15</th>\n",
       "      <td>1</td>\n",
       "      <td>1</td>\n",
       "      <td>0.683200</td>\n",
       "    </tr>\n",
       "    <tr>\n",
       "      <th>14</th>\n",
       "      <td>1</td>\n",
       "      <td>0.1</td>\n",
       "      <td>0.628025</td>\n",
       "    </tr>\n",
       "    <tr>\n",
       "      <th>18</th>\n",
       "      <td>10</td>\n",
       "      <td>0.1</td>\n",
       "      <td>0.620166</td>\n",
       "    </tr>\n",
       "    <tr>\n",
       "      <th>17</th>\n",
       "      <td>10</td>\n",
       "      <td>0.01</td>\n",
       "      <td>0.575693</td>\n",
       "    </tr>\n",
       "  </tbody>\n",
       "</table>\n",
       "</div>"
      ],
      "text/plain": [
       "   param_C param_gamma  mean_test_score\n",
       "19      10           1         0.729465\n",
       "15       1           1         0.683200\n",
       "14       1         0.1         0.628025\n",
       "18      10         0.1         0.620166\n",
       "17      10        0.01         0.575693"
      ]
     },
     "execution_count": 13,
     "metadata": {},
     "output_type": "execute_result"
    }
   ],
   "source": [
    "cv_results_tiny = cv_results[['param_C', 'param_gamma', 'mean_test_score']]\n",
    "cv_results_tiny.sort_values(by='mean_test_score', ascending=False).head()"
   ]
  },
  {
   "cell_type": "markdown",
   "metadata": {},
   "source": [
    "Sin embargo, hay un problema en la utilización de este rendimiento para la evaluación. Puedes estar incurriendo en lo que se denomina un error de probar varias hipótesis. Si tienes muchas combinaciones de parámetros, algunas de ellas puede ser que funcionen mejor solo por aleatoriedad y que el rendimiento que estás obteniendo no sea el mismo cuando tengamos nuevos datos. Por tanto, es en general buena idea realizar una separación en entrenamiento y test previa a la búsqueda *grid*. Este patrón se suele denominar partición de entrenamiento, test y validación, y es bastante común en aprendizaje automático:"
   ]
  },
  {
   "cell_type": "markdown",
   "metadata": {},
   "source": [
    "Podemos emular este proceso fácilmente dividiendo primero los datos con ``train_test_split``, aplicando ``GridSearchCV`` al conjunto de entrenamiento, y calculando el ``score`` correspondiente solo con el conjunto de test:"
   ]
  },
  {
   "cell_type": "code",
   "execution_count": 14,
   "metadata": {},
   "outputs": [
    {
     "data": {
      "text/plain": [
       "0.7262035177984737"
      ]
     },
     "execution_count": 14,
     "metadata": {},
     "output_type": "execute_result"
    }
   ],
   "source": [
    "from sklearn.model_selection import train_test_split\n",
    "X_train, X_test, y_train, y_test = train_test_split(X, y, random_state=1)\n",
    "\n",
    "param_grid = {'C': [0.001, 0.01, 0.1, 1, 10], 'gamma': [0.001, 0.01, 0.1, 1]}\n",
    "cv = KFold(n_splits=10, shuffle=True)\n",
    "\n",
    "grid = GridSearchCV(SVR(), param_grid=param_grid, cv=cv)\n",
    "\n",
    "grid.fit(X_train, y_train)\n",
    "grid.score(X_test, y_test)"
   ]
  },
  {
   "cell_type": "markdown",
   "metadata": {},
   "source": [
    "Podemos comprobar de nuevo los parámetros obtenidos con:"
   ]
  },
  {
   "cell_type": "code",
   "execution_count": 15,
   "metadata": {},
   "outputs": [
    {
     "data": {
      "text/plain": [
       "{'C': 10, 'gamma': 1}"
      ]
     },
     "execution_count": 15,
     "metadata": {},
     "output_type": "execute_result"
    }
   ],
   "source": [
    "grid.best_params_"
   ]
  },
  {
   "cell_type": "markdown",
   "metadata": {},
   "source": [
    "A veces se utiliza un esquema más simple, que parte los datos en tres subconjuntos entrenamiento, validación y test. Esto es una alternativa si tu conjunto de datos es muy grande o si es imposible entrenar muchos modelos mediante validación cruzada, porque entrenar cada modelo es muy costoso computacionalmente. Para hacer este tipo de partición tendríamos que hacer una partición con ``train_test_split`` y después aplicar ``GridSearchCV`` con un ``ShuffleSplit`` y una sola iteración:\n"
   ]
  },
  {
   "cell_type": "code",
   "execution_count": 16,
   "metadata": {},
   "outputs": [
    {
     "name": "stdout",
     "output_type": "stream",
     "text": [
      "Fitting 1 folds for each of 20 candidates, totalling 20 fits\n",
      "[CV 1/1] END .............C=0.001, gamma=0.001;, score=-0.789 total time=   0.0s\n",
      "[CV 1/1] END ..............C=0.001, gamma=0.01;, score=-0.788 total time=   0.0s\n",
      "[CV 1/1] END ...............C=0.001, gamma=0.1;, score=-0.781 total time=   0.0s\n",
      "[CV 1/1] END .................C=0.001, gamma=1;, score=-0.779 total time=   0.0s\n",
      "[CV 1/1] END ..............C=0.01, gamma=0.001;, score=-0.788 total time=   0.0s\n",
      "[CV 1/1] END ...............C=0.01, gamma=0.01;, score=-0.778 total time=   0.0s\n",
      "[CV 1/1] END ................C=0.01, gamma=0.1;, score=-0.724 total time=   0.0s\n",
      "[CV 1/1] END ..................C=0.01, gamma=1;, score=-0.695 total time=   0.0s\n",
      "[CV 1/1] END ...............C=0.1, gamma=0.001;, score=-0.778 total time=   0.0s\n",
      "[CV 1/1] END ................C=0.1, gamma=0.01;, score=-0.696 total time=   0.0s\n",
      "[CV 1/1] END ..................C=0.1, gamma=0.1;, score=0.009 total time=   0.0s\n",
      "[CV 1/1] END ....................C=0.1, gamma=1;, score=0.057 total time=   0.0s\n",
      "[CV 1/1] END .................C=1, gamma=0.001;, score=-0.692 total time=   0.0s\n",
      "[CV 1/1] END ..................C=1, gamma=0.01;, score=-0.122 total time=   0.0s\n",
      "[CV 1/1] END ...................C=1, gamma=0.1;, score=-0.007 total time=   0.0s\n",
      "[CV 1/1] END ......................C=1, gamma=1;, score=0.167 total time=   0.0s\n",
      "[CV 1/1] END ................C=10, gamma=0.001;, score=-0.168 total time=   0.0s\n",
      "[CV 1/1] END .................C=10, gamma=0.01;, score=-0.229 total time=   0.0s\n",
      "[CV 1/1] END ..................C=10, gamma=0.1;, score=-0.019 total time=   0.0s\n",
      "[CV 1/1] END .....................C=10, gamma=1;, score=0.426 total time=   0.0s\n"
     ]
    },
    {
     "data": {
      "text/plain": [
       "0.7262035177984737"
      ]
     },
     "execution_count": 16,
     "metadata": {},
     "output_type": "execute_result"
    }
   ],
   "source": [
    "from sklearn.model_selection import train_test_split, ShuffleSplit\n",
    "\n",
    "X_train, X_test, y_train, y_test = train_test_split(X, y, random_state=1)\n",
    "\n",
    "param_grid = {'C': [0.001, 0.01, 0.1, 1, 10], 'gamma': [0.001, 0.01, 0.1, 1]}\n",
    "single_split_cv = ShuffleSplit(n_splits=1)\n",
    "\n",
    "grid = GridSearchCV(SVR(), param_grid=param_grid, cv=single_split_cv, verbose=3)\n",
    "\n",
    "grid.fit(X_train, y_train)\n",
    "grid.score(X_test, y_test)"
   ]
  },
  {
   "cell_type": "markdown",
   "metadata": {},
   "source": [
    "Esto es mucho más rápido pero puede resultar en valores peores de los hiper-parámetros y, por tanto, peores resultados."
   ]
  },
  {
   "cell_type": "code",
   "execution_count": 17,
   "metadata": {},
   "outputs": [
    {
     "data": {
      "text/plain": [
       "0.7262035177984737"
      ]
     },
     "execution_count": 17,
     "metadata": {},
     "output_type": "execute_result"
    }
   ],
   "source": [
    "clf = GridSearchCV(SVR(), param_grid=param_grid)\n",
    "clf.fit(X_train, y_train)\n",
    "clf.score(X_test, y_test)"
   ]
  },
  {
   "cell_type": "markdown",
   "metadata": {},
   "source": [
    "<div class=\"alert alert-success\">\n",
    "    <b>EJERCICIO</b>:\n",
    "     <ul>\n",
    "      <li>\n",
    "      Aplica una búsqueda *grid* para encontrar el mejor valor del parámetro número de vecinos para el ``KNeighborsClassifier`` para el dataset de ``digits``.\n",
    "      </li>\n",
    "    </ul>\n",
    "</div>"
   ]
  },
  {
   "cell_type": "code",
   "execution_count": null,
   "metadata": {},
   "outputs": [],
   "source": []
  }
 ],
 "metadata": {
  "anaconda-cloud": {},
  "kernelspec": {
   "display_name": "Python 3",
   "language": "python",
   "name": "python3"
  },
  "language_info": {
   "codemirror_mode": {
    "name": "ipython",
    "version": 3
   },
   "file_extension": ".py",
   "mimetype": "text/x-python",
   "name": "python",
   "nbconvert_exporter": "python",
   "pygments_lexer": "ipython3",
   "version": "3.9.13"
  }
 },
 "nbformat": 4,
 "nbformat_minor": 1
}

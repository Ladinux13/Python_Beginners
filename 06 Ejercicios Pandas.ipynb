{
 "cells": [
  {
   "cell_type": "markdown",
   "id": "collective-working",
   "metadata": {},
   "source": [
    "# Ejercicios Pandas\n",
    "\n",
    "En esta sección exploraremos un set de datos. El objetivo es contestar a las preguntas, mismas que estarán marcadas en **negritas**. \n",
    "\n",
    "Es importante mencionar que las preguntas tienen más de una solución posible, la dificultad irá aumentando a medida que vayan progresando en los ejercicios.\n",
    "\n",
    "### 1. importa pandas y numpy"
   ]
  },
  {
   "cell_type": "code",
   "execution_count": null,
   "id": "mounted-edmonton",
   "metadata": {},
   "outputs": [],
   "source": [
    "# Tu código aquí"
   ]
  },
  {
   "cell_type": "markdown",
   "id": "radical-single",
   "metadata": {},
   "source": [
    "### 2. Importa el DataFrame dentro de una variable\n",
    "\n",
    "* Nombre del archivo: nba.csv\n",
    "\n",
    "A Recordar:\n",
    "\n",
    "* Si el archivo es CSV\n",
    "pd.read_csv(\"----.csv\")\n",
    "\n",
    "* Si el archivo es XLSX\n",
    "pd.read_excel(\"-----.xlsx')"
   ]
  },
  {
   "cell_type": "code",
   "execution_count": null,
   "id": "excessive-oregon",
   "metadata": {},
   "outputs": [],
   "source": [
    "# Tu código aquí\n",
    "#### df = pass"
   ]
  },
  {
   "cell_type": "markdown",
   "id": "accessible-trouble",
   "metadata": {},
   "source": [
    "### 3. ¿Cuántas columnas y filas tiene el DataFrame?"
   ]
  },
  {
   "cell_type": "code",
   "execution_count": null,
   "id": "eight-accused",
   "metadata": {},
   "outputs": [],
   "source": [
    "# Tu código aquí"
   ]
  },
  {
   "cell_type": "markdown",
   "id": "lightweight-surveillance",
   "metadata": {},
   "source": [
    "### 4. ¿Cuál es el valor promedio y desviación estándar del campo `Salary`?"
   ]
  },
  {
   "cell_type": "code",
   "execution_count": null,
   "id": "affected-rings",
   "metadata": {
    "scrolled": true
   },
   "outputs": [],
   "source": [
    "# Tu código aquí"
   ]
  },
  {
   "cell_type": "markdown",
   "id": "split-retrieval",
   "metadata": {},
   "source": [
    "### 5. ¿Cuáles son los valores máximos y mínimos de `Salary`?\n"
   ]
  },
  {
   "cell_type": "code",
   "execution_count": null,
   "id": "ordered-order",
   "metadata": {},
   "outputs": [],
   "source": [
    "# Tu código aquí"
   ]
  },
  {
   "cell_type": "markdown",
   "id": "governing-proceeding",
   "metadata": {},
   "source": [
    "### 6. El 90% de los valores dentro del campo `Salary` se encuentran por debajo de qué valor"
   ]
  },
  {
   "cell_type": "code",
   "execution_count": null,
   "id": "advisory-antique",
   "metadata": {},
   "outputs": [],
   "source": [
    "# Tu código aquí"
   ]
  },
  {
   "cell_type": "markdown",
   "id": "dependent-grade",
   "metadata": {},
   "source": [
    "### 7. ¿Qué % de personas pertenecen al team `'Atlanta Hawks'`?"
   ]
  },
  {
   "cell_type": "code",
   "execution_count": null,
   "id": "annual-eagle",
   "metadata": {},
   "outputs": [],
   "source": [
    "# Tu código aquí"
   ]
  },
  {
   "cell_type": "markdown",
   "id": "august-analysis",
   "metadata": {},
   "source": [
    "### 8. ¿Cúal es la `edad` y `peso` promedio de aquellos que se encuentran en collage `Texas`?"
   ]
  },
  {
   "cell_type": "code",
   "execution_count": null,
   "id": "exact-factory",
   "metadata": {},
   "outputs": [],
   "source": [
    "# Tu código aquí"
   ]
  },
  {
   "cell_type": "markdown",
   "id": "de0afb4f",
   "metadata": {},
   "source": [
    "### 9. Graficar `Peso` contra `edad` en un Histograma"
   ]
  },
  {
   "cell_type": "code",
   "execution_count": null,
   "id": "changed-venture",
   "metadata": {},
   "outputs": [],
   "source": [
    "# Tu código aquí"
   ]
  },
  {
   "cell_type": "markdown",
   "id": "35f29926",
   "metadata": {},
   "source": [
    "### 10. Crear un histograma de variables categóricas de `Collage` y `Team`"
   ]
  },
  {
   "cell_type": "code",
   "execution_count": null,
   "id": "south-trade",
   "metadata": {},
   "outputs": [],
   "source": [
    "# Tu código aquí"
   ]
  },
  {
   "cell_type": "markdown",
   "id": "05a1c345",
   "metadata": {},
   "source": [
    "### 11. Explorar la variable `Salary` en un diagrama de caja (grafico)"
   ]
  },
  {
   "cell_type": "code",
   "execution_count": null,
   "id": "tracked-petersburg",
   "metadata": {},
   "outputs": [],
   "source": [
    "# Tu código aquí"
   ]
  },
  {
   "cell_type": "markdown",
   "id": "fbdbeecc",
   "metadata": {},
   "source": [
    "### 12. Hacer un diagrama de distribución estimada de la variable  `Salary` con respecto a la variable `Position`"
   ]
  },
  {
   "cell_type": "code",
   "execution_count": null,
   "id": "6a69ded0",
   "metadata": {},
   "outputs": [],
   "source": [
    "# Tu código aquí"
   ]
  },
  {
   "cell_type": "markdown",
   "id": "2be2a4f0",
   "metadata": {},
   "source": [
    "### 13. Hacer una matriz de correlación de las variables `age`, `weight` y `salary`"
   ]
  },
  {
   "cell_type": "code",
   "execution_count": null,
   "id": "5331fba0",
   "metadata": {},
   "outputs": [],
   "source": [
    "# Tu código aquí"
   ]
  }
 ],
 "metadata": {
  "kernelspec": {
   "display_name": "Python 3 (ipykernel)",
   "language": "python",
   "name": "python3"
  },
  "language_info": {
   "codemirror_mode": {
    "name": "ipython",
    "version": 3
   },
   "file_extension": ".py",
   "mimetype": "text/x-python",
   "name": "python",
   "nbconvert_exporter": "python",
   "pygments_lexer": "ipython3",
   "version": "3.11.6"
  }
 },
 "nbformat": 4,
 "nbformat_minor": 5
}

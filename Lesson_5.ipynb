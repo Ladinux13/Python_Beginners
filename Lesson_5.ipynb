{
 "cells": [
  {
   "cell_type": "code",
   "execution_count": 63,
   "metadata": {
    "collapsed": true
   },
   "outputs": [],
   "source": [
    "# 3.1: Data Frames - more at https://pandas.pydata.org/pandas-docs/stable/generated/pandas.DataFrame.html"
   ]
  },
  {
   "cell_type": "code",
   "execution_count": 5,
   "metadata": {},
   "outputs": [],
   "source": [
    "# Import Pandas and configure it not to be in scientific notation\n",
    "import pandas as pd\n",
    "pd.set_option('display.float_format', '{:,.2f}'.format) # similar to options(scipen=999) in R"
   ]
  },
  {
   "cell_type": "code",
   "execution_count": 3,
   "metadata": {
    "collapsed": true
   },
   "outputs": [],
   "source": [
    "# 3.1.1: Fundamentals of data frames"
   ]
  },
  {
   "cell_type": "code",
   "execution_count": 64,
   "metadata": {},
   "outputs": [
    {
     "name": "stdout",
     "output_type": "stream",
     "text": [
      "   a  b  c\n",
      "0  1  3  5\n",
      "1  2  4  6\n"
     ]
    }
   ],
   "source": [
    "# 3.1.1.1: Construct a data frame from a dictionary\n",
    "x_dict = {'a': [1, 2], 'b': [3, 4], 'c': [5, 6]}\n",
    "df = pd.DataFrame(x_dict) # DataFrame class constructor from a dictionary\n",
    "print(df) # 0, 1 is the index of the data frame"
   ]
  },
  {
   "cell_type": "code",
   "execution_count": 75,
   "metadata": {},
   "outputs": [
    {
     "data": {
      "text/html": [
       "<div>\n",
       "<style>\n",
       "    .dataframe thead tr:only-child th {\n",
       "        text-align: right;\n",
       "    }\n",
       "\n",
       "    .dataframe thead th {\n",
       "        text-align: left;\n",
       "    }\n",
       "\n",
       "    .dataframe tbody tr th {\n",
       "        vertical-align: top;\n",
       "    }\n",
       "</style>\n",
       "<table border=\"1\" class=\"dataframe\">\n",
       "  <thead>\n",
       "    <tr style=\"text-align: right;\">\n",
       "      <th></th>\n",
       "      <th>a</th>\n",
       "      <th>b</th>\n",
       "      <th>c</th>\n",
       "    </tr>\n",
       "  </thead>\n",
       "  <tbody>\n",
       "    <tr>\n",
       "      <th>0</th>\n",
       "      <td>1</td>\n",
       "      <td>3</td>\n",
       "      <td>5</td>\n",
       "    </tr>\n",
       "    <tr>\n",
       "      <th>1</th>\n",
       "      <td>2</td>\n",
       "      <td>4</td>\n",
       "      <td>6</td>\n",
       "    </tr>\n",
       "  </tbody>\n",
       "</table>\n",
       "</div>"
      ],
      "text/plain": [
       "   a  b  c\n",
       "0  1  3  5\n",
       "1  2  4  6"
      ]
     },
     "execution_count": 75,
     "metadata": {},
     "output_type": "execute_result"
    }
   ],
   "source": [
    "# 3.1.1.2: Construct a data frame from a comma-separated value (csv) file\n",
    "converters = {'a': int, 'b': int, 'c': int}\n",
    "df = pd.read_csv('files/test_in.csv', converters=converters) # use a sep='\\t' for a tab-separated value (tsv) file\n",
    "df"
   ]
  },
  {
   "cell_type": "code",
   "execution_count": 76,
   "metadata": {},
   "outputs": [
    {
     "data": {
      "text/html": [
       "<div>\n",
       "<style>\n",
       "    .dataframe thead tr:only-child th {\n",
       "        text-align: right;\n",
       "    }\n",
       "\n",
       "    .dataframe thead th {\n",
       "        text-align: left;\n",
       "    }\n",
       "\n",
       "    .dataframe tbody tr th {\n",
       "        vertical-align: top;\n",
       "    }\n",
       "</style>\n",
       "<table border=\"1\" class=\"dataframe\">\n",
       "  <thead>\n",
       "    <tr style=\"text-align: right;\">\n",
       "      <th></th>\n",
       "      <th>a</th>\n",
       "      <th>b</th>\n",
       "      <th>c</th>\n",
       "    </tr>\n",
       "  </thead>\n",
       "  <tbody>\n",
       "    <tr>\n",
       "      <th>0</th>\n",
       "      <td>1</td>\n",
       "      <td>3</td>\n",
       "      <td>5</td>\n",
       "    </tr>\n",
       "    <tr>\n",
       "      <th>1</th>\n",
       "      <td>2</td>\n",
       "      <td>4</td>\n",
       "      <td>6</td>\n",
       "    </tr>\n",
       "  </tbody>\n",
       "</table>\n",
       "</div>"
      ],
      "text/plain": [
       "   a  b  c\n",
       "0  1  3  5\n",
       "1  2  4  6"
      ]
     },
     "execution_count": 76,
     "metadata": {},
     "output_type": "execute_result"
    }
   ],
   "source": [
    "# 3.1.1.3: Construct a data frame from a fixed-width file\n",
    "df = pd.read_fwf('files/test_in.txt', widths=[3, 3, 3], converters=converters) \n",
    "df"
   ]
  },
  {
   "cell_type": "code",
   "execution_count": 77,
   "metadata": {},
   "outputs": [
    {
     "data": {
      "text/html": [
       "<div>\n",
       "<style>\n",
       "    .dataframe thead tr:only-child th {\n",
       "        text-align: right;\n",
       "    }\n",
       "\n",
       "    .dataframe thead th {\n",
       "        text-align: left;\n",
       "    }\n",
       "\n",
       "    .dataframe tbody tr th {\n",
       "        vertical-align: top;\n",
       "    }\n",
       "</style>\n",
       "<table border=\"1\" class=\"dataframe\">\n",
       "  <thead>\n",
       "    <tr style=\"text-align: right;\">\n",
       "      <th></th>\n",
       "      <th>a</th>\n",
       "      <th>b</th>\n",
       "      <th>c</th>\n",
       "    </tr>\n",
       "  </thead>\n",
       "  <tbody>\n",
       "    <tr>\n",
       "      <th>0</th>\n",
       "      <td>1</td>\n",
       "      <td>3</td>\n",
       "      <td>5</td>\n",
       "    </tr>\n",
       "    <tr>\n",
       "      <th>1</th>\n",
       "      <td>2</td>\n",
       "      <td>4</td>\n",
       "      <td>6</td>\n",
       "    </tr>\n",
       "  </tbody>\n",
       "</table>\n",
       "</div>"
      ],
      "text/plain": [
       "   a  b  c\n",
       "0  1  3  5\n",
       "1  2  4  6"
      ]
     },
     "execution_count": 77,
     "metadata": {},
     "output_type": "execute_result"
    }
   ],
   "source": [
    "# 3.1.1.4: Construct a data frame from an Excel file \n",
    "df = pd.read_excel('files/test_in.xlsx', 'Sheet1', converters=converters) # need to install the xlrd (Excel read) module first\n",
    "df"
   ]
  },
  {
   "cell_type": "code",
   "execution_count": 80,
   "metadata": {
    "scrolled": true
   },
   "outputs": [
    {
     "name": "stdout",
     "output_type": "stream",
     "text": [
      "(2, 3)\n",
      "Index(['a', 'b', 'c'], dtype='object')\n",
      "a    int64\n",
      "b    int64\n",
      "c    int64\n",
      "dtype: object\n",
      "RangeIndex(start=0, stop=2, step=1)\n"
     ]
    }
   ],
   "source": [
    "# 3.1.1.5: Fundamental data frame properties\n",
    "print(df.shape) # dimensions of the data frame i.e. # rows by # columns\n",
    "print(df.columns) # the index of column names.  dtype of object means that the column names are strings.\n",
    "print(df.dtypes) # the data type of each column\n",
    "print(df.index) # the row index of the data frame (similar to primary key in SQL)"
   ]
  },
  {
   "cell_type": "code",
   "execution_count": 79,
   "metadata": {},
   "outputs": [
    {
     "name": "stdout",
     "output_type": "stream",
     "text": [
      "         a    b    c\n",
      "count 2.00 2.00 2.00\n",
      "mean  1.50 3.50 5.50\n",
      "std   0.71 0.71 0.71\n",
      "min   1.00 3.00 5.00\n",
      "25%   1.25 3.25 5.25\n",
      "50%   1.50 3.50 5.50\n",
      "75%   1.75 3.75 5.75\n",
      "max   2.00 4.00 6.00\n",
      "   a  b  c\n",
      "0  1  3  5\n",
      "   a  b  c\n",
      "1  2  4  6\n"
     ]
    }
   ],
   "source": [
    "# 3.1.1.6: Fundamental data frame methods\n",
    "print(df.describe()) # summary statistics and percentiles of every numerical column\n",
    "print(df.head(1)) # df.head(n) only select the top most n rows\n",
    "print(df.tail(1)) # df.tail(n) only select the bottom most n rows"
   ]
  },
  {
   "cell_type": "code",
   "execution_count": 71,
   "metadata": {},
   "outputs": [
    {
     "name": "stdout",
     "output_type": "stream",
     "text": [
      "0    1\n",
      "1    1\n",
      "2    2\n",
      "3    3\n",
      "Name: a, dtype: int64\n",
      "<class 'pandas.core.series.Series'>\n",
      "   a  c\n",
      "0  1  1\n",
      "1  1  2\n",
      "2  2  3\n",
      "3  3  4\n",
      "Select the first row:\n",
      "a    1\n",
      "b    3\n",
      "c    1\n",
      "Name: 0, dtype: int64\n",
      "   a  b  c\n",
      "0  1  3  1\n",
      "1  1  3  2\n",
      "Select a single cell:\n",
      "1\n",
      "1\n"
     ]
    }
   ],
   "source": [
    "# 3.1.1.7: Selecting columns, rows and cells of data frames\n",
    "print(df['a']) # Select one column.  Use the column index value i.e. column name\n",
    "# [column_name] or .column_name (equivalent to $ in R).  Depends on if column_name contains spaces.\n",
    "print(type(df['a'])) # A selected column is a series data type\n",
    "print(df[['a', 'c']]) # Select multiple columns (not necessarily contiguous)\n",
    "print('Select the first row:')\n",
    "print(df.loc[0,:]) # Select rows by the row index using loc\n",
    "print(df.loc[[0, 1], :]) # Pass a list of row indices to select multiple rows (not necessarily contiguous) )\n",
    "print('Select a single cell:')\n",
    "print(df.loc[0, 'a']) # Use loc to select a single cell using indices.  Numbering starts with 0.\n",
    "print(df.iloc[0, 0]) # Use iloc to select single cell using position.  Numbering starts with 0."
   ]
  },
  {
   "cell_type": "code",
   "execution_count": 87,
   "metadata": {},
   "outputs": [
    {
     "name": "stdout",
     "output_type": "stream",
     "text": [
      "   a    b  c  d\n",
      "1  2 4.00  6  7\n",
      "0  1  nan  5  6\n",
      "     b  c  d\n",
      "1 4.00  6  7\n",
      "0  nan  5  6\n"
     ]
    }
   ],
   "source": [
    "# 3.1.1.8: Adding and removing columns from a data frame\n",
    "df['d'] = [7, 6] # Add a new column to an existing data frame by calling the index\n",
    "print(df)\n",
    "df = df.drop('a', axis=1) # Remove an existing column from a data frame. axis of 1 indicates columns (axis=0 is rows).\n",
    "print(df)"
   ]
  },
  {
   "cell_type": "code",
   "execution_count": 96,
   "metadata": {},
   "outputs": [
    {
     "name": "stdout",
     "output_type": "stream",
     "text": [
      "1    7\n",
      "0    6\n",
      "Name: d, dtype: int64\n",
      "Value Counts:\n",
      "7    1\n",
      "6    1\n",
      "Name: d, dtype: int64\n",
      "List Values:\n",
      "[7, 6]\n",
      "Mapped Values:\n",
      "1    49\n",
      "0    36\n",
      "Name: d, dtype: int64\n"
     ]
    }
   ],
   "source": [
    "# 3.1.1.9: Series operations https://pandas.pydata.org/pandas-docs/stable/generated/pandas.Series.html\n",
    "x = df['d']\n",
    "print(x)\n",
    "print('Value Counts:')\n",
    "print(x.value_counts()) # shows the distribution of values\n",
    "print('List Values:')\n",
    "print(x.tolist()) # converts the series to a list\n",
    "print('Mapped Values:')\n",
    "print(x.map(lambda x: x**2)) # efficiently applies the function to each element of the series"
   ]
  },
  {
   "cell_type": "code",
   "execution_count": 91,
   "metadata": {},
   "outputs": [
    {
     "data": {
      "text/plain": [
       "1    7\n",
       "0    6\n",
       "Name: d, dtype: int64"
      ]
     },
     "execution_count": 91,
     "metadata": {},
     "output_type": "execute_result"
    }
   ],
   "source": [
    "x"
   ]
  },
  {
   "cell_type": "code",
   "execution_count": null,
   "metadata": {
    "collapsed": true
   },
   "outputs": [],
   "source": [
    "# 3.1.2: Data frame operations: droping duplicates, sorting, filtering and formulas"
   ]
  },
  {
   "cell_type": "code",
   "execution_count": 99,
   "metadata": {},
   "outputs": [
    {
     "name": "stdout",
     "output_type": "stream",
     "text": [
      "   a  b  c\n",
      "0  1  3  1\n",
      "1  1  3  2\n",
      "2  2  3  3\n",
      "3  3  3  4\n",
      "   a  b  c\n",
      "0  1  3  1\n",
      "1  1  3  2\n",
      "2  2  3  3\n",
      "3  3  3  4\n",
      "   a  b\n",
      "0  1  3\n",
      "2  2  3\n",
      "3  3  3\n",
      "0    3\n",
      "Name: b, dtype: int64\n"
     ]
    }
   ],
   "source": [
    "# 3.1.2.1: Using drop_duplicates to return unique combinations of column values\n",
    "# Analogous to the \"remove duplicates\" button in Excel\n",
    "x = {'a': [1, 1, 2, 3], 'b': [3, 3, 3, 3], 'c': [1, 2, 3, 4]}\n",
    "df = pd.DataFrame(x)\n",
    "print(df)\n",
    "print(df.drop_duplicates()) # returns unique rows from the entire data frame\n",
    "df_sub = df[['a', 'b']] # sub data frame also called column filtering\n",
    "print(df_sub.drop_duplicates()) # returns the unique values from combinations of a and b\n",
    "print(df['b'].drop_duplicates()) # returns the unique values of only column b "
   ]
  },
  {
   "cell_type": "code",
   "execution_count": 100,
   "metadata": {},
   "outputs": [
    {
     "name": "stdout",
     "output_type": "stream",
     "text": [
      "   a  b  c\n",
      "3  3  3  4\n",
      "2  2  3  3\n",
      "0  1  3  1\n",
      "1  1  3  2\n",
      "   a  b  c\n",
      "0  3  3  4\n",
      "1  2  3  3\n",
      "2  1  3  1\n",
      "3  1  3  2\n"
     ]
    }
   ],
   "source": [
    "# 3.1.2.2: Sort a data frame by its columns\n",
    "# Analogous to the single/multiple sort in Excel\n",
    "df = df.sort_values(by=['a', 'c'], ascending=[False, True]) # Multiple columns and mixed ascending/descending\n",
    "print(df) # extend to any number columns of a data frame, in order of priority\n",
    "print(df.reset_index(drop=True)) # reset the row index"
   ]
  },
  {
   "cell_type": "code",
   "execution_count": 101,
   "metadata": {
    "scrolled": true
   },
   "outputs": [
    {
     "name": "stdout",
     "output_type": "stream",
     "text": [
      "Using the boolean series method:\n",
      "3    False\n",
      "2    False\n",
      "0     True\n",
      "1     True\n",
      "Name: a, dtype: bool\n",
      "   a  b  c\n",
      "0  1  3  1\n",
      "1  1  3  2\n",
      "   a  b  c\n",
      "0  1  3  1\n",
      "1  1  3  2\n",
      "Using the query method:\n",
      "   a  b  c\n",
      "0  1  3  1\n"
     ]
    }
   ],
   "source": [
    "# 3.1.2.3: Filtering.  There are two ways to row filter in Pandas.\n",
    "boolean_series = df['a'] == 1\n",
    "print('Using the boolean series method:')\n",
    "print(boolean_series) # Returns a series of booleans\n",
    "print(df[boolean_series]) # Only select rows where column a is 1, pass a boolean series as an index\n",
    "print(df[df['a']==1]) # Or use nesting to show all at once\n",
    "print('Using the query method:') # Use the query method if multiple column conditions are required\n",
    "print(df.query('a==1 and c==1')) # Note that quotes are not needed for column names"
   ]
  },
  {
   "cell_type": "code",
   "execution_count": 102,
   "metadata": {},
   "outputs": [
    {
     "name": "stdout",
     "output_type": "stream",
     "text": [
      "   a    b  c\n",
      "3  3 3.00  4\n",
      "2  2 3.00  3\n",
      "0  1  nan  1\n",
      "1  1 3.00  2\n"
     ]
    },
    {
     "data": {
      "text/html": [
       "<div>\n",
       "<style>\n",
       "    .dataframe thead tr:only-child th {\n",
       "        text-align: right;\n",
       "    }\n",
       "\n",
       "    .dataframe thead th {\n",
       "        text-align: left;\n",
       "    }\n",
       "\n",
       "    .dataframe tbody tr th {\n",
       "        vertical-align: top;\n",
       "    }\n",
       "</style>\n",
       "<table border=\"1\" class=\"dataframe\">\n",
       "  <thead>\n",
       "    <tr style=\"text-align: right;\">\n",
       "      <th></th>\n",
       "      <th>a</th>\n",
       "      <th>b</th>\n",
       "      <th>c</th>\n",
       "    </tr>\n",
       "  </thead>\n",
       "  <tbody>\n",
       "    <tr>\n",
       "      <th>0</th>\n",
       "      <td>1</td>\n",
       "      <td>nan</td>\n",
       "      <td>1</td>\n",
       "    </tr>\n",
       "  </tbody>\n",
       "</table>\n",
       "</div>"
      ],
      "text/plain": [
       "   a   b  c\n",
       "0  1 nan  1"
      ]
     },
     "execution_count": 102,
     "metadata": {},
     "output_type": "execute_result"
    }
   ],
   "source": [
    "# 3.1.2.4: Missing data and filters\n",
    "df.loc[0, 'b'] = None\n",
    "print(df)\n",
    "boolean_series = df['b'].isnull()\n",
    "df[boolean_series]"
   ]
  },
  {
   "cell_type": "code",
   "execution_count": 105,
   "metadata": {},
   "outputs": [
    {
     "data": {
      "text/plain": [
       "3   7.00\n",
       "2   5.00\n",
       "0   2.00\n",
       "1   3.00\n",
       "dtype: float64"
      ]
     },
     "execution_count": 105,
     "metadata": {},
     "output_type": "execute_result"
    }
   ],
   "source": [
    "# 3.1.2.5: \n",
    "def add(x):\n",
    "    first = x['a']\n",
    "    second = x['c']\n",
    "    return first + second\n",
    "df.apply(add, axis=1) # applies a function to each row.  Function is passed a single row"
   ]
  },
  {
   "cell_type": "code",
   "execution_count": 106,
   "metadata": {
    "collapsed": true
   },
   "outputs": [],
   "source": [
    "# 3.1.3: Exporting Data Frames to Excel and csv"
   ]
  },
  {
   "cell_type": "code",
   "execution_count": 107,
   "metadata": {},
   "outputs": [],
   "source": [
    "# 3.1.3.1: Exporting to Excel and csv\n",
    "# Need to include file type extensions in the name\n",
    "df.to_excel('files/test_out.xlsx', index=False) # need to insure that openpyxl is installed\n",
    "df.to_csv('files/test_out.csv', index=False)\n",
    "# Open output files"
   ]
  },
  {
   "cell_type": "code",
   "execution_count": null,
   "metadata": {
    "collapsed": true
   },
   "outputs": [],
   "source": []
  }
 ],
 "metadata": {
  "kernelspec": {
   "display_name": "Python 3",
   "language": "python",
   "name": "python3"
  },
  "language_info": {
   "codemirror_mode": {
    "name": "ipython",
    "version": 3
   },
   "file_extension": ".py",
   "mimetype": "text/x-python",
   "name": "python",
   "nbconvert_exporter": "python",
   "pygments_lexer": "ipython3",
   "version": "3.6.2"
  }
 },
 "nbformat": 4,
 "nbformat_minor": 2
}

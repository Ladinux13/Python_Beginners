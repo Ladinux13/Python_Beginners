{
 "cells": [
  {
   "cell_type": "markdown",
   "metadata": {},
   "source": [
    "# DataFrame II\n",
    "\n",
    "Los objetivos de aprendizaje son:\n",
    "\n",
    "1. Columnas\n",
    "    + ¿Qué es una columna?\n",
    "    + Seleccionar\n",
    "    + Modificar\n",
    "    + Crear\n",
    "    + .apply()\n",
    "    + Eliminar\n",
    "2. Gestión Datos Nullos\n",
    "    + Drop \n",
    "    + Fill\n",
    "3. Filtros\n",
    "    + Condiciones Lógicas\n",
    "    + .isin()\n",
    "    + .isnull()\n",
    "    + .between()\n",
    "    + .query()\n",
    "\n",
    "\n",
    "## 1. Columnas\n",
    "\n",
    "### ¿Qué es una columna?\n",
    "\n",
    "Desde una perspectiva de *data modeling*, una estructura tabular, tal y como lo es un DataFrame, nos ayuda a generar una representación abstracta de un objeto.\n"
   ]
  },
  {
   "cell_type": "code",
   "execution_count": null,
   "metadata": {},
   "outputs": [],
   "source": [
    "import numpy as np\n",
    "import pandas as pd\n",
    "\n",
    "nba_df = pd.read_csv(\"./Data/pandas/nba.csv\")\n",
    "nba_df.head()"
   ]
  },
  {
   "cell_type": "markdown",
   "metadata": {},
   "source": [
    "Este modelo de datos serviría para representar a jugadores de la NBA, en este sentido:\n",
    "\n",
    "1. Los renglones/filas representan jugadores.\n",
    "2. **Las columnas representan caracteristicas de los jugadores**.\n",
    "\n",
    "Por ejemplo:\n",
    "\n",
    "El índice 2, representaría a un jugador cuya característica `Name = \"John Holland\"`."
   ]
  },
  {
   "cell_type": "markdown",
   "metadata": {},
   "source": [
    "### Seleccionar\n",
    "\n",
    "Para seleccionar una columna de un `DataFrame` usaremos el comando\n",
    "\n",
    "```python\n",
    "df[<nombre columna>]\n",
    "````"
   ]
  },
  {
   "cell_type": "code",
   "execution_count": null,
   "metadata": {
    "scrolled": true
   },
   "outputs": [],
   "source": [
    "nba_df['Name']"
   ]
  },
  {
   "cell_type": "code",
   "execution_count": null,
   "metadata": {},
   "outputs": [],
   "source": [
    "type(nba_df['Name'])"
   ]
  },
  {
   "cell_type": "markdown",
   "metadata": {},
   "source": [
    "Una columna es en realidad un atributo de la clase DataFrame. Al ser una columna un atributo de la clase DataFrame, podemos acceder mediante la notación *dot*:\n",
    "\n",
    "```Python\n",
    "dataframe.<nombre_columna>\n",
    "```"
   ]
  },
  {
   "cell_type": "code",
   "execution_count": null,
   "metadata": {},
   "outputs": [],
   "source": [
    "nba_df.Team"
   ]
  },
  {
   "cell_type": "markdown",
   "metadata": {},
   "source": [
    "La primera opción es más flexibe para situaciones en las que los nombres de las columnas no cumplen con las reglas para nombrar variables en Python.\n",
    "\n",
    "Podemos seleccionar un grupo de columnas de la siguiente forma:"
   ]
  },
  {
   "cell_type": "code",
   "execution_count": null,
   "metadata": {},
   "outputs": [],
   "source": [
    "nba_df[[\"Name\", \"Team\"]].head()"
   ]
  },
  {
   "cell_type": "code",
   "execution_count": null,
   "metadata": {},
   "outputs": [],
   "source": [
    "columnas = [col for col in nba_df.columns if \"a\" in col.lower()]\n",
    "print(\"Seleccionaremos las columns: {} \\nResultado:\".format(columnas))\n",
    "nba_df[columnas].head()"
   ]
  },
  {
   "cell_type": "markdown",
   "metadata": {},
   "source": [
    "### Modificar\n",
    "\n",
    "En ocasiones, queremos alterar los valores de una columna aplicando alguna operación o función a cada elemento a.k.a. *element-wise operations* o *broadcasting*."
   ]
  },
  {
   "cell_type": "code",
   "execution_count": null,
   "metadata": {},
   "outputs": [],
   "source": [
    "# Caso numérico \n",
    "nba_df[['Age']]\n"
   ]
  },
  {
   "cell_type": "code",
   "execution_count": null,
   "metadata": {},
   "outputs": [],
   "source": [
    "nba_df[['Age']] + 1"
   ]
  },
  {
   "cell_type": "markdown",
   "metadata": {},
   "source": [
    "En el caso de las `strings` podemos aplicar métodos a cada registro del `DataFram`, pero tendremos que hacerlo con un cambio.\n",
    "\n",
    "Supongamos que queremos convertir a minúsculas la columna `Name`."
   ]
  },
  {
   "cell_type": "code",
   "execution_count": null,
   "metadata": {},
   "outputs": [],
   "source": [
    "nba_df['Name'].head()"
   ]
  },
  {
   "cell_type": "code",
   "execution_count": null,
   "metadata": {},
   "outputs": [],
   "source": [
    "nba_df['Name'].lower()"
   ]
  },
  {
   "cell_type": "code",
   "execution_count": null,
   "metadata": {},
   "outputs": [],
   "source": [
    "nba_df['Name'].str.lower()"
   ]
  },
  {
   "cell_type": "markdown",
   "metadata": {},
   "source": [
    "### Crear\n",
    "\n",
    "Podemos añadir columnas a un DataFrame de una manera muy sencilla, veamos cómo hacerlo\n"
   ]
  },
  {
   "cell_type": "code",
   "execution_count": null,
   "metadata": {},
   "outputs": [],
   "source": [
    "nba_df.head()"
   ]
  },
  {
   "cell_type": "code",
   "execution_count": null,
   "metadata": {},
   "outputs": [],
   "source": [
    "nba_df[\"Columna_Extra\"] = \"Esto es una Columna Extra\"\n",
    "nba_df.head()"
   ]
  },
  {
   "cell_type": "markdown",
   "metadata": {},
   "source": [
    "Supongamos que queremos crear dos columnas a partir de la columna `Name`: `nombre` y `apellido`."
   ]
  },
  {
   "cell_type": "code",
   "execution_count": null,
   "metadata": {},
   "outputs": [],
   "source": [
    "# Preimero separamos el campo Name\n",
    "nba_df['Name'].str.split().head()"
   ]
  },
  {
   "cell_type": "code",
   "execution_count": null,
   "metadata": {},
   "outputs": [],
   "source": [
    "nba_df['nombre'] = nba_df['Name'].str.split().str[0]\n",
    "nba_df['apellido'] = nba_df['Name'].str.split().str[1]\n",
    "nba_df.head()"
   ]
  },
  {
   "cell_type": "code",
   "execution_count": null,
   "metadata": {},
   "outputs": [],
   "source": [
    "# También es posible realizar operaciones entre columnas.\n",
    "nba_df['Age'] / nba_df['Weight']"
   ]
  },
  {
   "cell_type": "markdown",
   "metadata": {},
   "source": [
    "### .apply()\n",
    "\n",
    "El método aplply nos permite aplicar funciones más complejas entre los valores de las columnas.\n",
    "\n",
    "Supongamos que queremos re-escalar el valor de la columna `Salary` en función del valor de la columna `Position`.\n",
    "Vamos los valores de la columna `Position`:\n"
   ]
  },
  {
   "cell_type": "code",
   "execution_count": null,
   "metadata": {},
   "outputs": [],
   "source": [
    "nba_df['Position'].value_counts()"
   ]
  },
  {
   "cell_type": "markdown",
   "metadata": {},
   "source": [
    "Ahora crearemos una función que:\n",
    "\n",
    "1. Tendrá como input renglones de un DataFrae.\n",
    "2. Extraerá los valores del DataFrame. \n",
    "3. Realizará $n$ operaciones con ellos y regresará un valor. "
   ]
  },
  {
   "cell_type": "code",
   "execution_count": null,
   "metadata": {},
   "outputs": [],
   "source": [
    "def position_salary(row: pd.Series):\n",
    "    position = row[0]\n",
    "    salary = row[1]\n",
    "    \n",
    "    if position == \"PG\":\n",
    "        return round(salary/2,2)\n",
    "    elif position ==\"PF\":\n",
    "        return round(salary * 0.3,2)\n",
    "    else:\n",
    "        return salary"
   ]
  },
  {
   "cell_type": "code",
   "execution_count": null,
   "metadata": {},
   "outputs": [],
   "source": [
    "nba_df['Modified_Salary']= nba_df[['Position','Salary']].apply(position_salary, axis = 1)\n",
    "nba_df[['Position','Salary','Modified_Salary']]"
   ]
  },
  {
   "cell_type": "markdown",
   "metadata": {},
   "source": [
    "Pero... ¿Qué está pasando exactamente?"
   ]
  },
  {
   "cell_type": "code",
   "execution_count": null,
   "metadata": {},
   "outputs": [],
   "source": [
    "def test_by_row(row: pd.Series) -> None:\n",
    "    print(row)\n",
    "    print(\"\\n\")\n",
    "    print(\"\\tEl tipo de dato es : {}\".format(type(row)))\n",
    "    print(\"\\tLos índices son: {}\".format(row.index))\n",
    "    print(\"\\tEl valor con el índice 0 es: {}\".format(row[0]))"
   ]
  },
  {
   "cell_type": "code",
   "execution_count": null,
   "metadata": {},
   "outputs": [],
   "source": [
    "_none = nba_df[['Name', 'Team']].head(1).apply(test_by_row, axis = 1)"
   ]
  },
  {
   "cell_type": "code",
   "execution_count": null,
   "metadata": {},
   "outputs": [],
   "source": [
    "row_test = nba_df[['Name', 'Team']].head(1).transpose().squeeze()\n",
    "row_test"
   ]
  },
  {
   "cell_type": "markdown",
   "metadata": {},
   "source": [
    "Un momento, ¿Qué ha sucedido?\n",
    "* `transpose()` traspone el contenido del `DataFrame`, i.e. renglones -> columna\n",
    "* `squeeze()`, dado que el input es un objeto de la clase `DataFrame` con sólo una columna, transforma su input a un objeto de la clase `Series`"
   ]
  },
  {
   "cell_type": "markdown",
   "metadata": {},
   "source": [
    "### Eliminar Columnas\n",
    "\n",
    "El método [`.drop()`](https://pandas.pydata.org/pandas-docs/stable/reference/api/pandas.DataFrame.drop.html) se usa para eliminar tanto renglones/filas como columnas. En esta sección veremos cómo usarlo en el caso de las columnas. \n",
    "\n"
   ]
  },
  {
   "cell_type": "code",
   "execution_count": null,
   "metadata": {},
   "outputs": [],
   "source": [
    "nba_df.head()"
   ]
  },
  {
   "cell_type": "code",
   "execution_count": null,
   "metadata": {},
   "outputs": [],
   "source": [
    "nba_df.drop(['nombre','apellido'], axis = 1, inplace = True)"
   ]
  },
  {
   "cell_type": "code",
   "execution_count": null,
   "metadata": {},
   "outputs": [],
   "source": [
    "nba_df.head()"
   ]
  },
  {
   "cell_type": "markdown",
   "metadata": {},
   "source": [
    "El parámetro `axis` nos permite elegir entre aplicar la acción anivel renglones `axis = 0` o columnas `axis = 1`.   \n"
   ]
  },
  {
   "cell_type": "code",
   "execution_count": null,
   "metadata": {},
   "outputs": [],
   "source": [
    "nba_df.drop([0,2,4], axis = 0).head()"
   ]
  },
  {
   "cell_type": "markdown",
   "metadata": {},
   "source": [
    "## 2. Gestión Datos Nullos\n",
    "\n",
    "En esta sección veremos cómo gestionar la ausencia de datos dentro de un DataFrame.\n",
    "Es muy probable que durante un proceso de análisis de datos lleguemos a encontrar valores faltantes, por ejemplo:\n",
    "\n",
    "En el DataFrame `nba_df` podemos ver que:\n",
    "\n",
    "1. La entrada con índice 2 no tiene un valor para la columna `Salary`.\n",
    "2. La entrada con índice 4 no tiene un valor para la columna `College`."
   ]
  },
  {
   "cell_type": "code",
   "execution_count": null,
   "metadata": {},
   "outputs": [],
   "source": [
    "nba_df = pd.read_csv(\"./Data/pandas/nba.csv\")\n",
    "nba_df.head()"
   ]
  },
  {
   "cell_type": "markdown",
   "metadata": {},
   "source": [
    "La ausencia de un valor dentro de Pandas se representa con el símbolo `NaN` (Not a Number).\n",
    "\n",
    "De manera general podemos elegir entre tres posibilidades:\n",
    "\n",
    "1. Eliminarlos\n",
    "2. Sustituirlos\n",
    "3. Integrarlos en el proceso como un valor válido."
   ]
  },
  {
   "cell_type": "markdown",
   "metadata": {},
   "source": [
    "#### Eliminar - Registros o Columnas \n",
    "\n",
    "Para eliminar los registros podemos usar el método [`.dropna()`](https://pandas.pydata.org/pandas-docs/stable/reference/api/pandas.DataFrame.dropna.html)\n",
    "\n",
    "Los parámetros más importantes son:\n",
    "\n",
    "* `axis`: nos ayuda a elegir entre columnas o renglones\n",
    "* `how`: {`\"any\"`, `\"all\"`}: Determina si un renglón/columna será eliminado si tenemos al menos un NaN (`\"any\"`) o todos los valores como NaN (`\"all\"`)"
   ]
  },
  {
   "cell_type": "code",
   "execution_count": null,
   "metadata": {},
   "outputs": [],
   "source": [
    "nba_df.head().dropna(axis = 0, how = \"any\")"
   ]
  },
  {
   "cell_type": "markdown",
   "metadata": {},
   "source": [
    "En este caso los registros con índice 2 y 4 fueron eliminados.\n"
   ]
  },
  {
   "cell_type": "code",
   "execution_count": null,
   "metadata": {},
   "outputs": [],
   "source": [
    "nba_df['ColumnaExtra_1'] = None\n",
    "nba_df['ColumnaExtra_2'] = np.nan\n",
    "nba_df['ColumnaExtra_3'] = pd.NA\n",
    "nba_df.head()"
   ]
  },
  {
   "cell_type": "code",
   "execution_count": null,
   "metadata": {},
   "outputs": [],
   "source": [
    "nba_df.dropna(axis = 1, how = \"all\").head()"
   ]
  },
  {
   "cell_type": "code",
   "execution_count": null,
   "metadata": {},
   "outputs": [],
   "source": [
    "nba_df.dropna(axis = 1, how = \"all\", inplace = True)"
   ]
  },
  {
   "cell_type": "markdown",
   "metadata": {},
   "source": [
    "#### Sustituir\n",
    "\n",
    "En lugar de eliminar la información podríamos asignar un valor a las entradas faltantes. \n",
    "\n",
    "¿Qué valor asignar? La respuesta a esta pregunta dependerá mucho del tipo de datos y el objetivo del análisis, no obstante de manera general podemos aplicar las siguientes reglas:\n",
    "\n",
    "1. Columna Numérica: Media.\n",
    "2. Columna String: Moda, valor independiente.\n",
    "\n",
    "Usaremos el método [`.fillna()`](https://pandas.pydata.org/pandas-docs/stable/reference/api/pandas.DataFrame.fillna.html). De entre todos los poarámetros el más importante es `value`: El valor usado para sustituir el valor faltante/nulo. "
   ]
  },
  {
   "cell_type": "code",
   "execution_count": null,
   "metadata": {},
   "outputs": [],
   "source": [
    "nba_df.head()"
   ]
  },
  {
   "cell_type": "code",
   "execution_count": null,
   "metadata": {},
   "outputs": [],
   "source": [
    "nba_df[['Salary']].fillna(round(nba_df['Salary'].mean(),0)).head()"
   ]
  },
  {
   "cell_type": "markdown",
   "metadata": {},
   "source": [
    "Supongamos que queremos ejecutar esta acción sobre dos columnas en un sólo comando."
   ]
  },
  {
   "cell_type": "code",
   "execution_count": null,
   "metadata": {},
   "outputs": [],
   "source": [
    "nba_df = nba_df.apply(\n",
    "    lambda x: x.fillna(round(x.mean(),0)) if x.name in [\"Salary\", \"Weight\"] else x\n",
    ")"
   ]
  },
  {
   "cell_type": "code",
   "execution_count": null,
   "metadata": {},
   "outputs": [],
   "source": [
    "nba_df['Salary'].isna().any()"
   ]
  },
  {
   "cell_type": "markdown",
   "metadata": {},
   "source": [
    "En el caso de una columna del tipo `str`, una alternativa podría ser la moda."
   ]
  },
  {
   "cell_type": "code",
   "execution_count": null,
   "metadata": {},
   "outputs": [],
   "source": [
    "from scipy import stats\n",
    "nba_df.apply(\n",
    "    lambda x: x.fillna(stats.mode(x).mode[0]) if x.dtype == \"O\" else x\n",
    ").head()"
   ]
  },
  {
   "cell_type": "markdown",
   "metadata": {},
   "source": [
    "Pero esta elección dependerá mucho del contexto de los datos.\n",
    "\n",
    "Un dato faltante dentro de la columna `College`, en el contexto de los datos, podría significar que el jugador en cuestión no asistió a la universidad.\n",
    "\n",
    "\n",
    "Por tanto en este específico escenario, quizás nos interesará más estudiar el efecto de este nivel dentro de la variable `College`."
   ]
  },
  {
   "cell_type": "code",
   "execution_count": null,
   "metadata": {},
   "outputs": [],
   "source": [
    "nba_df = nba_df.apply(lambda x: x.fillna(\"No College\") if x.name == \"College\" else x)"
   ]
  },
  {
   "cell_type": "code",
   "execution_count": null,
   "metadata": {},
   "outputs": [],
   "source": [
    "nba_df"
   ]
  },
  {
   "cell_type": "markdown",
   "metadata": {},
   "source": [
    "## 3. Filtros\n",
    "\n",
    "\n",
    "### Condiciones Lógicas\n",
    "\n",
    "Supongamos que del `DataFrame` `nba_df` sólo nos interesan aquellos jugadores con una edad $<= 25$.\n"
   ]
  },
  {
   "cell_type": "code",
   "execution_count": null,
   "metadata": {},
   "outputs": [],
   "source": [
    "nba_df['Age'] <= 25"
   ]
  },
  {
   "cell_type": "markdown",
   "metadata": {},
   "source": [
    "Pero habíamos dicho que nos interesa mantener el resto de columnas."
   ]
  },
  {
   "cell_type": "code",
   "execution_count": null,
   "metadata": {},
   "outputs": [],
   "source": [
    "nba_df[nba_df['Age'] <= 25]"
   ]
  },
  {
   "cell_type": "markdown",
   "metadata": {},
   "source": [
    "¿Qué pasaría si nos interesa que alguna otra condición también se cumpliera de manera simultánea? Por ejemplo, que `Age<=25` y que `Team==\"Boston Celtics`"
   ]
  },
  {
   "cell_type": "code",
   "execution_count": null,
   "metadata": {},
   "outputs": [],
   "source": [
    "nba_df[\n",
    "    (nba_df['Age']<=25) \n",
    "    & (nba_df['Team']==\"Boston Celtics\")\n",
    "]"
   ]
  },
  {
   "cell_type": "markdown",
   "metadata": {},
   "source": [
    "¿Qué pasaría si nos interesaría que al menos alguna de las condiciones se cumpliera? Por ejemplo, que la primera letra de su nombre sea \"A\" o \"B\" "
   ]
  },
  {
   "cell_type": "code",
   "execution_count": null,
   "metadata": {},
   "outputs": [],
   "source": [
    "nba_df[\n",
    "    (nba_df['Name'].str[0].str.lower()==\"a\") \n",
    "    | (nba_df['Name'].str[0].str.lower()==\"b\")\n",
    "].head()"
   ]
  },
  {
   "cell_type": "markdown",
   "metadata": {},
   "source": [
    "### isin()\n",
    "\n",
    "El método [`.isin()`](https://pandas.pydata.org/pandas-docs/stable/reference/api/pandas.DataFrame.isin.html) es una mejor alternativa."
   ]
  },
  {
   "cell_type": "code",
   "execution_count": null,
   "metadata": {},
   "outputs": [],
   "source": [
    "nba_df[\n",
    "    nba_df['Name'].str[0].str.lower().isin(['a','b'])\n",
    "].head()"
   ]
  },
  {
   "cell_type": "markdown",
   "metadata": {},
   "source": [
    "### isnull()\n",
    "\n",
    "Vamos cómo filtrar datos nulos."
   ]
  },
  {
   "cell_type": "code",
   "execution_count": null,
   "metadata": {
    "scrolled": true
   },
   "outputs": [],
   "source": [
    "nba_df[nba_df['Age'].isnull()]"
   ]
  },
  {
   "cell_type": "markdown",
   "metadata": {},
   "source": [
    "Todos los registros con al menos un valor nulo en cualquiera de sus columnas."
   ]
  },
  {
   "cell_type": "code",
   "execution_count": null,
   "metadata": {},
   "outputs": [],
   "source": [
    "nba_df = pd.read_csv(\"./Data/pandas/nba.csv\")"
   ]
  },
  {
   "cell_type": "code",
   "execution_count": null,
   "metadata": {},
   "outputs": [],
   "source": [
    "nba_df[nba_df.notnull().prod(axis = 1)<1]"
   ]
  },
  {
   "cell_type": "markdown",
   "metadata": {},
   "source": [
    "¿Cómo contamos los valores nulos por columna?"
   ]
  },
  {
   "cell_type": "code",
   "execution_count": null,
   "metadata": {},
   "outputs": [],
   "source": [
    "pd.DataFrame(nba_df.isnull().sum(axis = 0).sort_values(ascending = False)).reset_index()"
   ]
  },
  {
   "cell_type": "markdown",
   "metadata": {},
   "source": [
    "### between()\n",
    "\n",
    "Filtrar aquellos registros con un valor entre dos números[`.between()`](https://pandas.pydata.org/pandas-docs/stable/reference/api/pandas.Series.between.html)."
   ]
  },
  {
   "cell_type": "code",
   "execution_count": null,
   "metadata": {},
   "outputs": [],
   "source": [
    "nba_df[nba_df['Age'].between(25,27)]"
   ]
  },
  {
   "cell_type": "markdown",
   "metadata": {},
   "source": [
    "### query()\n",
    "\n",
    "El método [`.query()`](https://pandas.pydata.org/pandas-docs/stable/reference/api/pandas.DataFrame.query.html) nos permite filtrar usando una condición codificada en formato `str`.\n",
    "\n",
    "Veamos cómo usarlo:"
   ]
  },
  {
   "cell_type": "code",
   "execution_count": null,
   "metadata": {},
   "outputs": [],
   "source": [
    "nba_df.query(\"Team == 'Boston Celtics'\").head()"
   ]
  },
  {
   "cell_type": "markdown",
   "metadata": {},
   "source": [
    "Pero el verdadero valor del método `.query()` viene por la opción de llegar a filtrar usando variables."
   ]
  },
  {
   "cell_type": "code",
   "execution_count": null,
   "metadata": {},
   "outputs": [],
   "source": [
    "col = \"Team\"\n",
    "value = 'Boston Celtics'\n",
    "\n",
    "nba_df.query(f\"{col} == '{value}'\").head()"
   ]
  },
  {
   "cell_type": "code",
   "execution_count": null,
   "metadata": {},
   "outputs": [],
   "source": []
  }
 ],
 "metadata": {
  "kernelspec": {
   "display_name": "Python 3 (ipykernel)",
   "language": "python",
   "name": "python3"
  },
  "language_info": {
   "codemirror_mode": {
    "name": "ipython",
    "version": 3
   },
   "file_extension": ".py",
   "mimetype": "text/x-python",
   "name": "python",
   "nbconvert_exporter": "python",
   "pygments_lexer": "ipython3",
   "version": "3.11.6"
  }
 },
 "nbformat": 4,
 "nbformat_minor": 4
}

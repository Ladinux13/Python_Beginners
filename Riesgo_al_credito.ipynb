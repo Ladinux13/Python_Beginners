{
 "cells": [
  {
   "cell_type": "markdown",
   "metadata": {},
   "source": [
    "---"
   ]
  },
  {
   "cell_type": "markdown",
   "metadata": {},
   "source": [
    "## Informe de análisis de riesgo de crédito\n",
    "\n",
    "\n",
    "El riesgo de crédito plantea un problema de clasificación que está inherentemente desequilibrado. Esto se debe a que los préstamos buenos superan fácilmente el número de préstamos arriesgados. En este ejercicio, usarás los diferentes algoritmos para entrenar y evaluar modelos con clases desequilibradas. \n",
    "\n",
    "Utilizaras un conjunto de datos de la actividad histórica de préstamos de una empresa de servicios de préstamos para construir un modelo que pueda identificar la solvencia de las personas que solicitan un credito."
   ]
  },
  {
   "cell_type": "markdown",
   "metadata": {},
   "source": [
    "---"
   ]
  },
  {
   "cell_type": "markdown",
   "metadata": {},
   "source": [
    "Usaras la base de datos Credito.csv, que contiene las dimensiones: \n",
    "\n",
    "0. tamaño del prestamo (loan_size)\n",
    "1. tasa de interés (interest_rate)\n",
    "2. ingresos del prestatario (borrower_income)\n",
    "3. deuda a ingresos (debt_to_income)\n",
    "4. número de cuentas (num_of_accounts)\n",
    "5. marcas despectivas (derogatory_marks)\n",
    "6. deuda total (total_debt)\n",
    "7. estado del préstamo (loan_status)\n",
    "\n",
    "\n",
    "La columna loan_status contiene 0 o 1, donde 0 significa que el préstamo está en buen estado y 1 significa que el préstamo tiene un alto riesgo de incumplimiento."
   ]
  },
  {
   "cell_type": "markdown",
   "metadata": {},
   "source": [
    "---"
   ]
  },
  {
   "cell_type": "markdown",
   "metadata": {},
   "source": [
    "### Instrucciones Generales\n",
    "\n",
    "0. Hacer un análisis exploratorio de la información con intepretación\n",
    "\n",
    "1. Crear diferentes modelos de clasificación con el fin de comparar sus resultados bajo competencias de rendimiento.\n",
    "\n",
    "2. Calculé la puntuación de precisión de cada modelo\n",
    "\n",
    "3. Generé las matrices de confusión para cada modelo\n",
    "\n",
    "4. Para cada modelo obtener el informe de clasificación y generar una interpretación."
   ]
  },
  {
   "cell_type": "markdown",
   "metadata": {},
   "source": [
    "---"
   ]
  },
  {
   "cell_type": "markdown",
   "metadata": {},
   "source": [
    "Dentro de tu análisis exploratorio de la información, podras darte cuenta de un problema , existe un desbalance de clases, por lo que es necesario corregirlo, existen muchos formas para llevar a cabo la corrección, a continuación se te presenta una forma:"
   ]
  },
  {
   "cell_type": "code",
   "execution_count": null,
   "metadata": {},
   "outputs": [],
   "source": [
    "# Importar el módulo RandomOverSampler desde aprendizaje desequilibrado\n",
    "from imblearn.over_sampling import RandomOverSampler\n",
    "\n",
    "# Crear una instancia del modelo de sobremuestreador aleatorio\n",
    "# # Asigne un parámetro random_state de 1 al modelo\n",
    "random_oversampler_model = RandomOverSampler(random_state=1)\n",
    "\n",
    "# Ajustar los datos de entrenamiento originales al modelo random_oversampler\n",
    "ro_model = random_oversampler_model.fit(X_train, y_train)\n",
    "\n",
    "# Cuente los distintos valores de los datos de las etiquetas remuestreadas\n",
    "# Generar los datos remuestreados utilizando el modelo de sobremuestreador aleatorio entrenado\n",
    "X_resampled, y_resampled = ro_model.fit_resample(X_train, y_train)\n",
    "\n",
    "# Cuente los distintos valores de los datos de las etiquetas remuestreadas\n",
    "unique_values, counts = np.unique(y_resampled, return_counts=True)\n",
    "print(\"Resampled Labels: \", unique_values)\n",
    "print(\"Label Counts: \", counts)"
   ]
  },
  {
   "cell_type": "markdown",
   "metadata": {},
   "source": [
    "---"
   ]
  },
  {
   "cell_type": "markdown",
   "metadata": {},
   "source": [
    "### Instrucciones secundarias\n",
    "\n",
    "> Volver a evaluar los modelos propuestos con la correción del desbalance (es decir ahora usaras X_resampled, y_resampled, para en aprendizaje)\n",
    "\n",
    "** Finalmenre, discutir ambos resultados y generar una inteprretación de ambos resultados\n"
   ]
  }
 ],
 "metadata": {
  "kernelspec": {
   "display_name": "base",
   "language": "python",
   "name": "python3"
  },
  "language_info": {
   "codemirror_mode": {
    "name": "ipython",
    "version": 3
   },
   "file_extension": ".py",
   "mimetype": "text/x-python",
   "name": "python",
   "nbconvert_exporter": "python",
   "pygments_lexer": "ipython3",
   "version": "3.9.13"
  }
 },
 "nbformat": 4,
 "nbformat_minor": 4
}

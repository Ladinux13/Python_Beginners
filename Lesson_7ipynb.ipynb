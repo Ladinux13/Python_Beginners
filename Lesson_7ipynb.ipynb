{
 "cells": [
  {
   "cell_type": "code",
   "execution_count": 1,
   "metadata": {
    "collapsed": true
   },
   "outputs": [],
   "source": [
    "# 3.3: Grouping, Aggregation and Pivot Tables\n",
    "import pandas as pd"
   ]
  },
  {
   "cell_type": "code",
   "execution_count": 2,
   "metadata": {
    "collapsed": true
   },
   "outputs": [],
   "source": [
    "# 3.3.1: Grouping and Aggregation"
   ]
  },
  {
   "cell_type": "code",
   "execution_count": 3,
   "metadata": {},
   "outputs": [
    {
     "name": "stdout",
     "output_type": "stream",
     "text": [
      "   claims gender  rate\n",
      "0    4500      m  5000\n",
      "1    5000      m  5500\n",
      "2    5500      f  6000\n",
      "<pandas.core.groupby.DataFrameGroupBy object at 0x110ed20b8>\n",
      "<class 'pandas.core.groupby.DataFrameGroupBy'>\n"
     ]
    }
   ],
   "source": [
    "# 3.3.1.1: Grouping\n",
    "df = pd.DataFrame({'gender': ['m', 'm', 'f'], 'rate': [5000, 5500, 6000], 'claims': [4500, 5000, 5500]})\n",
    "print(df)\n",
    "df_grouped = df.groupby(['gender']) # can group by multiple columns in list\n",
    "print(df_grouped)\n",
    "print(type(df_grouped))"
   ]
  },
  {
   "cell_type": "code",
   "execution_count": 4,
   "metadata": {},
   "outputs": [
    {
     "name": "stdout",
     "output_type": "stream",
     "text": [
      "Mean:\n",
      "        claims  rate\n",
      "gender              \n",
      "f         5500  6000\n",
      "m         4750  5250\n",
      "Sum:\n",
      "gender\n",
      "f    5500\n",
      "m    9500\n",
      "Name: claims, dtype: int64\n",
      "Count:\n",
      "        claims  rate\n",
      "gender              \n",
      "f            1     1\n",
      "m            2     2\n"
     ]
    }
   ],
   "source": [
    "# 3.3.1.2: Standard Aggregation - use if possible due to performance\n",
    "print('Mean:')\n",
    "print(df_grouped.mean()) # applies the function to every column in the data frame\n",
    "print('Sum:')\n",
    "print(df_grouped['claims'].sum()) # can run on only a subset of columns\n",
    "print('Count:')\n",
    "print(df_grouped.count())"
   ]
  },
  {
   "cell_type": "code",
   "execution_count": 5,
   "metadata": {
    "collapsed": true
   },
   "outputs": [],
   "source": [
    "# 3.3.1.3: Custom Aggregation\n",
    "charges = pd.DataFrame({'patient': ['1234', '1234', '1235', '1235', '1235'],\n",
    "                        'hospital': ['memorial', 'memorial', 'community', 'community', 'community'],\n",
    "                       'charge': [100, 200, 500, 10, 600],\n",
    "                      'rev_code': ['0300-lab', '0350-CT', '0610-MRI','0300-lab', '0450-ER']})    "
   ]
  },
  {
   "cell_type": "code",
   "execution_count": 6,
   "metadata": {},
   "outputs": [
    {
     "name": "stdout",
     "output_type": "stream",
     "text": [
      "{'1234': Int64Index([0, 1], dtype='int64'), '1235': Int64Index([2, 3, 4], dtype='int64')}\n"
     ]
    }
   ],
   "source": [
    "#find the revenue code with the most charges for each patient\n",
    "charges_grouped = charges.groupby('patient') # use the levels argument with multiple indices\n",
    "print(charges_grouped.groups) # .groups property of a groupby object returns a dictionary \n",
    "                              # with the unique groups as keys and group indices as values"
   ]
  },
  {
   "cell_type": "code",
   "execution_count": 7,
   "metadata": {},
   "outputs": [
    {
     "data": {
      "text/html": [
       "<div>\n",
       "<style>\n",
       "    .dataframe thead tr:only-child th {\n",
       "        text-align: right;\n",
       "    }\n",
       "\n",
       "    .dataframe thead th {\n",
       "        text-align: left;\n",
       "    }\n",
       "\n",
       "    .dataframe tbody tr th {\n",
       "        vertical-align: top;\n",
       "    }\n",
       "</style>\n",
       "<table border=\"1\" class=\"dataframe\">\n",
       "  <thead>\n",
       "    <tr style=\"text-align: right;\">\n",
       "      <th></th>\n",
       "      <th>charge</th>\n",
       "    </tr>\n",
       "    <tr>\n",
       "      <th>patient</th>\n",
       "      <th></th>\n",
       "    </tr>\n",
       "  </thead>\n",
       "  <tbody>\n",
       "    <tr>\n",
       "      <th>1234</th>\n",
       "      <td>300</td>\n",
       "    </tr>\n",
       "    <tr>\n",
       "      <th>1235</th>\n",
       "      <td>1110</td>\n",
       "    </tr>\n",
       "  </tbody>\n",
       "</table>\n",
       "</div>"
      ],
      "text/plain": [
       "         charge\n",
       "patient        \n",
       "1234        300\n",
       "1235       1110"
      ]
     },
     "execution_count": 7,
     "metadata": {},
     "output_type": "execute_result"
    }
   ],
   "source": [
    "charges_grouped.aggregate({'charge': sum})  # can use shortcut agg function"
   ]
  },
  {
   "cell_type": "code",
   "execution_count": 8,
   "metadata": {
    "collapsed": true
   },
   "outputs": [],
   "source": [
    "def largest_rev_code(x): # assume that x is a sub-data frame\n",
    "    max_index = x.charge.idxmax() # idxmax function returns index of maximum value\n",
    "    return x.loc[max_index, 'rev_code'] # the value of the row at the index with maximum value is returned"
   ]
  },
  {
   "cell_type": "code",
   "execution_count": 9,
   "metadata": {},
   "outputs": [
    {
     "name": "stdout",
     "output_type": "stream",
     "text": [
      "0350-CT\n",
      "0450-ER\n"
     ]
    }
   ],
   "source": [
    "for group, group_df in charges_grouped: # loop style of iteration through groups\n",
    "    print(largest_rev_code(group_df))"
   ]
  },
  {
   "cell_type": "code",
   "execution_count": 10,
   "metadata": {},
   "outputs": [
    {
     "data": {
      "text/html": [
       "<div>\n",
       "<style>\n",
       "    .dataframe thead tr:only-child th {\n",
       "        text-align: right;\n",
       "    }\n",
       "\n",
       "    .dataframe thead th {\n",
       "        text-align: left;\n",
       "    }\n",
       "\n",
       "    .dataframe tbody tr th {\n",
       "        vertical-align: top;\n",
       "    }\n",
       "</style>\n",
       "<table border=\"1\" class=\"dataframe\">\n",
       "  <thead>\n",
       "    <tr style=\"text-align: right;\">\n",
       "      <th></th>\n",
       "      <th>charge</th>\n",
       "      <th>hospital</th>\n",
       "      <th>rev_code</th>\n",
       "    </tr>\n",
       "    <tr>\n",
       "      <th>patient</th>\n",
       "      <th></th>\n",
       "      <th></th>\n",
       "      <th></th>\n",
       "    </tr>\n",
       "  </thead>\n",
       "  <tbody>\n",
       "    <tr>\n",
       "      <th>1234</th>\n",
       "      <td>0350-CT</td>\n",
       "      <td>0350-CT</td>\n",
       "      <td>0350-CT</td>\n",
       "    </tr>\n",
       "    <tr>\n",
       "      <th>1235</th>\n",
       "      <td>0450-ER</td>\n",
       "      <td>0450-ER</td>\n",
       "      <td>0450-ER</td>\n",
       "    </tr>\n",
       "  </tbody>\n",
       "</table>\n",
       "</div>"
      ],
      "text/plain": [
       "          charge hospital rev_code\n",
       "patient                           \n",
       "1234     0350-CT  0350-CT  0350-CT\n",
       "1235     0450-ER  0450-ER  0450-ER"
      ]
     },
     "execution_count": 10,
     "metadata": {},
     "output_type": "execute_result"
    }
   ],
   "source": [
    "charges_grouped.aggregate(largest_rev_code) # functional style of iteration through groups"
   ]
  },
  {
   "cell_type": "code",
   "execution_count": 11,
   "metadata": {},
   "outputs": [
    {
     "data": {
      "text/html": [
       "<div>\n",
       "<style>\n",
       "    .dataframe thead tr:only-child th {\n",
       "        text-align: right;\n",
       "    }\n",
       "\n",
       "    .dataframe thead th {\n",
       "        text-align: left;\n",
       "    }\n",
       "\n",
       "    .dataframe tbody tr th {\n",
       "        vertical-align: top;\n",
       "    }\n",
       "</style>\n",
       "<table border=\"1\" class=\"dataframe\">\n",
       "  <thead>\n",
       "    <tr>\n",
       "      <th></th>\n",
       "      <th colspan=\"2\" halign=\"left\">sum</th>\n",
       "      <th colspan=\"2\" halign=\"left\">len</th>\n",
       "    </tr>\n",
       "    <tr>\n",
       "      <th></th>\n",
       "      <th colspan=\"2\" halign=\"left\">charge</th>\n",
       "      <th colspan=\"2\" halign=\"left\">charge</th>\n",
       "    </tr>\n",
       "    <tr>\n",
       "      <th>hospital</th>\n",
       "      <th>community</th>\n",
       "      <th>memorial</th>\n",
       "      <th>community</th>\n",
       "      <th>memorial</th>\n",
       "    </tr>\n",
       "    <tr>\n",
       "      <th>patient</th>\n",
       "      <th></th>\n",
       "      <th></th>\n",
       "      <th></th>\n",
       "      <th></th>\n",
       "    </tr>\n",
       "  </thead>\n",
       "  <tbody>\n",
       "    <tr>\n",
       "      <th>1234</th>\n",
       "      <td>NaN</td>\n",
       "      <td>300.0</td>\n",
       "      <td>NaN</td>\n",
       "      <td>2.0</td>\n",
       "    </tr>\n",
       "    <tr>\n",
       "      <th>1235</th>\n",
       "      <td>1110.0</td>\n",
       "      <td>NaN</td>\n",
       "      <td>3.0</td>\n",
       "      <td>NaN</td>\n",
       "    </tr>\n",
       "  </tbody>\n",
       "</table>\n",
       "</div>"
      ],
      "text/plain": [
       "               sum                len         \n",
       "            charge             charge         \n",
       "hospital community memorial community memorial\n",
       "patient                                       \n",
       "1234           NaN    300.0       NaN      2.0\n",
       "1235        1110.0      NaN       3.0      NaN"
      ]
     },
     "execution_count": 11,
     "metadata": {},
     "output_type": "execute_result"
    }
   ],
   "source": [
    "# 3.3.2.1: Pivot Tables\n",
    "# index and columns are for dimensions, values is for measures and aggfunc is the aggregation function applied to the measure\n",
    "pvt = charges.pivot_table(index=['patient'], columns=['hospital'], values=['charge'], aggfunc=[sum, len])\n",
    "pvt"
   ]
  },
  {
   "cell_type": "code",
   "execution_count": 12,
   "metadata": {},
   "outputs": [
    {
     "data": {
      "text/html": [
       "<div>\n",
       "<style>\n",
       "    .dataframe thead tr:only-child th {\n",
       "        text-align: right;\n",
       "    }\n",
       "\n",
       "    .dataframe thead th {\n",
       "        text-align: left;\n",
       "    }\n",
       "\n",
       "    .dataframe tbody tr th {\n",
       "        vertical-align: top;\n",
       "    }\n",
       "</style>\n",
       "<table border=\"1\" class=\"dataframe\">\n",
       "  <thead>\n",
       "    <tr>\n",
       "      <th></th>\n",
       "      <th colspan=\"2\" halign=\"left\">sum</th>\n",
       "      <th colspan=\"2\" halign=\"left\">len</th>\n",
       "    </tr>\n",
       "    <tr>\n",
       "      <th></th>\n",
       "      <th colspan=\"2\" halign=\"left\">charge</th>\n",
       "      <th colspan=\"2\" halign=\"left\">charge</th>\n",
       "    </tr>\n",
       "    <tr>\n",
       "      <th>hospital</th>\n",
       "      <th>community</th>\n",
       "      <th>memorial</th>\n",
       "      <th>community</th>\n",
       "      <th>memorial</th>\n",
       "    </tr>\n",
       "    <tr>\n",
       "      <th>patient</th>\n",
       "      <th></th>\n",
       "      <th></th>\n",
       "      <th></th>\n",
       "      <th></th>\n",
       "    </tr>\n",
       "  </thead>\n",
       "  <tbody>\n",
       "    <tr>\n",
       "      <th>1234</th>\n",
       "      <td>0.0</td>\n",
       "      <td>300.0</td>\n",
       "      <td>0.0</td>\n",
       "      <td>2.0</td>\n",
       "    </tr>\n",
       "    <tr>\n",
       "      <th>1235</th>\n",
       "      <td>1110.0</td>\n",
       "      <td>0.0</td>\n",
       "      <td>3.0</td>\n",
       "      <td>0.0</td>\n",
       "    </tr>\n",
       "  </tbody>\n",
       "</table>\n",
       "</div>"
      ],
      "text/plain": [
       "               sum                len         \n",
       "            charge             charge         \n",
       "hospital community memorial community memorial\n",
       "patient                                       \n",
       "1234           0.0    300.0       0.0      2.0\n",
       "1235        1110.0      0.0       3.0      0.0"
      ]
     },
     "execution_count": 12,
     "metadata": {},
     "output_type": "execute_result"
    }
   ],
   "source": [
    "pvt.fillna(0) # manage the NaN's by filling as $0"
   ]
  },
  {
   "cell_type": "code",
   "execution_count": null,
   "metadata": {
    "collapsed": true
   },
   "outputs": [],
   "source": []
  }
 ],
 "metadata": {
  "kernelspec": {
   "display_name": "Python 3",
   "language": "python",
   "name": "python3"
  },
  "language_info": {
   "codemirror_mode": {
    "name": "ipython",
    "version": 3
   },
   "file_extension": ".py",
   "mimetype": "text/x-python",
   "name": "python",
   "nbconvert_exporter": "python",
   "pygments_lexer": "ipython3",
   "version": "3.6.2"
  }
 },
 "nbformat": 4,
 "nbformat_minor": 2
}

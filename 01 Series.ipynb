{
 "cells": [
  {
   "cell_type": "markdown",
   "metadata": {},
   "source": [
    "# Series\n",
    "\n",
    "Objetivos de Aprendizaje\n",
    "\n",
    "1. ¿Qué es una serie?\n",
    "2. ¿Cómo crear una serie?\n",
    "3. Series vs Listas\n",
    "    - Atributos\n",
    "    - Métodos\n",
    "    - Filtros\n",
    "\n",
    "## ¿Qué es una serie?\n",
    "\n",
    "En esta lección veremos una descripción general de uno de los dos tipos de estructuras disponibles en Pandas, las Series.\n",
    "\n",
    "Las [Series](https://pandas.pydata.org/docs/reference/series.html) son una matriz etiquetada y unidimensional (~lista) capaz de contener cualquier tipo de datos (enteros, cadenas de texto, número de punto flotante, etc.). Las etiquetas suelen denominarse índices.\n",
    "\n",
    "> **Principio básico de Pandas**: La alineación entre datos e índices es intrínseca a las, i.e. el vínculo entre los índices y los datos no se romperá a menos que el usuario lo haga explícitamente.\n",
    "\n",
    "Antes de iniciar importaremos los paquetes necesarios\n"
   ]
  },
  {
   "cell_type": "code",
   "execution_count": null,
   "metadata": {},
   "outputs": [],
   "source": [
    "import numpy as np\n",
    "import pandas as pd"
   ]
  },
  {
   "cell_type": "markdown",
   "metadata": {},
   "source": [
    "## ¿Cómo crear una Serie?\n",
    "\n",
    "Para crear una Serie en Pandas, es necesario hacer uso de su [constructor](https://pandas.pydata.org/docs/reference/api/pandas.Series.html#pandas.Series):\n",
    "\n",
    "```python\n",
    "\n",
    "s = pd.Series(data, index)\n",
    "\n",
    "```\n",
    "\n",
    "Dónde: \n",
    "\n",
    "1. `data`: Se refiere a los datos que serán almacenados en la Serie, pueden ser en la forma de una lista, dict, np.array.\n",
    "    \n",
    "2. `index`: Las etiquetas que estarán emparejadas con los datos, tienen que ser un vector unidimensional.\n",
    "\n",
    "El resto de parámetro son opcionales.\n",
    "\n",
    "Veamos un par de ejemplos:"
   ]
  },
  {
   "cell_type": "code",
   "execution_count": null,
   "metadata": {},
   "outputs": [],
   "source": [
    "# Desde una lista de datos e índices\n",
    "data = [1, 2, 3, 4, 5]\n",
    "index = [\"a\", \"b\", \"c\", \"e\", \"f\"]\n",
    "\n",
    "s = pd.Series(data, index)\n",
    "\n",
    "s"
   ]
  },
  {
   "cell_type": "code",
   "execution_count": null,
   "metadata": {},
   "outputs": [],
   "source": [
    "# Desde diccionario\n",
    "d = {\"a\": 1, \"b\": 2, \"c\": 3}\n",
    "s = pd.Series(d)\n",
    "s"
   ]
  },
  {
   "cell_type": "code",
   "execution_count": null,
   "metadata": {
    "scrolled": true
   },
   "outputs": [],
   "source": [
    "# Desde un np.array()\n",
    "serie_1 = pd.Series(np.random.randn(40)) \n",
    "\n",
    "serie_2 = pd.Series(map(lambda x: x*np.random.rand() ,range(40)))\n",
    "\n",
    "# Podemos acceder a sus datos, tal y como se se tratara de una lista\n",
    "serie_2[:4]"
   ]
  },
  {
   "cell_type": "code",
   "execution_count": null,
   "metadata": {
    "scrolled": true
   },
   "outputs": [],
   "source": [
    "# También podemos acceder a los datos tal y como si se tratara de un dict \n",
    "s[\"a\"]"
   ]
  },
  {
   "cell_type": "markdown",
   "metadata": {},
   "source": [
    "> **Nota**: En la mayoría de las situaciones estaremos creando Series desde un archivo externo, por ejemplo un *.csv "
   ]
  },
  {
   "cell_type": "code",
   "execution_count": null,
   "metadata": {},
   "outputs": [],
   "source": [
    "%%writefile ejemplo.csv\n",
    "\"a\"\n",
    "\"b\"\n",
    "\"c\"\n",
    "\"d\""
   ]
  },
  {
   "cell_type": "code",
   "execution_count": null,
   "metadata": {},
   "outputs": [],
   "source": [
    "pd.read_csv(\"ejemplo.csv\").squeeze(\"columns\")"
   ]
  },
  {
   "cell_type": "markdown",
   "metadata": {},
   "source": [
    "Todo esto es interesante, pero...\n",
    "\n",
    "## Series vs Listas\n",
    "\n",
    "Al igual que las listas, una serie es una abstracción de una estructura de datos. En este sentido una serie es más conveniente por las funcionalidades que añade en comparación con las listas.\n",
    "\n",
    "Primero crearemos una serie a partir de número generados aletoriamente desde una distribución [normal estándar](https://es.wikipedia.org/wiki/Tabla_normal_est%C3%A1ndar)."
   ]
  },
  {
   "cell_type": "code",
   "execution_count": null,
   "metadata": {},
   "outputs": [],
   "source": [
    "serie = pd.Series(np.random.randn(5000))"
   ]
  },
  {
   "cell_type": "code",
   "execution_count": null,
   "metadata": {},
   "outputs": [],
   "source": [
    "serie"
   ]
  },
  {
   "cell_type": "markdown",
   "metadata": {},
   "source": [
    "### Atributos\n",
    "\n",
    "En esta sección revisaremos algunos de los atributos más comunes."
   ]
  },
  {
   "cell_type": "code",
   "execution_count": null,
   "metadata": {},
   "outputs": [],
   "source": [
    "# Tipo de datos que almacena\n",
    "serie.dtype"
   ]
  },
  {
   "cell_type": "code",
   "execution_count": null,
   "metadata": {},
   "outputs": [],
   "source": [
    "# Número de elementos\n",
    "serie.size"
   ]
  },
  {
   "cell_type": "code",
   "execution_count": null,
   "metadata": {},
   "outputs": [],
   "source": [
    "# Regresa en forma de array los datos de una Serie\n",
    "serie.values"
   ]
  },
  {
   "cell_type": "code",
   "execution_count": null,
   "metadata": {},
   "outputs": [],
   "source": [
    "# acceder a los índices de una Serie\n",
    "serie.index"
   ]
  },
  {
   "cell_type": "markdown",
   "metadata": {},
   "source": [
    "### Métodos\n",
    "\n",
    "En esta sección veremos algunos de los métodos más comunes y útiles de Pandas\n",
    "\n",
    "#### .head() & .tail()"
   ]
  },
  {
   "cell_type": "code",
   "execution_count": null,
   "metadata": {},
   "outputs": [],
   "source": [
    "serie.head()"
   ]
  },
  {
   "cell_type": "code",
   "execution_count": null,
   "metadata": {},
   "outputs": [],
   "source": [
    "serie.tail(2)"
   ]
  },
  {
   "cell_type": "markdown",
   "metadata": {},
   "source": [
    "#### .sort_values()\n",
    "\n",
    "Sirve para ordenar de manera descendente o ascendente los valores de una serie.\n",
    "\n",
    "El método contiene varios parámetros que puedes explorar [aquí](https://pandas.pydata.org/docs/reference/api/pandas.Series.sort_values.html#pandas.Series.sort_values), pero de un inicio es importante hacer referencia en dos de ellos:\n",
    "\n",
    "1. ascending: `True` (valor por defecto) / `False`.\n",
    "    Indica si ordenaremos de manera ascendente o descendente.\n",
    "    \n",
    "2. inplace: `True` / `False` (valor por defecto).\n",
    "    Indica si la operación modificará o no permanentemente a la Serie.\n",
    "\n",
    "Veamos un ejemplo:"
   ]
  },
  {
   "cell_type": "code",
   "execution_count": null,
   "metadata": {},
   "outputs": [],
   "source": [
    "serie.sort_values().head()"
   ]
  },
  {
   "cell_type": "code",
   "execution_count": null,
   "metadata": {},
   "outputs": [],
   "source": [
    "serie.head()"
   ]
  },
  {
   "cell_type": "code",
   "execution_count": null,
   "metadata": {},
   "outputs": [],
   "source": [
    "serie.sort_values(ascending = False, inplace = True)"
   ]
  },
  {
   "cell_type": "code",
   "execution_count": null,
   "metadata": {},
   "outputs": [],
   "source": [
    "serie"
   ]
  },
  {
   "cell_type": "markdown",
   "metadata": {},
   "source": [
    "> Si el parámetro `inplace = True` la respuesta es `None`"
   ]
  },
  {
   "cell_type": "markdown",
   "metadata": {},
   "source": [
    "#### .sort_index() \n",
    "\n",
    "Ordenar la Serie usando los índices.\n",
    "\n",
    "El método contiene varios parámetros que puedes explorar [aquí](https://pandas.pydata.org/docs/reference/api/pandas.Series.sort_index.html)."
   ]
  },
  {
   "cell_type": "code",
   "execution_count": null,
   "metadata": {},
   "outputs": [],
   "source": [
    "serie.sort_index()"
   ]
  },
  {
   "cell_type": "code",
   "execution_count": null,
   "metadata": {},
   "outputs": [],
   "source": [
    "serie.head()"
   ]
  },
  {
   "cell_type": "code",
   "execution_count": null,
   "metadata": {},
   "outputs": [],
   "source": [
    "serie.sort_index(inplace = True)"
   ]
  },
  {
   "cell_type": "code",
   "execution_count": null,
   "metadata": {},
   "outputs": [],
   "source": [
    "serie"
   ]
  },
  {
   "cell_type": "markdown",
   "metadata": {},
   "source": [
    "#### .apply()\n",
    "\n",
    "Aplica una función a los valores de una serie.\n",
    "\n",
    "**Función simple**"
   ]
  },
  {
   "cell_type": "code",
   "execution_count": null,
   "metadata": {},
   "outputs": [],
   "source": [
    "def pos_neg(valor: float) -> str:\n",
    "    \n",
    "    if valor>= 0:\n",
    "        return \"Positivo\"\n",
    "    else:\n",
    "        return \"Negativo\"\n",
    "    "
   ]
  },
  {
   "cell_type": "code",
   "execution_count": null,
   "metadata": {},
   "outputs": [],
   "source": [
    "serie.head()"
   ]
  },
  {
   "cell_type": "code",
   "execution_count": null,
   "metadata": {},
   "outputs": [],
   "source": [
    "serie.apply(pos_neg).head()"
   ]
  },
  {
   "cell_type": "markdown",
   "metadata": {},
   "source": [
    "**Función con parámetros**"
   ]
  },
  {
   "cell_type": "code",
   "execution_count": null,
   "metadata": {},
   "outputs": [],
   "source": [
    "def restar_valor(valor: float, r: float) -> float:\n",
    "    return valor - r"
   ]
  },
  {
   "cell_type": "code",
   "execution_count": null,
   "metadata": {},
   "outputs": [],
   "source": [
    "serie.head()"
   ]
  },
  {
   "cell_type": "code",
   "execution_count": null,
   "metadata": {
    "scrolled": true
   },
   "outputs": [],
   "source": [
    "serie.apply(\n",
    "    restar_valor,\n",
    "    args=(2,)\n",
    ").head()"
   ]
  },
  {
   "cell_type": "markdown",
   "metadata": {},
   "source": [
    "**Funciones lambda**"
   ]
  },
  {
   "cell_type": "code",
   "execution_count": null,
   "metadata": {},
   "outputs": [],
   "source": [
    "serie.apply(lambda x: x ** 2).head()"
   ]
  },
  {
   "cell_type": "code",
   "execution_count": null,
   "metadata": {},
   "outputs": [],
   "source": [
    "serie.apply(lambda x: restar_valor(x, 2)).head()"
   ]
  },
  {
   "cell_type": "markdown",
   "metadata": {},
   "source": [
    "#### Método Numéricos de Reducción"
   ]
  },
  {
   "cell_type": "code",
   "execution_count": null,
   "metadata": {},
   "outputs": [],
   "source": [
    "# Sumar todos los valore\n",
    "serie.sum()"
   ]
  },
  {
   "cell_type": "code",
   "execution_count": null,
   "metadata": {},
   "outputs": [],
   "source": [
    "# Número de registros\n",
    "serie.count()"
   ]
  },
  {
   "cell_type": "code",
   "execution_count": null,
   "metadata": {},
   "outputs": [],
   "source": [
    "# Promedio\n",
    "serie.mean()"
   ]
  },
  {
   "cell_type": "code",
   "execution_count": null,
   "metadata": {},
   "outputs": [],
   "source": [
    "# desviación estándar\n",
    "serie.std()"
   ]
  },
  {
   "cell_type": "code",
   "execution_count": null,
   "metadata": {
    "scrolled": true
   },
   "outputs": [],
   "source": [
    "# Máximo y Mínimo\n",
    "print(serie.min())\n",
    "print(serie.max())"
   ]
  },
  {
   "cell_type": "markdown",
   "metadata": {},
   "source": [
    "También es posible saber cuál es el índice del valor mínimo/máximo mediante el uso del método `.idxmin()`/`.idxmax()`, veamos cómo funciona:"
   ]
  },
  {
   "cell_type": "code",
   "execution_count": null,
   "metadata": {},
   "outputs": [],
   "source": [
    "print(\"El valor mínimo está en la posición (renglón): {}\".format(serie.idxmin()))\n",
    "print(\"El valor mínimo es: {}\".format(serie.iloc[serie.idxmin()]))"
   ]
  },
  {
   "cell_type": "code",
   "execution_count": null,
   "metadata": {},
   "outputs": [],
   "source": [
    "serie.iloc[4528]"
   ]
  },
  {
   "cell_type": "code",
   "execution_count": null,
   "metadata": {},
   "outputs": [],
   "source": [
    "# Mediana\n",
    "serie.median()"
   ]
  },
  {
   "cell_type": "code",
   "execution_count": null,
   "metadata": {},
   "outputs": [],
   "source": [
    "# Resumen estadístico\n",
    "serie.describe()"
   ]
  },
  {
   "cell_type": "markdown",
   "metadata": {},
   "source": [
    "Otro método interesante es `.value_count()`"
   ]
  },
  {
   "cell_type": "code",
   "execution_count": null,
   "metadata": {},
   "outputs": [],
   "source": [
    "serie_enteros = pd.Series(data = np.random.randint(low = 1, high = 10, size = 100000))\n",
    "serie_enteros.head()"
   ]
  },
  {
   "cell_type": "code",
   "execution_count": null,
   "metadata": {},
   "outputs": [],
   "source": [
    "serie_enteros.value_counts()"
   ]
  },
  {
   "cell_type": "code",
   "execution_count": null,
   "metadata": {},
   "outputs": [],
   "source": [
    "serie_enteros.value_counts().sort_index()/serie_enteros.count()"
   ]
  },
  {
   "cell_type": "markdown",
   "metadata": {},
   "source": [
    "#### Vectorización de Operaciones.\n",
    "\n",
    "Cuando trabajamos con Series de vaelores numéricos no es necesario realizar un loop para hacer operaciones valor a valor, podemos aplicar una operación tomando ventaja de los múltiples cores de nuestra computadora."
   ]
  },
  {
   "cell_type": "code",
   "execution_count": null,
   "metadata": {},
   "outputs": [],
   "source": [
    "s1 = pd.Series(data = np.random.uniform(size = 5), index = [\"a\",\"b\",\"c\", \"d\", \"e\"])\n",
    "s1"
   ]
  },
  {
   "cell_type": "code",
   "execution_count": null,
   "metadata": {},
   "outputs": [],
   "source": [
    "s2 = pd.Series(data = np.arange(5), index = [\"e\",\"d\",\"c\", \"b\",\"f\"])\n",
    "s2"
   ]
  },
  {
   "cell_type": "markdown",
   "metadata": {},
   "source": [
    "En este caso podemos ver que las operaciones aritméticas se alinean automáticamente en relación a los índices. Dando lugar a un valor `NaN` (Not a Number) en los sitios en los que sólo existe el índice en sólo una Serie."
   ]
  },
  {
   "cell_type": "code",
   "execution_count": null,
   "metadata": {},
   "outputs": [],
   "source": [
    "s1 + s2"
   ]
  },
  {
   "cell_type": "code",
   "execution_count": null,
   "metadata": {},
   "outputs": [],
   "source": [
    "s1 + 10"
   ]
  },
  {
   "cell_type": "code",
   "execution_count": null,
   "metadata": {},
   "outputs": [],
   "source": [
    "np.exp(s2)"
   ]
  },
  {
   "cell_type": "markdown",
   "metadata": {},
   "source": [
    "#### Filtros\n",
    "\n",
    "También es posible vectorizar condiciones lógicas, para quedarnos sólo con los elementos que cumplan la condición."
   ]
  },
  {
   "cell_type": "code",
   "execution_count": null,
   "metadata": {},
   "outputs": [],
   "source": [
    "serie"
   ]
  },
  {
   "cell_type": "code",
   "execution_count": null,
   "metadata": {},
   "outputs": [],
   "source": [
    "serie>0"
   ]
  },
  {
   "cell_type": "code",
   "execution_count": null,
   "metadata": {
    "scrolled": true
   },
   "outputs": [],
   "source": [
    "serie[serie>0]"
   ]
  },
  {
   "cell_type": "markdown",
   "metadata": {},
   "source": [
    "¿Cómo combinamos operaciones lógicas, i.e. cómo usar `and` y `or`?"
   ]
  },
  {
   "cell_type": "code",
   "execution_count": null,
   "metadata": {},
   "outputs": [],
   "source": [
    "# En este caso, filtraremos sólo los valores más extremos de la distribución normal\n",
    "serie[\n",
    "    (serie > (serie.mean() + 2.95*serie.std())) \n",
    "    | (serie < (serie.mean() - 2.95*serie.std()))\n",
    "]"
   ]
  },
  {
   "cell_type": "code",
   "execution_count": null,
   "metadata": {},
   "outputs": [],
   "source": [
    "import math \n",
    "serie[\n",
    "    (serie.apply(math.trunc) % 2 ==0) \n",
    "    & (serie.apply(math.trunc) > 0)\n",
    "]"
   ]
  }
 ],
 "metadata": {
  "kernelspec": {
   "display_name": "Python 3 (ipykernel)",
   "language": "python",
   "name": "python3"
  },
  "language_info": {
   "codemirror_mode": {
    "name": "ipython",
    "version": 3
   },
   "file_extension": ".py",
   "mimetype": "text/x-python",
   "name": "python",
   "nbconvert_exporter": "python",
   "pygments_lexer": "ipython3",
   "version": "3.11.6"
  }
 },
 "nbformat": 4,
 "nbformat_minor": 4
}
